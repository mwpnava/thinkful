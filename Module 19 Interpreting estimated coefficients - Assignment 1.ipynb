{
 "cells": [
  {
   "cell_type": "markdown",
   "metadata": {},
   "source": [
    "## Assignment 1\n",
    "\n",
    "To close out this checkpoint, you're going to do three assignments. For the first assignment, you'll write up a short answer to a question.  For the second two assignments, you'll do your work in Jupyter notebooks.\n",
    "\n",
    "\n",
    "Please submit links to all your work below. This is not a graded checkpoint, but you should discuss your solutions with your mentor. Also, when you're done, compare your work to [these example solutions](https://github.com/Thinkful-Ed/machine-learning-regression-problems/blob/master/notebooks/4.solution_understanding_the_relationship.ipynb).\n",
    "\n",
    "### 1. Interpretation and significance\n",
    "\n",
    "Suppose that we would like to know how much families in the US are spending on recreation annually. We've estimated the following model:\n",
    "\n",
    "$$ expenditure = 873 + 0.0012annual\\_income + 0.00002annual\\_income^2 - 223.57have\\_kids $$\n",
    "\n",
    "*expenditure* is the annual spending on recreation in US dollars, *annual_income* is the annual income in US dollars, and *have_kids* is a dummy variable indicating the families with children. Interpret the estimated coefficients. What additional statistics should be given in order to make sure that your interpretations make sense statistically. Write up your answer."
   ]
  },
  {
   "cell_type": "markdown",
   "metadata": {},
   "source": [
    "**Interpreting coeficcients**\n",
    "\n",
    "- Holding all other features fixed, a 1 unit increase in annual_income is associated with an increase of 0.0012 expenditure (annual spending on recreation)\n",
    "\n",
    "- Holding all other features fixed, a 1 unit increase in annual_income * annual_income is associated with an increase of 0.00002 expenditure (annual spending on recreation)\n",
    "\n",
    "- Holding all other features fixed, a 1 unit increase in have_kids is associated with a decrease of 223.57 expenditure (annual spending on recreation)\n",
    "\n",
    "\n",
    "**What additional statistics should be given in order to make sure that your interpretations make sense statistically?**\n",
    "\n",
    "In this case, I don't see any interaction between variables to create another one indicating this interaction.\n"
   ]
  },
  {
   "cell_type": "markdown",
   "metadata": {},
   "source": [
    "<font color=gray>\n",
    "-------------------------------------------------------------\n",
    "By: Wendy Navarrete\n",
    "8/12/2019\n",
    "</font>"
   ]
  },
  {
   "cell_type": "code",
   "execution_count": null,
   "metadata": {},
   "outputs": [],
   "source": []
  }
 ],
 "metadata": {
  "kernelspec": {
   "display_name": "Python 3",
   "language": "python",
   "name": "python3"
  },
  "language_info": {
   "codemirror_mode": {
    "name": "ipython",
    "version": 3
   },
   "file_extension": ".py",
   "mimetype": "text/x-python",
   "name": "python",
   "nbconvert_exporter": "python",
   "pygments_lexer": "ipython3",
   "version": "3.7.0"
  }
 },
 "nbformat": 4,
 "nbformat_minor": 2
}
