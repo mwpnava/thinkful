{
 "cells": [
  {
   "cell_type": "markdown",
   "metadata": {},
   "source": [
    "## Module 7 - Basics of Probability - Set 1"
   ]
  },
  {
   "cell_type": "markdown",
   "metadata": {},
   "source": [
    "#### 1. Calculate the probability of flipping a balanced coin four times and getting each pattern: HTTH, HHHH and TTHH."
   ]
  },
  {
   "cell_type": "markdown",
   "metadata": {},
   "source": [
    "P(HTTH) = P(H) * P(T) * P(T) * P(H)\n",
    "\n",
    "P(HTTH) = (.5) * (.5) * (.5) * (.5) \n",
    "\n",
    "P(HTTH) = 0.0625\n",
    "\n",
    "**The probability is 0.0625**\n",
    "\n",
    "Same result for all patterns (HTTH, HHHH and TTHH)\n"
   ]
  },
  {
   "cell_type": "markdown",
   "metadata": {},
   "source": [
    "#### 2. If a list of people has 24 women and 21 men, then the probability of choosing a man from the list is 21/45. What is the probability of not choosing a man?"
   ]
  },
  {
   "cell_type": "markdown",
   "metadata": {},
   "source": [
    "P(H~) = 1 - P(H)\n",
    "\n",
    "P(H~) = (45/45) - (21/45)\n",
    "\n",
    "P(H~) = 24/45\n",
    "\n",
    "The probability of not choosing a man is **24/45**"
   ]
  },
  {
   "cell_type": "markdown",
   "metadata": {},
   "source": [
    "#### 3. The probability that Bernice will travel by plane sometime in the next year is 10%. The probability of a plane crash at any time is .005%. What is the probability that Bernice will be in a plane crash sometime in the next year?"
   ]
  },
  {
   "cell_type": "markdown",
   "metadata": {},
   "source": [
    "P(Plane crash | Bernice travel) = 10% * 0.005% = (0.00005 * 0.1) * 100\n",
    "\n",
    "P(Plane crash | Bernice travel) = 0.000005 * 100\n",
    "\n",
    "The probability that Bernice will be in a plane crash sometime in the next year is **0.0005%**"
   ]
  },
  {
   "cell_type": "markdown",
   "metadata": {},
   "source": [
    "#### 4. A data scientist wants to study the behavior of users on the company website. Each time a user clicks on a link on the website, there is a 5% chance that the user will be asked to complete a short survey about their behavior on the website. The data scientist uses the survey data to conclude that, on average, users spend 15 minutes surfing the company website before moving on to other things. What is wrong with this conclusion?"
   ]
  },
  {
   "cell_type": "markdown",
   "metadata": {},
   "source": [
    "Maybe people who is answering the survey is because they spend more than 15 minutes, the more time surfing a website the more probability to participate in the survey and the data scientist is not taking this factor. "
   ]
  }
 ],
 "metadata": {
  "kernelspec": {
   "display_name": "Python 3",
   "language": "python",
   "name": "python3"
  },
  "language_info": {
   "codemirror_mode": {
    "name": "ipython",
    "version": 3
   },
   "file_extension": ".py",
   "mimetype": "text/x-python",
   "name": "python",
   "nbconvert_exporter": "python",
   "pygments_lexer": "ipython3",
   "version": "3.7.0"
  }
 },
 "nbformat": 4,
 "nbformat_minor": 2
}
