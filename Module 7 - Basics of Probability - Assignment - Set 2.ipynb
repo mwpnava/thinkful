{
 "cells": [
  {
   "cell_type": "markdown",
   "metadata": {},
   "source": [
    "### A diagnostic test has a 98% probability of giving a positive result when applied to a person suffering from Thripshaw's Disease, and 10% probability of giving a (false) positive when applied to a non-sufferer. It is estimated that 0.5 % of the population are sufferers. Suppose that the test is now administered to a person whose disease status is unknown. Calculate the probability that the test will:\n",
    "\n",
    "1. Be positive\n",
    "2. Correctly diagnose a sufferer of Thripshaw's\n",
    "3. Correctly identify a non-sufferer of Thripshaw's\n",
    "4. Misclassify the person\n"
   ]
  },
  {
   "cell_type": "markdown",
   "metadata": {},
   "source": [
    "Consider these:\n",
    "\n",
    "P(positive | disease) = 98% (0.98)\n",
    "P(positive | non-disease) = 10% (0.1)\n",
    "\n",
    "P(disease) = 0.5% (0.005)\n",
    "P(non-disease) = 1 - P(disease) = 99.5% (.995)"
   ]
  },
  {
   "cell_type": "markdown",
   "metadata": {},
   "source": [
    "#### 1. Be positive"
   ]
  },
  {
   "cell_type": "markdown",
   "metadata": {},
   "source": [
    "P(positive) = P(disease) * P(positive | disease) + P(non-disease) * P(positive | non-disease)\n",
    "\n",
    "P(positive) = (0.98 * 0.005) + (.995 * 0.1)\n",
    "\n",
    "P(positive) = 0.0049 + 0.09995 =  0.10485\n",
    "\n",
    "**10.48%**"
   ]
  },
  {
   "cell_type": "markdown",
   "metadata": {},
   "source": [
    "#### 2. Correctly diagnose a sufferer of Thripshaw's\n",
    "\n",
    "   **98%**"
   ]
  },
  {
   "cell_type": "markdown",
   "metadata": {},
   "source": [
    "#### 3. Correctly identify a non-sufferer of Thripshaw's\n",
    "\n",
    "P(negative | non-disease)n = 1 - P(positive | non-disease) = 1 - 0.1 = 0.9\n",
    "\n",
    "**90%**"
   ]
  },
  {
   "cell_type": "markdown",
   "metadata": {},
   "source": [
    "#### 4. Misclassify the person\n",
    "\n",
    "P(Misclassify) = 1 - ( (P(positive | disease) * P(disease)) + ( P(negative | non-disease) * P(non-disease) ))\n",
    "     \n",
    "P(Misclassify) = 1 - ((.98 * 0.005) + ( 0.9 * 0.995)) = 1 - (0.0049 + 0.8955) = 1 - 0.09445 = 0.0996\n",
    "\n",
    "**9.96%**\n",
    "\n",
    "\n",
    "\n",
    "\n"
   ]
  }
 ],
 "metadata": {
  "kernelspec": {
   "display_name": "Python 3",
   "language": "python",
   "name": "python3"
  },
  "language_info": {
   "codemirror_mode": {
    "name": "ipython",
    "version": 3
   },
   "file_extension": ".py",
   "mimetype": "text/x-python",
   "name": "python",
   "nbconvert_exporter": "python",
   "pygments_lexer": "ipython3",
   "version": "3.7.0"
  }
 },
 "nbformat": 4,
 "nbformat_minor": 2
}
