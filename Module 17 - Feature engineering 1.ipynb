{
 "cells": [
  {
   "cell_type": "markdown",
   "metadata": {},
   "source": [
    "## Assignment\n",
    "\n",
    "In this assignment, you'll continue working with the Students Performance in Exams dataset from Kaggle. You should access the data from the Thinkful database. Here's the credentials you can use to connect to the database:\n",
    "\n",
    "postgres_user = 'dsbc_student'<br>\n",
    "postgres_pw = '7\\*.8G9QH21'<br>\n",
    "postgres_host = '142.93.121.174'<br>\n",
    "postgres_port = '5432'<br>\n",
    "postgres_db = 'studentsperformance'<br>\n",
    "\n",
    "To complete this assignment, submit a link to a Jupyter notebook containing your solutions to the following tasks:\n",
    "\n",
    "1. Are the exam score variables normally distributed? If not, apply a Box-Cox transformation. Does anything change?\n",
    "2. Say we want to use a single variable for the exam scores as our target. For this purpose, create a new variable by taking a weighted average of the exam scores. Check whether this new variable is normally distributed. If it's not normally distributed, apply a Box-Cox transformation and check whether or not the transformed variable is normally distributed.\n",
    "3. Which variables seem related to the target variable (the newly created variable in the previous question)? If our goal is to explain the determinants of success in exams, which variables in our dataset might be useful?"
   ]
  },
  {
   "cell_type": "code",
   "execution_count": 81,
   "metadata": {},
   "outputs": [],
   "source": [
    "import pandas as pd\n",
    "import numpy as np\n",
    "import matplotlib.pyplot as plt\n",
    "import seaborn as sns\n",
    "import warnings\n",
    "\n",
    "\n",
    "from scipy.stats import boxcox\n",
    "from scipy.stats import jarque_bera\n",
    "from scipy.stats import normaltest\n",
    "\n",
    "\n",
    "\n",
    "\n",
    "from sqlalchemy import create_engine\n",
    "\n",
    "\n",
    "postgres_user = 'dsbc_student'\n",
    "postgres_pw = '7*.8G9QH21'\n",
    "postgres_host = '142.93.121.174'\n",
    "postgres_port = '5432'\n",
    "postgres_db = 'studentsperformance'\n",
    "\n",
    "engine = create_engine('postgresql://{}:{}@{}:{}/{}'.format(\n",
    "    postgres_user, postgres_pw, postgres_host, postgres_port, postgres_db))\n",
    "\n",
    "performance = pd.read_sql_query('select * from studentsperformance',con=engine)\n",
    "\n",
    "# no need for an open connection, \n",
    "# as we're only doing a single query\n",
    "engine.dispose()"
   ]
  },
  {
   "cell_type": "code",
   "execution_count": 82,
   "metadata": {},
   "outputs": [
    {
     "data": {
      "text/html": [
       "<div>\n",
       "<style scoped>\n",
       "    .dataframe tbody tr th:only-of-type {\n",
       "        vertical-align: middle;\n",
       "    }\n",
       "\n",
       "    .dataframe tbody tr th {\n",
       "        vertical-align: top;\n",
       "    }\n",
       "\n",
       "    .dataframe thead th {\n",
       "        text-align: right;\n",
       "    }\n",
       "</style>\n",
       "<table border=\"1\" class=\"dataframe\">\n",
       "  <thead>\n",
       "    <tr style=\"text-align: right;\">\n",
       "      <th></th>\n",
       "      <th>gender</th>\n",
       "      <th>race/ethnicity</th>\n",
       "      <th>parental_level_of_education</th>\n",
       "      <th>lunch</th>\n",
       "      <th>test_preparation_course</th>\n",
       "      <th>math_score</th>\n",
       "      <th>reading_score</th>\n",
       "      <th>writing_score</th>\n",
       "    </tr>\n",
       "  </thead>\n",
       "  <tbody>\n",
       "    <tr>\n",
       "      <th>0</th>\n",
       "      <td>female</td>\n",
       "      <td>group B</td>\n",
       "      <td>bachelor's degree</td>\n",
       "      <td>standard</td>\n",
       "      <td>none</td>\n",
       "      <td>72</td>\n",
       "      <td>72</td>\n",
       "      <td>74</td>\n",
       "    </tr>\n",
       "    <tr>\n",
       "      <th>1</th>\n",
       "      <td>female</td>\n",
       "      <td>group C</td>\n",
       "      <td>some college</td>\n",
       "      <td>standard</td>\n",
       "      <td>completed</td>\n",
       "      <td>69</td>\n",
       "      <td>90</td>\n",
       "      <td>88</td>\n",
       "    </tr>\n",
       "    <tr>\n",
       "      <th>2</th>\n",
       "      <td>female</td>\n",
       "      <td>group B</td>\n",
       "      <td>master's degree</td>\n",
       "      <td>standard</td>\n",
       "      <td>none</td>\n",
       "      <td>90</td>\n",
       "      <td>95</td>\n",
       "      <td>93</td>\n",
       "    </tr>\n",
       "    <tr>\n",
       "      <th>3</th>\n",
       "      <td>male</td>\n",
       "      <td>group A</td>\n",
       "      <td>associate's degree</td>\n",
       "      <td>free/reduced</td>\n",
       "      <td>none</td>\n",
       "      <td>47</td>\n",
       "      <td>57</td>\n",
       "      <td>44</td>\n",
       "    </tr>\n",
       "    <tr>\n",
       "      <th>4</th>\n",
       "      <td>male</td>\n",
       "      <td>group C</td>\n",
       "      <td>some college</td>\n",
       "      <td>standard</td>\n",
       "      <td>none</td>\n",
       "      <td>76</td>\n",
       "      <td>78</td>\n",
       "      <td>75</td>\n",
       "    </tr>\n",
       "  </tbody>\n",
       "</table>\n",
       "</div>"
      ],
      "text/plain": [
       "   gender race/ethnicity parental_level_of_education         lunch  \\\n",
       "0  female        group B           bachelor's degree      standard   \n",
       "1  female        group C                some college      standard   \n",
       "2  female        group B             master's degree      standard   \n",
       "3    male        group A          associate's degree  free/reduced   \n",
       "4    male        group C                some college      standard   \n",
       "\n",
       "  test_preparation_course  math_score  reading_score  writing_score  \n",
       "0                    none          72             72             74  \n",
       "1               completed          69             90             88  \n",
       "2                    none          90             95             93  \n",
       "3                    none          47             57             44  \n",
       "4                    none          76             78             75  "
      ]
     },
     "execution_count": 82,
     "metadata": {},
     "output_type": "execute_result"
    }
   ],
   "source": [
    "# Iterating the columns and removing blank spaces\n",
    "\n",
    "for c in performance.columns:\n",
    "    performance.rename(columns={c:c.replace(' ','_')},inplace=True)\n",
    "\n",
    "performance.head()"
   ]
  },
  {
   "cell_type": "markdown",
   "metadata": {},
   "source": [
    "### 1. Are the exam score variables normally distributed? If not, apply a Box-Cox transformation. Does anything change?\n",
    "\n",
    "_Variables are not normally distributed. After Box-cox applied, variables seem as normal distributed but they are not based on jargue-bera amd mpmal test_"
   ]
  },
  {
   "cell_type": "code",
   "execution_count": 83,
   "metadata": {},
   "outputs": [
    {
     "data": {
      "image/png": "[encoded data removed]",
      "text/plain": [
       "<Figure size 1080x360 with 3 Axes>"
      ]
     },
     "metadata": {},
     "output_type": "display_data"
    }
   ],
   "source": [
    "plt.figure(figsize=(15,5))\n",
    "plt.subplot(1,3,1)\n",
    "plt.hist(performance['math_score'])\n",
    "plt.subplot(1,3,2)\n",
    "plt.hist(performance['reading_score'])\n",
    "plt.subplot(1,3,3)\n",
    "plt.hist(performance['writing_score'])\n",
    "\n",
    "plt.show()"
   ]
  },
  {
   "cell_type": "code",
   "execution_count": 84,
   "metadata": {},
   "outputs": [
    {
     "data": {
      "image/png": "[encoded data removed]",
      "text/plain": [
       "<Figure size 1080x360 with 3 Axes>"
      ]
     },
     "metadata": {},
     "output_type": "display_data"
    }
   ],
   "source": [
    "#Sustituir el 0 de performance[performance['math_score']==0]['math_score'] = 0.1\n",
    "\n",
    "performance.loc[59,'math_score']=0.1\n",
    "\n",
    "boxcox_reading,_ = boxcox(performance['reading_score'])\n",
    "boxcox_writing,_ = boxcox(performance['writing_score'])\n",
    "boxcox_math,_ = boxcox(performance['math_score'])\n",
    "\n",
    "plt.figure(figsize=(15,5))\n",
    "\n",
    "plt.subplot(1,3,1)\n",
    "plt.hist(boxcox_reading)\n",
    "\n",
    "plt.subplot(1,3,2)\n",
    "plt.hist(boxcox_writing)\n",
    "plt.subplot(1,3,3)\n",
    "plt.hist(boxcox_math)\n",
    "\n",
    "plt.show()\n"
   ]
  },
  {
   "cell_type": "code",
   "execution_count": 85,
   "metadata": {},
   "outputs": [
    {
     "name": "stdout",
     "output_type": "stream",
     "text": [
      "Jarque-Bera test for reading score statistics is 4.119778573559666 and p value is 0.127468081515408\n",
      "Jarque-Bera test for math score statistics is 0.9154369202158599 and p value is 0.6327255886272433\n",
      "Jarque-Bera test for writing score statistics is 4.746478090042761 and p value is 0.09317842784043195\n",
      "Normality test statistics for math is 0.8414934282273698 and p value is 0.6565563768144929\n",
      "Normality test statistics for reading is 5.282274606965809 and p value is 0.07128015626992971\n",
      "Normality test statistics for writing is 6.267311355052559 and p value is 0.04355827085003712\n"
     ]
    }
   ],
   "source": [
    "#Confirm using Jarque-Bera and Normal tests also confirm this\n",
    "\n",
    "jar_boxcox_reading = jarque_bera(boxcox_reading)\n",
    "jar_boxcox_writing = jarque_bera(boxcox_writing)\n",
    "jar_boxcox_math = jarque_bera(boxcox_math)\n",
    "\n",
    "\n",
    "normboxcox_math = normaltest(boxcox_math)\n",
    "normboxcox_writing = normaltest(boxcox_writing)\n",
    "nomrboxcox_reading = normaltest(boxcox_reading)\n",
    "\n",
    "\n",
    "print(\"Jarque-Bera test for reading score statistics is {0} and p value is {1}\".format(jar_boxcox_reading[0], jar_boxcox_reading[1]))\n",
    "print(\"Jarque-Bera test for math score statistics is {0} and p value is {1}\".format(jar_boxcox_math[0], jar_boxcox_math[1]))\n",
    "print(\"Jarque-Bera test for writing score statistics is {0} and p value is {1}\".format(jar_boxcox_writing[0], jar_boxcox_writing[1]))\n",
    "\n",
    "print(\"Normality test statistics for math is {0} and p value is {1}\".format(normboxcox_math[0], normboxcox_math[1]))\n",
    "print(\"Normality test statistics for reading is {0} and p value is {1}\".format(nomrboxcox_reading[0], nomrboxcox_reading[1]))\n",
    "\n",
    "print(\"Normality test statistics for writing is {0} and p value is {1}\".format(normboxcox_writing[0], normboxcox_writing[1]))\n",
    "\n"
   ]
  },
  {
   "cell_type": "markdown",
   "metadata": {},
   "source": [
    "### 2. Say we want to use a single variable for the exam scores as our target. For this purpose, create a new variable by taking a weighted average of the exam scores. Check whether this new variable is normally distributed. If it's not normally distributed, apply a Box-Cox transformation and check whether or not the transformed variable is normally distributed.\n",
    "\n",
    "_Variable for exam score is not normal distributed._\n"
   ]
  },
  {
   "cell_type": "code",
   "execution_count": 86,
   "metadata": {},
   "outputs": [
    {
     "data": {
      "image/png": "[encoded data removed]",
      "text/plain": [
       "<Figure size 1080x360 with 2 Axes>"
      ]
     },
     "metadata": {},
     "output_type": "display_data"
    }
   ],
   "source": [
    "performance['exam_score']=(performance['math_score'] + performance['reading_score'] + performance['writing_score']) /3\n",
    "\n",
    "boxcox_exam,_ = boxcox(performance['exam_score'])\n",
    "\n",
    "plt.figure(figsize=(15,5))\n",
    "\n",
    "plt.subplot(1,2,1)\n",
    "plt.hist(performance['exam_score'])\n",
    "plt.title('Exam Scores')\n",
    "plt.subplot(1,2,2)\n",
    "plt.hist(boxcox_exam)\n",
    "plt.title('Exam Score with Boxcox')\n",
    "\n",
    "plt.show()\n",
    "\n"
   ]
  },
  {
   "cell_type": "code",
   "execution_count": 87,
   "metadata": {},
   "outputs": [
    {
     "name": "stdout",
     "output_type": "stream",
     "text": [
      "Jarque-Bera test statistics is 2.4370700045443736 and p value is 0.2956629954167068\n",
      "Normality test statistics is 2.7821614621487143 and p value is 0.248806266615156\n"
     ]
    }
   ],
   "source": [
    "from scipy.stats import jarque_bera\n",
    "from scipy.stats import normaltest\n",
    "\n",
    "#Confirm using Jarque-Bera and Normal tests also confirm this:\n",
    "\n",
    "jb_stats = jarque_bera(boxcox_exam)\n",
    "norm_test = normaltest(boxcox_exam)\n",
    "\n",
    "print(\"Jarque-Bera test statistics is {0} and p value is {1}\".format(jb_stats[0], jb_stats[1]))\n",
    "\n",
    "print(\"Normality test statistics is {0} and p value is {1}\".format(norm_test[0], norm_test[1]))\n",
    "\n",
    "\n"
   ]
  },
  {
   "cell_type": "markdown",
   "metadata": {},
   "source": [
    "### 3. Which variables seem related to the target variable (the newly created variable in the previous question)? If our goal is to explain the determinants of success in exams, which variables in our dataset might be useful?\n",
    "\n",
    "_All variables seems to be related to the target variable, so we might use all of them_\n",
    "\n"
   ]
  },
  {
   "cell_type": "code",
   "execution_count": 88,
   "metadata": {},
   "outputs": [
    {
     "data": {
      "text/html": [
       "<div>\n",
       "<style scoped>\n",
       "    .dataframe tbody tr th:only-of-type {\n",
       "        vertical-align: middle;\n",
       "    }\n",
       "\n",
       "    .dataframe tbody tr th {\n",
       "        vertical-align: top;\n",
       "    }\n",
       "\n",
       "    .dataframe thead th {\n",
       "        text-align: right;\n",
       "    }\n",
       "</style>\n",
       "<table border=\"1\" class=\"dataframe\">\n",
       "  <thead>\n",
       "    <tr style=\"text-align: right;\">\n",
       "      <th></th>\n",
       "      <th>gender</th>\n",
       "      <th>race/ethnicity</th>\n",
       "      <th>parental_level_of_education</th>\n",
       "      <th>lunch</th>\n",
       "      <th>test_preparation_course</th>\n",
       "      <th>math_score</th>\n",
       "      <th>reading_score</th>\n",
       "      <th>writing_score</th>\n",
       "      <th>exam_score</th>\n",
       "    </tr>\n",
       "  </thead>\n",
       "  <tbody>\n",
       "    <tr>\n",
       "      <th>0</th>\n",
       "      <td>female</td>\n",
       "      <td>group B</td>\n",
       "      <td>bachelor's degree</td>\n",
       "      <td>standard</td>\n",
       "      <td>none</td>\n",
       "      <td>72.0</td>\n",
       "      <td>72</td>\n",
       "      <td>74</td>\n",
       "      <td>72.666667</td>\n",
       "    </tr>\n",
       "    <tr>\n",
       "      <th>1</th>\n",
       "      <td>female</td>\n",
       "      <td>group C</td>\n",
       "      <td>some college</td>\n",
       "      <td>standard</td>\n",
       "      <td>completed</td>\n",
       "      <td>69.0</td>\n",
       "      <td>90</td>\n",
       "      <td>88</td>\n",
       "      <td>82.333333</td>\n",
       "    </tr>\n",
       "    <tr>\n",
       "      <th>2</th>\n",
       "      <td>female</td>\n",
       "      <td>group B</td>\n",
       "      <td>master's degree</td>\n",
       "      <td>standard</td>\n",
       "      <td>none</td>\n",
       "      <td>90.0</td>\n",
       "      <td>95</td>\n",
       "      <td>93</td>\n",
       "      <td>92.666667</td>\n",
       "    </tr>\n",
       "    <tr>\n",
       "      <th>3</th>\n",
       "      <td>male</td>\n",
       "      <td>group A</td>\n",
       "      <td>associate's degree</td>\n",
       "      <td>free/reduced</td>\n",
       "      <td>none</td>\n",
       "      <td>47.0</td>\n",
       "      <td>57</td>\n",
       "      <td>44</td>\n",
       "      <td>49.333333</td>\n",
       "    </tr>\n",
       "    <tr>\n",
       "      <th>4</th>\n",
       "      <td>male</td>\n",
       "      <td>group C</td>\n",
       "      <td>some college</td>\n",
       "      <td>standard</td>\n",
       "      <td>none</td>\n",
       "      <td>76.0</td>\n",
       "      <td>78</td>\n",
       "      <td>75</td>\n",
       "      <td>76.333333</td>\n",
       "    </tr>\n",
       "  </tbody>\n",
       "</table>\n",
       "</div>"
      ],
      "text/plain": [
       "   gender race/ethnicity parental_level_of_education         lunch  \\\n",
       "0  female        group B           bachelor's degree      standard   \n",
       "1  female        group C                some college      standard   \n",
       "2  female        group B             master's degree      standard   \n",
       "3    male        group A          associate's degree  free/reduced   \n",
       "4    male        group C                some college      standard   \n",
       "\n",
       "  test_preparation_course  math_score  reading_score  writing_score  \\\n",
       "0                    none        72.0             72             74   \n",
       "1               completed        69.0             90             88   \n",
       "2                    none        90.0             95             93   \n",
       "3                    none        47.0             57             44   \n",
       "4                    none        76.0             78             75   \n",
       "\n",
       "   exam_score  \n",
       "0   72.666667  \n",
       "1   82.333333  \n",
       "2   92.666667  \n",
       "3   49.333333  \n",
       "4   76.333333  "
      ]
     },
     "execution_count": 88,
     "metadata": {},
     "output_type": "execute_result"
    }
   ],
   "source": [
    "performance.head()"
   ]
  },
  {
   "cell_type": "code",
   "execution_count": 89,
   "metadata": {},
   "outputs": [
    {
     "data": {
      "image/png": "[encoded data removed]",
      "text/plain": [
       "<Figure size 1296x720 with 5 Axes>"
      ]
     },
     "metadata": {},
     "output_type": "display_data"
    }
   ],
   "source": [
    "performance\n",
    "plt.figure(figsize=(18, 10))\n",
    "\n",
    "plt.subplot(2, 3, 1)\n",
    "plt.bar(performance.groupby(\"race/ethnicity\")\n",
    "        [\"exam_score\"].mean().index, performance.groupby(\"race/ethnicity\")[\"exam_score\"].mean())\n",
    "\n",
    "plt.title(\"average exam scores based on race/ethnicity\")\n",
    "plt.xticks(rotation=\"vertical\")\n",
    "\n",
    "plt.subplot(2, 3, 2)\n",
    "plt.bar(performance.groupby(\"gender\")\n",
    "        [\"exam_score\"].mean().index, performance.groupby(\"gender\")[\"exam_score\"].mean())\n",
    "\n",
    "plt.title(\"average exam scores based on gender\")\n",
    "plt.xticks(rotation=\"vertical\")\n",
    "\n",
    "plt.subplot(2, 3, 3)\n",
    "plt.bar(performance.groupby(\"parental_level_of_education\")\n",
    "        [\"exam_score\"].mean().index, performance.groupby(\"parental_level_of_education\")[\"exam_score\"].mean())\n",
    "\n",
    "plt.title(\"average exam scores based on  parental level of education\")\n",
    "plt.xticks(rotation=\"vertical\")\n",
    "\n",
    "plt.subplot(2, 3, 4)\n",
    "plt.bar(performance.groupby(\"lunch\")\n",
    "        [\"exam_score\"].mean().index, performance.groupby(\"lunch\")[\"exam_score\"].mean())\n",
    "\n",
    "plt.title(\"average exam scores based on lunch\")\n",
    "plt.xticks(rotation=\"vertical\")\n",
    "\n",
    "plt.subplot(2, 3, 5)\n",
    "plt.bar(performance.groupby(\"test_preparation_course\")\n",
    "        [\"exam_score\"].mean().index, performance.groupby(\"test_preparation_course\")[\"exam_score\"].mean())\n",
    "\n",
    "plt.title(\"average exam scores based on test preparation course\")\n",
    "plt.xticks(rotation=\"vertical\")\n",
    "\n",
    "plt.tight_layout()\n",
    "plt.show()"
   ]
  },
  {
   "cell_type": "code",
   "execution_count": null,
   "metadata": {},
   "outputs": [],
   "source": []
  }
 ],
 "metadata": {
  "kernelspec": {
   "display_name": "Python 3",
   "language": "python",
   "name": "python3"
  },
  "language_info": {
   "codemirror_mode": {
    "name": "ipython",
    "version": 3
   },
   "file_extension": ".py",
   "mimetype": "text/x-python",
   "name": "python",
   "nbconvert_exporter": "python",
   "pygments_lexer": "ipython3",
   "version": "3.7.0"
  }
 },
 "nbformat": 4,
 "nbformat_minor": 2
}
