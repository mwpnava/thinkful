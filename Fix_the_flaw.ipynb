{
 "cells": [
  {
   "cell_type": "markdown",
   "metadata": {},
   "source": [
    "## DRILL: Fix the flaw\n",
    "\n",
    "Here is a [link](https://action.donaldjtrump.com/mainstream-media-accountability-survey/) to a Mainstream Media Accountability Survey sent to the public by the Trump Administration in February 2017. Read over the survey and:\n",
    "\n",
    "- Select five questions you believe can be improved\n",
    "- Describe the flaw you see and write an improved version of the question. \n",
    "\n",
    "For each revised question, your version should attempt to get an unbiased picture of the respondent's opinion on the issue. Share your reasoning with your mentor.\n"
   ]
  },
  {
   "cell_type": "markdown",
   "metadata": {},
   "source": [
    "### Select five questions you believe can be improved\n",
    "\n",
    "\n",
    "- Do you believe that the media purposely tries to divide Republicans in order to help elect Democrats?\n",
    "\n",
    "- What percentage do you believe is an accurate representation of President Trump’s positive news coverage by the mainstream media?\n"
   ]
  },
  {
   "cell_type": "markdown",
   "metadata": {},
   "source": [
    "### Describe the flaw you see and write an improved version of the question."
   ]
  },
  {
   "cell_type": "markdown",
   "metadata": {},
   "source": [
    "**Original:**\n",
    "\n",
    "Do you trust the mainstream media to put the interests of Americans first?\n",
    " - Yes\n",
    " - No\n",
    " - No opinion\n",
    " - Other, please specify:\n",
    " \n",
    "**Proposed:**\n",
    "\n",
    "Same question, just three answers\n",
    "\n",
    "Do you trust the mainstream media to put the interests of Americans first?\n",
    " - Yes\n",
    " - No\n",
    " - No opinion\n",
    "\n",
    "\n",
    "\n",
    "Do you trust the mainstream media to put the interests of Americans first?\n",
    " - Yes\n",
    " - No\n",
    " - No opinion\n",
    " \n",
    "\n",
    "**Original:** \n",
    "\n",
    "Do you believe that the media purposely tries to divide Republicans in order to help elect Democrats?\n",
    "\n",
    "**Proposed:**\n",
    "\n",
    "1. Do you believe that the media purposely tries to divide Republicans?\n",
    "2. Do you believe that the media purposely tries to to help elect Democrats?\n",
    "\n",
    "**Original:**\n",
    "\n",
    "What percentage do you believe is an accurate representation of President Trump’s positive news coverage by the mainstream media?\n",
    "\n",
    " -  0%-10%\n",
    " -  10%-25%\n",
    " -  25%-50%\n",
    " -  50%-75%\n",
    " -  75%-100%\n",
    "\n",
    "**Proposed:** Same question but an aditional answer. I'd inlclude a 0% as an answer to avoid assuming people already believe in what question mention.\n",
    "\n",
    "\n",
    " -  0%\n",
    " -  1%-10%\n",
    " -  10%-25%\n",
    " -  25%-50%\n",
    " -  50%-75%\n",
    " -  75%-100%\n",
    "\n",
    "**Original**\n",
    "\n",
    "What television source do you primarily get your news from?\n",
    "\n",
    " - NBC\n",
    " - CNN\n",
    " - MSNBC\n",
    " - Fox News\n",
    " - Local News\n",
    "\n",
    "**Proposed**\n",
    "\n",
    "Is the television source do you primarily get your news from?\n",
    "\n",
    "- Yes\n",
    "- No\n",
    "\n",
    "If yes, based on you preferences, please rate the television source. 1 is your favorite one\n",
    "\n",
    " - NBC\n",
    " - CNN\n",
    " - MSNBC\n",
    " - Fox News\n",
    " - Local News\n",
    " - Other (indicate which one)\n",
    " \n",
    " **Original**\n",
    " \n",
    " Do you use a source not listed above?\n",
    " \n",
    " **Proposed**\n",
    " \n",
    " I'll eliminate this question and include it as a part of the answer. In its original form, people can anser yes or no, and that it.\n",
    " \n",
    " \n",
    " \n",
    " \n",
    " \n",
    " \n",
    " \n",
    " \n",
    " \n",
    " \n",
    "\n",
    "\n"
   ]
  },
  {
   "cell_type": "markdown",
   "metadata": {},
   "source": [
    "By Wendy Navarrete\n",
    "\n",
    "September 2019"
   ]
  },
  {
   "cell_type": "code",
   "execution_count": null,
   "metadata": {},
   "outputs": [],
   "source": []
  }
 ],
 "metadata": {
  "kernelspec": {
   "display_name": "Python 3",
   "language": "python",
   "name": "python3"
  },
  "language_info": {
   "codemirror_mode": {
    "name": "ipython",
    "version": 3
   },
   "file_extension": ".py",
   "mimetype": "text/x-python",
   "name": "python",
   "nbconvert_exporter": "python",
   "pygments_lexer": "ipython3",
   "version": "3.7.0"
  }
 },
 "nbformat": 4,
 "nbformat_minor": 2
}
