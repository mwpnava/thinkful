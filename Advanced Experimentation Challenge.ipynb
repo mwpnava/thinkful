{
 "cells": [
  {
   "cell_type": "markdown",
   "metadata": {},
   "source": [
    "## Challenge: What to use\n",
    "\n",
    "Using selected questions from the 2012 and 2014 editions of the European Social Survey, address the following questions. Keep track of your code and results in a Jupyter notebook or other source that you can share with your mentor. For each question, explain why you chose the approach you did.\n",
    "\n",
    "Here is the data file. And here is the codebook, with information about the variable coding and content.\n",
    "\n",
    "In this dataset, the same participants answered questions in 2012 and again 2014.\n",
    "\n",
    "- Did people become less trusting from 2012 to 2014? Compute results for each country in the sample.\n",
    "- Did people become happier from 2012 to 2014? Compute results for each country in the sample.\n",
    "- Who reported watching more TV in 2012, men or women?\n",
    "- Who was more likely to believe people were fair in 2012, people living with a partner or people living alone?\n",
    "- Pick three or four of the countries in the sample and compare how often people met socially in 2014. Are there - differences, and if so, which countries stand out?\n",
    "- Pick three or four of the countries in the sample and compare how often people took part in social activities, relative to others their age, in 2014. Are there differences, and if so, which countries stand out?\n"
   ]
  },
  {
   "cell_type": "code",
   "execution_count": 50,
   "metadata": {},
   "outputs": [],
   "source": [
    "import pandas as pd\n",
    "import numpy as np\n",
    "import matplotlib.pyplot as plt\n",
    "import scipy.stats as stats\n",
    "from statsmodels.stats.multicomp import pairwise_tukeyhsd\n",
    "\n",
    "from statsmodels.stats.weightstats import ztest\n",
    "\n",
    "%matplotlib inline"
   ]
  },
  {
   "cell_type": "code",
   "execution_count": 3,
   "metadata": {},
   "outputs": [
    {
     "data": {
      "text/html": [
       "<div>\n",
       "<style scoped>\n",
       "    .dataframe tbody tr th:only-of-type {\n",
       "        vertical-align: middle;\n",
       "    }\n",
       "\n",
       "    .dataframe tbody tr th {\n",
       "        vertical-align: top;\n",
       "    }\n",
       "\n",
       "    .dataframe thead th {\n",
       "        text-align: right;\n",
       "    }\n",
       "</style>\n",
       "<table border=\"1\" class=\"dataframe\">\n",
       "  <thead>\n",
       "    <tr style=\"text-align: right;\">\n",
       "      <th></th>\n",
       "      <th>cntry</th>\n",
       "      <th>idno</th>\n",
       "      <th>year</th>\n",
       "      <th>tvtot</th>\n",
       "      <th>ppltrst</th>\n",
       "      <th>pplfair</th>\n",
       "      <th>pplhlp</th>\n",
       "      <th>happy</th>\n",
       "      <th>sclmeet</th>\n",
       "      <th>sclact</th>\n",
       "      <th>gndr</th>\n",
       "      <th>agea</th>\n",
       "      <th>partner</th>\n",
       "    </tr>\n",
       "  </thead>\n",
       "  <tbody>\n",
       "    <tr>\n",
       "      <th>0</th>\n",
       "      <td>CH</td>\n",
       "      <td>5.0</td>\n",
       "      <td>6</td>\n",
       "      <td>3.0</td>\n",
       "      <td>3.0</td>\n",
       "      <td>10.0</td>\n",
       "      <td>5.0</td>\n",
       "      <td>8.0</td>\n",
       "      <td>5.0</td>\n",
       "      <td>4.0</td>\n",
       "      <td>2.0</td>\n",
       "      <td>60.0</td>\n",
       "      <td>1.0</td>\n",
       "    </tr>\n",
       "    <tr>\n",
       "      <th>1</th>\n",
       "      <td>CH</td>\n",
       "      <td>25.0</td>\n",
       "      <td>6</td>\n",
       "      <td>6.0</td>\n",
       "      <td>5.0</td>\n",
       "      <td>7.0</td>\n",
       "      <td>5.0</td>\n",
       "      <td>9.0</td>\n",
       "      <td>3.0</td>\n",
       "      <td>2.0</td>\n",
       "      <td>2.0</td>\n",
       "      <td>59.0</td>\n",
       "      <td>1.0</td>\n",
       "    </tr>\n",
       "    <tr>\n",
       "      <th>2</th>\n",
       "      <td>CH</td>\n",
       "      <td>26.0</td>\n",
       "      <td>6</td>\n",
       "      <td>1.0</td>\n",
       "      <td>8.0</td>\n",
       "      <td>8.0</td>\n",
       "      <td>8.0</td>\n",
       "      <td>7.0</td>\n",
       "      <td>6.0</td>\n",
       "      <td>3.0</td>\n",
       "      <td>1.0</td>\n",
       "      <td>24.0</td>\n",
       "      <td>2.0</td>\n",
       "    </tr>\n",
       "    <tr>\n",
       "      <th>3</th>\n",
       "      <td>CH</td>\n",
       "      <td>28.0</td>\n",
       "      <td>6</td>\n",
       "      <td>4.0</td>\n",
       "      <td>6.0</td>\n",
       "      <td>6.0</td>\n",
       "      <td>7.0</td>\n",
       "      <td>10.0</td>\n",
       "      <td>6.0</td>\n",
       "      <td>2.0</td>\n",
       "      <td>2.0</td>\n",
       "      <td>64.0</td>\n",
       "      <td>1.0</td>\n",
       "    </tr>\n",
       "    <tr>\n",
       "      <th>4</th>\n",
       "      <td>CH</td>\n",
       "      <td>29.0</td>\n",
       "      <td>6</td>\n",
       "      <td>5.0</td>\n",
       "      <td>6.0</td>\n",
       "      <td>7.0</td>\n",
       "      <td>5.0</td>\n",
       "      <td>8.0</td>\n",
       "      <td>7.0</td>\n",
       "      <td>2.0</td>\n",
       "      <td>2.0</td>\n",
       "      <td>55.0</td>\n",
       "      <td>1.0</td>\n",
       "    </tr>\n",
       "  </tbody>\n",
       "</table>\n",
       "</div>"
      ],
      "text/plain": [
       "  cntry  idno  year  tvtot  ppltrst  pplfair  pplhlp  happy  sclmeet  sclact  \\\n",
       "0    CH   5.0     6    3.0      3.0     10.0     5.0    8.0      5.0     4.0   \n",
       "1    CH  25.0     6    6.0      5.0      7.0     5.0    9.0      3.0     2.0   \n",
       "2    CH  26.0     6    1.0      8.0      8.0     8.0    7.0      6.0     3.0   \n",
       "3    CH  28.0     6    4.0      6.0      6.0     7.0   10.0      6.0     2.0   \n",
       "4    CH  29.0     6    5.0      6.0      7.0     5.0    8.0      7.0     2.0   \n",
       "\n",
       "   gndr  agea  partner  \n",
       "0   2.0  60.0      1.0  \n",
       "1   2.0  59.0      1.0  \n",
       "2   1.0  24.0      2.0  \n",
       "3   2.0  64.0      1.0  \n",
       "4   2.0  55.0      1.0  "
      ]
     },
     "execution_count": 3,
     "metadata": {},
     "output_type": "execute_result"
    }
   ],
   "source": [
    "survey = pd.read_csv('ESSdata_Thinkful.csv')\n",
    "\n",
    "survey.head()"
   ]
  },
  {
   "cell_type": "markdown",
   "metadata": {},
   "source": [
    "### Did people become less trusting from 2012 to 2014? Compute results for each country in the sample."
   ]
  },
  {
   "cell_type": "code",
   "execution_count": 83,
   "metadata": {},
   "outputs": [
    {
     "name": "stdout",
     "output_type": "stream",
     "text": [
      "CH\n",
      "T-test=0.0, p-value=0.5\n",
      "In CH, people become equal or greater from 2012 to 2014 (fail to reject H0)\n"
     ]
    },
    {
     "data": {
      "image/png": "[encoded data removed]",
      "text/plain": [
       "<Figure size 432x288 with 1 Axes>"
      ]
     },
     "metadata": {
      "needs_background": "light"
     },
     "output_type": "display_data"
    },
    {
     "name": "stdout",
     "output_type": "stream",
     "text": [
      "CZ\n",
      "T-test=nan, p-value=nan\n",
      "In CZ, people become less trusting from 2012 to 2014(reject Null Hypothesis)\n"
     ]
    },
    {
     "data": {
      "image/png": "[encoded data removed]",
      "text/plain": [
       "<Figure size 432x288 with 1 Axes>"
      ]
     },
     "metadata": {
      "needs_background": "light"
     },
     "output_type": "display_data"
    },
    {
     "name": "stdout",
     "output_type": "stream",
     "text": [
      "DE\n",
      "T-test=0.0, p-value=0.5\n",
      "In DE, people become equal or greater from 2012 to 2014 (fail to reject H0)\n"
     ]
    },
    {
     "data": {
      "image/png": "[encoded data removed]",
      "text/plain": [
       "<Figure size 432x288 with 1 Axes>"
      ]
     },
     "metadata": {
      "needs_background": "light"
     },
     "output_type": "display_data"
    },
    {
     "name": "stdout",
     "output_type": "stream",
     "text": [
      "ES\n",
      "T-test=0.0, p-value=0.5\n",
      "In ES, people become equal or greater from 2012 to 2014 (fail to reject H0)\n"
     ]
    },
    {
     "data": {
      "image/png": "[encoded data removed]",
      "text/plain": [
       "<Figure size 432x288 with 1 Axes>"
      ]
     },
     "metadata": {
      "needs_background": "light"
     },
     "output_type": "display_data"
    },
    {
     "name": "stdout",
     "output_type": "stream",
     "text": [
      "NO\n",
      "T-test=nan, p-value=nan\n",
      "In NO, people become less trusting from 2012 to 2014(reject Null Hypothesis)\n"
     ]
    },
    {
     "data": {
      "image/png": "[encoded data removed]",
      "text/plain": [
       "<Figure size 432x288 with 1 Axes>"
      ]
     },
     "metadata": {
      "needs_background": "light"
     },
     "output_type": "display_data"
    },
    {
     "name": "stdout",
     "output_type": "stream",
     "text": [
      "SE\n",
      "T-test=nan, p-value=nan\n",
      "In SE, people become less trusting from 2012 to 2014(reject Null Hypothesis)\n"
     ]
    },
    {
     "data": {
      "image/png": "[encoded data removed]",
      "text/plain": [
       "<Figure size 432x288 with 1 Axes>"
      ]
     },
     "metadata": {
      "needs_background": "light"
     },
     "output_type": "display_data"
    }
   ],
   "source": [
    "#Null Hypothesis: people become equal or greater trusting from 2012 to 2014\n",
    "#Alternative hypothesis: people become less trusting from 2012 to 2014\n",
    "\n",
    "\n",
    "for country in survey.cntry.unique():\n",
    "    print(country)\n",
    "    \n",
    "    #calculating mean\n",
    "    mean2012 = survey[(survey['year']==6) & (survey['cntry']==country)]['ppltrst'].mean()\n",
    "    \n",
    "    #Set data for the country\n",
    "    data2014 = survey[(survey['year']==7) & (survey['cntry']==country)]['ppltrst']\n",
    "    data2014 = survey[(survey['year']==6) & (survey['cntry']==country)]['ppltrst']\n",
    "    \n",
    "\n",
    "    #Comparing samples\n",
    "    \n",
    "    #z-test from Statsmodels package with alternate='smaller' \n",
    "    #as an argument to denote the one-tailed test.\n",
    "    \n",
    "    t, p = ztest(data2014, value = mean2012, alternative = \"smaller\")\n",
    "    \n",
    "    print('T-test={}, p-value={}'.format(t, p))\n",
    "    \n",
    "    # interpret\n",
    "    alpha = 0.05\n",
    "    if p > alpha:\n",
    "        print('In {}, people become equal or greater from 2012 to 2014 (fail to reject H0)'.format(country))\n",
    "    else:\n",
    "        print('In {}, people become less trusting from 2012 to 2014(reject Null Hypothesis)'.format(country))\n",
    "        \n",
    "    data2014.hist()\n",
    "    data2012.hist()\n",
    "\n",
    "    plt.show()"
   ]
  },
  {
   "cell_type": "code",
   "execution_count": 46,
   "metadata": {},
   "outputs": [
    {
     "name": "stdout",
     "output_type": "stream",
     "text": [
      "CH\n",
      "Statistics=-0.6586851756725737, p=0.5102943511301135\n",
      "Same distributions (fail to reject H0)\n",
      "CZ\n",
      "Statistics=nan, p=nan\n",
      "Different distributions (reject Null Hypothesis)\n",
      "DE\n",
      "Statistics=-0.18399501804849683, p=0.8568563797095805\n",
      "Same distributions (fail to reject H0)\n",
      "ES\n",
      "Statistics=nan, p=nan\n",
      "Different distributions (reject Null Hypothesis)\n",
      "NO\n",
      "Statistics=nan, p=nan\n",
      "Different distributions (reject Null Hypothesis)\n",
      "SE\n",
      "Statistics=nan, p=nan\n",
      "Different distributions (reject Null Hypothesis)\n"
     ]
    }
   ],
   "source": [
    "#This exercise just compare both years and conclude if results from both years are significally different\n",
    "# H0 : data2012 = data2014\n",
    "# Ha : data2012 != data2014\n",
    "\n",
    "\n",
    "for country in survey.cntry.unique():\n",
    "    print(country)\n",
    "    \n",
    "    #Set data for each country\n",
    "    data2012 = survey[(survey['year']==6) & (survey['cntry']==country)]['ppltrst']\n",
    "    data2014 = survey[(survey['year']==7) & (survey['cntry']==country)]['ppltrst']\n",
    "\n",
    "    #Comparing samples\n",
    "    \n",
    "    #T test for independent samples\n",
    "    #stat, p = stats.ttest_ind(data2012, data2014)\n",
    "    \n",
    "    #ttest_rel for dependent samples\n",
    "    stat, p = stats.ttest_rel(data2012,data2014)\n",
    "    print('Statistics={}, p={}'.format(stat, p))\n",
    "    # interpret\n",
    "    alpha = 0.05\n",
    "    if p > alpha:\n",
    "        print('Same distributions (fail to reject H0)')\n",
    "    else:\n",
    "        print('Different distributions (reject Null Hypothesis)')\n",
    "        "
   ]
  },
  {
   "cell_type": "markdown",
   "metadata": {},
   "source": [
    "### Did people become happier from 2012 to 2014? Compute results for each country in the sample."
   ]
  },
  {
   "cell_type": "code",
   "execution_count": 88,
   "metadata": {},
   "outputs": [
    {
     "name": "stdout",
     "output_type": "stream",
     "text": [
      "CH\n",
      "T-test=nan, p-value=nan\n",
      "In CH, people become happier from 2012 to 2014(reject Null Hypothesis)\n"
     ]
    },
    {
     "data": {
      "image/png": "[encoded data removed]",
      "text/plain": [
       "<Figure size 432x288 with 1 Axes>"
      ]
     },
     "metadata": {
      "needs_background": "light"
     },
     "output_type": "display_data"
    },
    {
     "name": "stdout",
     "output_type": "stream",
     "text": [
      "CZ\n",
      "T-test=nan, p-value=nan\n",
      "In CZ, people become happier from 2012 to 2014(reject Null Hypothesis)\n"
     ]
    },
    {
     "data": {
      "image/png": "[encoded data removed]",
      "text/plain": [
       "<Figure size 432x288 with 1 Axes>"
      ]
     },
     "metadata": {
      "needs_background": "light"
     },
     "output_type": "display_data"
    },
    {
     "name": "stdout",
     "output_type": "stream",
     "text": [
      "DE\n",
      "T-test=0.0, p-value=0.5\n",
      "In DE, people become equal or less happy from 2012 to 2014 (fail to reject H0)\n"
     ]
    },
    {
     "data": {
      "image/png": "[encoded data removed]",
      "text/plain": [
       "<Figure size 432x288 with 1 Axes>"
      ]
     },
     "metadata": {
      "needs_background": "light"
     },
     "output_type": "display_data"
    },
    {
     "name": "stdout",
     "output_type": "stream",
     "text": [
      "ES\n",
      "T-test=nan, p-value=nan\n",
      "In ES, people become happier from 2012 to 2014(reject Null Hypothesis)\n"
     ]
    },
    {
     "data": {
      "image/png": "[encoded data removed]",
      "text/plain": [
       "<Figure size 432x288 with 1 Axes>"
      ]
     },
     "metadata": {
      "needs_background": "light"
     },
     "output_type": "display_data"
    },
    {
     "name": "stdout",
     "output_type": "stream",
     "text": [
      "NO\n",
      "T-test=nan, p-value=nan\n",
      "In NO, people become happier from 2012 to 2014(reject Null Hypothesis)\n"
     ]
    },
    {
     "data": {
      "image/png": "[encoded data removed]",
      "text/plain": [
       "<Figure size 432x288 with 1 Axes>"
      ]
     },
     "metadata": {
      "needs_background": "light"
     },
     "output_type": "display_data"
    },
    {
     "name": "stdout",
     "output_type": "stream",
     "text": [
      "SE\n",
      "T-test=nan, p-value=nan\n",
      "In SE, people become happier from 2012 to 2014(reject Null Hypothesis)\n"
     ]
    },
    {
     "data": {
      "image/png": "[encoded data removed]",
      "text/plain": [
       "<Figure size 432x288 with 1 Axes>"
      ]
     },
     "metadata": {
      "needs_background": "light"
     },
     "output_type": "display_data"
    }
   ],
   "source": [
    "#Null Hypothesis: people become equal or less happy from 2012 to 2014\n",
    "#Alternative hypothesis: people become happier from 2012 to 2014\n",
    "\n",
    "\n",
    "for country in survey.cntry.unique():\n",
    "    print(country)\n",
    "    \n",
    "    #calculating mean\n",
    "    mean2012 = survey[(survey['year']==6) & (survey['cntry']==country)]['happy'].mean()\n",
    "    \n",
    "    #Set data for the country\n",
    "    data2014 = survey[(survey['year']==7) & (survey['cntry']==country)]['happy']\n",
    "    data2014 = survey[(survey['year']==6) & (survey['cntry']==country)]['happy']\n",
    "    \n",
    "\n",
    "    #Comparing samples\n",
    "    \n",
    "    #z-test from Statsmodels package with alternate='smaller' \n",
    "    #as an argument to denote the one-tailed test.\n",
    "    \n",
    "    t, p = ztest(data2014, value = mean2012, alternative = \"larger\")\n",
    "    \n",
    "    print('T-test={}, p-value={}'.format(t, p))\n",
    "    \n",
    "    # interpret\n",
    "    alpha = 0.05\n",
    "    if p > alpha:\n",
    "        print('In {}, people become equal or less happy from 2012 to 2014 (fail to reject H0)'.format(country))\n",
    "    else:\n",
    "        print('In {}, people become happier from 2012 to 2014(reject Null Hypothesis)'.format(country))\n",
    "        \n",
    "    data2014.hist(color='red')\n",
    "    data2012.hist()\n",
    "\n",
    "    plt.show()"
   ]
  },
  {
   "cell_type": "markdown",
   "metadata": {},
   "source": [
    "### Who reported watching more TV in 2012, men or women?"
   ]
  },
  {
   "cell_type": "code",
   "execution_count": 101,
   "metadata": {},
   "outputs": [
    {
     "name": "stdout",
     "output_type": "stream",
     "text": [
      "T-test=nan, p-value=nan\n",
      "Women watched more TV in 2012 than men did\n"
     ]
    },
    {
     "data": {
      "image/png": "[encoded data removed]",
      "text/plain": [
       "<Figure size 432x288 with 1 Axes>"
      ]
     },
     "metadata": {
      "needs_background": "light"
     },
     "output_type": "display_data"
    }
   ],
   "source": [
    "#Null Hypothesis: Men watched TV in 2012 equally or greater than women did\n",
    "#Alternative hypothesis: Men watched TV in 2012 less than women did\n",
    "\n",
    "\n",
    "#Set data for the country\n",
    "datamenwatchTV2012 = survey[(survey['year']==6) & (survey['gndr']==1)]['tvtot']\n",
    "datawomenwatchTV2012 = survey[(survey['year']==6) & (survey['gndr']==2)]['tvtot']\n",
    "\n",
    "\n",
    "#Comparing samples\n",
    "    \n",
    "#z-test from Statsmodels package with alternate='smaller' \n",
    "#as an argument to denote the one-tailed test.\n",
    "\n",
    "t, p = ztest(datamenwatchTV2012, value = datawomenwatchTV2012.mean(), alternative = \"larger\")\n",
    "\n",
    "print('T-test={}, p-value={}'.format(t, p))\n",
    "\n",
    "# interpret\n",
    "alpha = 0.05\n",
    "if p > alpha:\n",
    "    print('Men watched TV in 2012 equally or greater than women did')\n",
    "else:\n",
    "    print('Women watched more TV in 2012 than men did')\n",
    "\n",
    "    \n",
    "datamenwatchTV2012.hist(color='red')\n",
    "datawomenwatchTV2012.hist()\n",
    "\n",
    "plt.show()"
   ]
  },
  {
   "cell_type": "markdown",
   "metadata": {},
   "source": [
    "### Who was more likely to believe people were fair in 2012, people living with a partner or people living alone?"
   ]
  },
  {
   "cell_type": "code",
   "execution_count": 98,
   "metadata": {},
   "outputs": [
    {
     "data": {
      "text/plain": [
       "7.3921139101861995"
      ]
     },
     "execution_count": 98,
     "metadata": {},
     "output_type": "execute_result"
    }
   ],
   "source": [
    "survey[(survey['year']==6) & (survey['partner']==2) & (survey['pplfair']>=5.5)]['pplfair'].mean()"
   ]
  },
  {
   "cell_type": "code",
   "execution_count": 102,
   "metadata": {},
   "outputs": [
    {
     "name": "stdout",
     "output_type": "stream",
     "text": [
      "T-test=1.349155245652561, p-value=0.9113564467818072\n",
      "People living alone believe that people were fair in 2012 \n"
     ]
    },
    {
     "data": {
      "image/png": "[encoded data removed]",
      "text/plain": [
       "<Figure size 432x288 with 1 Axes>"
      ]
     },
     "metadata": {
      "needs_background": "light"
     },
     "output_type": "display_data"
    }
   ],
   "source": [
    "#Null Hypothesis: People living with a partner believe that people were fair in 2012 equal or more than people living alone\n",
    "#Alternative hypothesis: People living with a partner believe that people were fair in 2012 less than people living alone\n",
    "\n",
    "# 1 - Lives with husband/wife/partner at household grid\n",
    "# 2 - Does not\n",
    "\n",
    "#All rounds: Using this card, do you think that most people would try to take advantage \n",
    "#of you if they got the chance, or would they try to be fair?\n",
    "\n",
    "\n",
    "\n",
    "#calculating mean\n",
    "#womenwatchTV2012mean = survey[(survey['year']==6) & (survey['gndr']==2)]['tvtot'].mean()\n",
    "\n",
    "#Set data for the country\n",
    "sample1 = survey[(survey['year']==6) & (survey['partner']==1) & (survey['pplfair']>=5.5)]['pplfair']\n",
    "sample2 = survey[(survey['year']==6) & (survey['partner']==2) & (survey['pplfair']>=5.5)]['pplfair']\n",
    "\n",
    "\n",
    "#Comparing samples\n",
    "#z-test from Statsmodels package with alternate='smaller' \n",
    "#as an argument to denote the one-tailed test.\n",
    "\n",
    "t, p = ztest(sample1, value = sample2.mean(), alternative = \"smaller\")\n",
    "\n",
    "print('T-test={}, p-value={}'.format(t, p))\n",
    "\n",
    "# interpret\n",
    "alpha = 0.05\n",
    "if p > alpha:\n",
    "    print('People living alone believe that people were fair in 2012 ')\n",
    "else:\n",
    "    print('People living with a partner believe that people were fair in 2012 (reject Null Hypothesis)')\n",
    "\n",
    "    \n",
    "datamenwatchTV2012.hist(color='red')\n",
    "datawomenwatchTV2012.hist()\n",
    "\n",
    "plt.show()"
   ]
  },
  {
   "cell_type": "code",
   "execution_count": null,
   "metadata": {},
   "outputs": [],
   "source": []
  }
 ],
 "metadata": {
  "kernelspec": {
   "display_name": "Python 3",
   "language": "python",
   "name": "python3"
  },
  "language_info": {
   "codemirror_mode": {
    "name": "ipython",
    "version": 3
   },
   "file_extension": ".py",
   "mimetype": "text/x-python",
   "name": "python",
   "nbconvert_exporter": "python",
   "pygments_lexer": "ipython3",
   "version": "3.7.0"
  }
 },
 "nbformat": 4,
 "nbformat_minor": 2
}
