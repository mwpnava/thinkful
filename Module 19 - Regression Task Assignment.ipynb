{
 "cells": [
  {
   "cell_type": "markdown",
   "metadata": {},
   "source": [
    "## Assignment\n",
    "\n",
    "1. Let's assume that you have World Bank data on financial, economic and social indicators for several countries. You want to measure the factors that affect the level of development in these countries. To this end, you decide to use per capita income as a proxy for the development level, which is defined as the national income divided by the population. You want to use some features in your dataset to predict per capita income. Is this task a classification or a regression task? Why? \n",
    "2. Which of the following arguments are false and why?\n",
    "  * OLS is a special type of linear regression models \n",
    "  * Regression models become useless if they don’t meet the assumptions of linear regression. \n",
    "  * Estimation and prediction are the same thing in the context of linear regression models.\n",
    "  * Linear regression is only one kind of regression model. Regression problems can also be solved with other kind of models like Support Vector Machines or Random Forests.\n",
    "3. Assume that your project manager wants you to discover which free services your company offers make your customers buy more of your paid services. Formulate this task as a regression problem and write down the potential outcome and features that you’d like to work on."
   ]
  },
  {
   "cell_type": "markdown",
   "metadata": {},
   "source": [
    "**1. Let's assume that you have World Bank data on financial, economic and social indicators for several countries. You want to measure the factors that affect the level of development in these countries. To this end, you decide to use per capita income as a proxy for the development level, which is defined as the national income divided by the population. You want to use some features in your dataset to predict per capita income. Is this task a classification or a regression task? Why?**\n",
    "\n",
    "\n",
    "_It is a regression task because the expected outcome is not a limited outcome, instead it might be a range of unlimited numbers_"
   ]
  },
  {
   "cell_type": "markdown",
   "metadata": {},
   "source": [
    "**2. Which of the following arguments are false and why?**\n",
    "\n",
    "  - OLS is a special type of linear regression models _**False**. OLS is an algorithm called Ordinary Least Squares and helps to minimize the sum of the squared distances between each point and the line, and it chooses the line that minimizes this sum. It is to find the optimal parameters of the model_\n",
    "  \n",
    "  \n",
    "  - Regression models become useless if they don’t meet the assumptions of linear regression. _**True**. One of the assumptions to use Linear Regression is the relationship between feature(s) and target(s) is linear_\n",
    "  \n",
    "  \n",
    "  - Estimation and prediction are the same thing in the context of linear regression models. _**False**. **Prediction** is the outcome values for the observations that have not been previously observed and **Estimation** refers to the process of determining the coefficients of the features in the training phase is to get a linear function, which represents the relationship between the features and target (the line in the graphic)._\n",
    "  \n",
    "  \n",
    "  - Linear regression is only one kind of regression model. Regression problems can also be solved with other kind of models like Support Vector Machines or Random Forests. _**True**. There are more regression types and each regression technique has its own regression equation and regression coefficients (for instances: Linear Regression, Logistic Regression, Polynomial Regression, Stepwise Regression, Ridge Regression, Lasso Regression, ElasticNet Regression)._"
   ]
  },
  {
   "cell_type": "markdown",
   "metadata": {},
   "source": [
    "**3. Assume that your project manager wants you to discover which free services your company offers make your customers buy more of your paid services. Formulate this task as a regression problem and write down the potential outcome and features that you’d like to work on.**"
   ]
  },
  {
   "cell_type": "markdown",
   "metadata": {},
   "source": [
    "Outcome (y) = Amount of paid services\n",
    "\n",
    "Features (x1,x2,etc)  = free_service1, free_service2, free_servicex\n",
    "\n",
    "Formula:\n",
    "𝑦=𝛼+𝛽𝑥+𝜃𝑧\n",
    "\n",
    "\n",
    "$$ total \\enspace amount \\enspace of \\enspace paid \\enspace services = \\alpha + \\beta_1 \\enspace X  \\enspace of \\enspace using \\enspace freeservice1 + \\beta_2 \\enspace X \\enspace of \\enspace using \\enspace freeservice2 + \\beta_3 \\enspace X \\enspace of \\enspace using \\enspace freeservice3 $$\n"
   ]
  },
  {
   "cell_type": "markdown",
   "metadata": {},
   "source": [
    "---------------------------------------------\n",
    "By: Wendy Navarrete\n",
    "\n",
    "8/5/2019"
   ]
  },
  {
   "cell_type": "code",
   "execution_count": null,
   "metadata": {},
   "outputs": [],
   "source": []
  }
 ],
 "metadata": {
  "kernelspec": {
   "display_name": "Python 3",
   "language": "python",
   "name": "python3"
  },
  "language_info": {
   "codemirror_mode": {
    "name": "ipython",
    "version": 3
   },
   "file_extension": ".py",
   "mimetype": "text/x-python",
   "name": "python",
   "nbconvert_exporter": "python",
   "pygments_lexer": "ipython3",
   "version": "3.7.0"
  }
 },
 "nbformat": 4,
 "nbformat_minor": 2
}
