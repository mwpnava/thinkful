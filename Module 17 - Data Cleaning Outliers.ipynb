{
 "cells": [
  {
   "cell_type": "markdown",
   "metadata": {},
   "source": [
    "## Assignment\n",
    "\n",
    "In this assignment, you'll continue working with the [U.S. Education Dataset](https://www.kaggle.com/noriuk/us-education-datasets-unification-project/home) from Kaggle. The data gives detailed state level information on several facets of education on an annual basis. To learn more about the data and the column descriptions, you can view the Kaggle link above. \n",
    "\n",
    "Access this data using the Thinkful database using these credentials:\n",
    "\n",
    "postgres_user = 'dsbc_student'<br>\n",
    "postgres_pw = '7\\*.8G9QH21'<br>\n",
    "postgres_host = '142.93.121.174'<br>\n",
    "postgres_port = '5432'<br>\n",
    "postgres_db = 'useducation'<br>\n",
    "\n",
    "Don't forget to apply the most suitable missing value filling techniques from the previous checkpoint to the data. Provide the answers to the following only *after* you've addressed missing values!\n",
    "\n",
    "To complete this assignment, submit a link to a Jupyter notebook containing your solutions to the following tasks:\n",
    "\n",
    "1. Consider the two variables: *TOTAL_REVENUE* and *TOTAL_EXPENDITURE*. Do these variables have outlier values?\n",
    "2. If you detect outliers in the *TOTAL_REVENUE* and *TOTAL_EXPENDITURE* variables, apply the techniques you learned in this checkpoint to eliminate them and validate that there's no outlier values after you handled them.\n",
    "3. Create another variable by subtracting the original *TOTAL_EXPENDITURE* from *TOTAL_REVENUE* (before you eliminated the outliers). You can think of it as a kind of budget deficit in education. Do you find any outlier values in this new variable? If so, eliminate them using the technique you think most suitable.\n",
    "4. Now create another variable by subtracting the *TOTAL_EXPENDITURE* from *TOTAL_REVENUE*. This time, use the outlier eliminated versions of *TOTAL_EXPENDITURE* from *TOTAL_REVENUE*. In this newly created variable, can you find any outliers? If so, eliminate them.\n",
    "5. Compare some basic descriptive statistics of the budget variables you end up with in the 3rd and the 4th questions. Do you see any differences?\n",
    "6. If our variable of interest is the budget deficit variable, which method do you think is the appropriate in dealing with the outliers in this variable: the method in the 3rd question or the one in the 4th question?\n"
   ]
  },
  {
   "cell_type": "code",
   "execution_count": 15,
   "metadata": {},
   "outputs": [],
   "source": [
    "import numpy as np\n",
    "import pandas as pd\n",
    "import seaborn as sns\n",
    "import warnings\n",
    "import matplotlib.pyplot as plt\n",
    "from sqlalchemy import create_engine\n",
    "from scipy.stats import zscore\n",
    "\n",
    "warnings.filterwarnings('ignore')\n",
    "\n",
    "postgres_user = 'dsbc_student'\n",
    "postgres_pw = '7*.8G9QH21'\n",
    "postgres_host = '142.93.121.174'\n",
    "postgres_port = '5432'\n",
    "postgres_db = 'useducation'\n",
    "\n",
    "engine = create_engine('postgresql://{}:{}@{}:{}/{}'.format(\n",
    "    postgres_user, postgres_pw, postgres_host, postgres_port, postgres_db))\n",
    "\n",
    "education = pd.read_sql_query('select * from useducation',con=engine)\n",
    "\n",
    "# no need for an open connection, \n",
    "# as we're only doing a single query\n",
    "engine.dispose()\n"
   ]
  },
  {
   "cell_type": "code",
   "execution_count": 16,
   "metadata": {},
   "outputs": [],
   "source": [
    "#Creating the function to clean with imputation based on year.\n",
    "\n",
    "import math\n",
    "\n",
    "def general_imputation_year(columns):\n",
    "        \n",
    "    \"\"\" Function: general_imputation based on a year\n",
    "        Parameters: a list of columns to clean\n",
    "        Return: string\n",
    "    \"\"\"     \n",
    "    \n",
    "    years = education['YEAR'].unique()\n",
    "    \n",
    "    for column_name in columns:\n",
    "\n",
    "        new_column = column_name + '_c'\n",
    "        education[new_column] = education[column_name]\n",
    "        \n",
    "        for year in years:\n",
    "            \n",
    "            m=education[education['YEAR']==year][[new_column,'YEAR']].mean()\n",
    "            mean = m.astype('float')\n",
    "            \n",
    "            group = (education['YEAR']==year)\n",
    "    \n",
    "            if math.isnan(mean[0]):            \n",
    "                mean_r = education[new_column].mean()\n",
    "\n",
    "            else:\n",
    "                mean_r = education[education['YEAR']==year][new_column].mean()\n",
    "                \n",
    "            education.loc[group,new_column] = education.loc[group,new_column].fillna(mean_r)\n",
    "\n",
    "                \n",
    "    return 'Imputation Done'"
   ]
  },
  {
   "cell_type": "code",
   "execution_count": 17,
   "metadata": {},
   "outputs": [
    {
     "data": {
      "text/html": [
       "<div>\n",
       "<style scoped>\n",
       "    .dataframe tbody tr th:only-of-type {\n",
       "        vertical-align: middle;\n",
       "    }\n",
       "\n",
       "    .dataframe tbody tr th {\n",
       "        vertical-align: top;\n",
       "    }\n",
       "\n",
       "    .dataframe thead th {\n",
       "        text-align: right;\n",
       "    }\n",
       "</style>\n",
       "<table border=\"1\" class=\"dataframe\">\n",
       "  <thead>\n",
       "    <tr style=\"text-align: right;\">\n",
       "      <th></th>\n",
       "      <th>PRIMARY_KEY</th>\n",
       "      <th>STATE</th>\n",
       "      <th>YEAR</th>\n",
       "      <th>ENROLL</th>\n",
       "      <th>TOTAL_REVENUE</th>\n",
       "      <th>FEDERAL_REVENUE</th>\n",
       "      <th>STATE_REVENUE</th>\n",
       "      <th>LOCAL_REVENUE</th>\n",
       "      <th>TOTAL_EXPENDITURE</th>\n",
       "      <th>INSTRUCTION_EXPENDITURE</th>\n",
       "      <th>...</th>\n",
       "      <th>GRADES_4_G</th>\n",
       "      <th>GRADES_8_G</th>\n",
       "      <th>GRADES_12_G</th>\n",
       "      <th>GRADES_1_8_G</th>\n",
       "      <th>GRADES_9_12_G</th>\n",
       "      <th>GRADES_ALL_G</th>\n",
       "      <th>AVG_MATH_4_SCORE</th>\n",
       "      <th>AVG_MATH_8_SCORE</th>\n",
       "      <th>AVG_READING_4_SCORE</th>\n",
       "      <th>AVG_READING_8_SCORE</th>\n",
       "    </tr>\n",
       "  </thead>\n",
       "  <tbody>\n",
       "    <tr>\n",
       "      <th>0</th>\n",
       "      <td>1992_ALABAMA</td>\n",
       "      <td>ALABAMA</td>\n",
       "      <td>1992</td>\n",
       "      <td>NaN</td>\n",
       "      <td>2678885.0</td>\n",
       "      <td>304177.0</td>\n",
       "      <td>1659028.0</td>\n",
       "      <td>715680.0</td>\n",
       "      <td>2653798.0</td>\n",
       "      <td>1481703.0</td>\n",
       "      <td>...</td>\n",
       "      <td>57948.0</td>\n",
       "      <td>58025.0</td>\n",
       "      <td>41167.0</td>\n",
       "      <td>471564.0</td>\n",
       "      <td>196386.0</td>\n",
       "      <td>676174.0</td>\n",
       "      <td>208.327876</td>\n",
       "      <td>252.187522</td>\n",
       "      <td>207.963517</td>\n",
       "      <td>NaN</td>\n",
       "    </tr>\n",
       "    <tr>\n",
       "      <th>1</th>\n",
       "      <td>1992_ALASKA</td>\n",
       "      <td>ALASKA</td>\n",
       "      <td>1992</td>\n",
       "      <td>NaN</td>\n",
       "      <td>1049591.0</td>\n",
       "      <td>106780.0</td>\n",
       "      <td>720711.0</td>\n",
       "      <td>222100.0</td>\n",
       "      <td>972488.0</td>\n",
       "      <td>498362.0</td>\n",
       "      <td>...</td>\n",
       "      <td>9748.0</td>\n",
       "      <td>8789.0</td>\n",
       "      <td>6714.0</td>\n",
       "      <td>79117.0</td>\n",
       "      <td>30847.0</td>\n",
       "      <td>112335.0</td>\n",
       "      <td>NaN</td>\n",
       "      <td>NaN</td>\n",
       "      <td>NaN</td>\n",
       "      <td>258.859712</td>\n",
       "    </tr>\n",
       "    <tr>\n",
       "      <th>2</th>\n",
       "      <td>1992_ARIZONA</td>\n",
       "      <td>ARIZONA</td>\n",
       "      <td>1992</td>\n",
       "      <td>NaN</td>\n",
       "      <td>3258079.0</td>\n",
       "      <td>297888.0</td>\n",
       "      <td>1369815.0</td>\n",
       "      <td>1590376.0</td>\n",
       "      <td>3401580.0</td>\n",
       "      <td>1435908.0</td>\n",
       "      <td>...</td>\n",
       "      <td>55433.0</td>\n",
       "      <td>49081.0</td>\n",
       "      <td>37410.0</td>\n",
       "      <td>437127.0</td>\n",
       "      <td>175210.0</td>\n",
       "      <td>614881.0</td>\n",
       "      <td>215.253932</td>\n",
       "      <td>265.366278</td>\n",
       "      <td>206.212716</td>\n",
       "      <td>262.169895</td>\n",
       "    </tr>\n",
       "    <tr>\n",
       "      <th>3</th>\n",
       "      <td>1992_ARKANSAS</td>\n",
       "      <td>ARKANSAS</td>\n",
       "      <td>1992</td>\n",
       "      <td>NaN</td>\n",
       "      <td>1711959.0</td>\n",
       "      <td>178571.0</td>\n",
       "      <td>958785.0</td>\n",
       "      <td>574603.0</td>\n",
       "      <td>1743022.0</td>\n",
       "      <td>964323.0</td>\n",
       "      <td>...</td>\n",
       "      <td>34632.0</td>\n",
       "      <td>36011.0</td>\n",
       "      <td>27651.0</td>\n",
       "      <td>281338.0</td>\n",
       "      <td>123113.0</td>\n",
       "      <td>405259.0</td>\n",
       "      <td>210.206028</td>\n",
       "      <td>256.312090</td>\n",
       "      <td>208.634458</td>\n",
       "      <td>264.619665</td>\n",
       "    </tr>\n",
       "    <tr>\n",
       "      <th>4</th>\n",
       "      <td>1992_CALIFORNIA</td>\n",
       "      <td>CALIFORNIA</td>\n",
       "      <td>1992</td>\n",
       "      <td>NaN</td>\n",
       "      <td>26260025.0</td>\n",
       "      <td>2072470.0</td>\n",
       "      <td>16546514.0</td>\n",
       "      <td>7641041.0</td>\n",
       "      <td>27138832.0</td>\n",
       "      <td>14358922.0</td>\n",
       "      <td>...</td>\n",
       "      <td>418418.0</td>\n",
       "      <td>363296.0</td>\n",
       "      <td>270675.0</td>\n",
       "      <td>3286034.0</td>\n",
       "      <td>1372011.0</td>\n",
       "      <td>4717112.0</td>\n",
       "      <td>208.398961</td>\n",
       "      <td>260.892247</td>\n",
       "      <td>196.764414</td>\n",
       "      <td>NaN</td>\n",
       "    </tr>\n",
       "  </tbody>\n",
       "</table>\n",
       "<p>5 rows × 25 columns</p>\n",
       "</div>"
      ],
      "text/plain": [
       "       PRIMARY_KEY       STATE  YEAR  ENROLL  TOTAL_REVENUE  FEDERAL_REVENUE  \\\n",
       "0     1992_ALABAMA     ALABAMA  1992     NaN      2678885.0         304177.0   \n",
       "1      1992_ALASKA      ALASKA  1992     NaN      1049591.0         106780.0   \n",
       "2     1992_ARIZONA     ARIZONA  1992     NaN      3258079.0         297888.0   \n",
       "3    1992_ARKANSAS    ARKANSAS  1992     NaN      1711959.0         178571.0   \n",
       "4  1992_CALIFORNIA  CALIFORNIA  1992     NaN     26260025.0        2072470.0   \n",
       "\n",
       "   STATE_REVENUE  LOCAL_REVENUE  TOTAL_EXPENDITURE  INSTRUCTION_EXPENDITURE  \\\n",
       "0      1659028.0       715680.0          2653798.0                1481703.0   \n",
       "1       720711.0       222100.0           972488.0                 498362.0   \n",
       "2      1369815.0      1590376.0          3401580.0                1435908.0   \n",
       "3       958785.0       574603.0          1743022.0                 964323.0   \n",
       "4     16546514.0      7641041.0         27138832.0               14358922.0   \n",
       "\n",
       "          ...           GRADES_4_G  GRADES_8_G  GRADES_12_G  GRADES_1_8_G  \\\n",
       "0         ...              57948.0     58025.0      41167.0      471564.0   \n",
       "1         ...               9748.0      8789.0       6714.0       79117.0   \n",
       "2         ...              55433.0     49081.0      37410.0      437127.0   \n",
       "3         ...              34632.0     36011.0      27651.0      281338.0   \n",
       "4         ...             418418.0    363296.0     270675.0     3286034.0   \n",
       "\n",
       "   GRADES_9_12_G  GRADES_ALL_G  AVG_MATH_4_SCORE  AVG_MATH_8_SCORE  \\\n",
       "0       196386.0      676174.0        208.327876        252.187522   \n",
       "1        30847.0      112335.0               NaN               NaN   \n",
       "2       175210.0      614881.0        215.253932        265.366278   \n",
       "3       123113.0      405259.0        210.206028        256.312090   \n",
       "4      1372011.0     4717112.0        208.398961        260.892247   \n",
       "\n",
       "   AVG_READING_4_SCORE  AVG_READING_8_SCORE  \n",
       "0           207.963517                  NaN  \n",
       "1                  NaN           258.859712  \n",
       "2           206.212716           262.169895  \n",
       "3           208.634458           264.619665  \n",
       "4           196.764414                  NaN  \n",
       "\n",
       "[5 rows x 25 columns]"
      ]
     },
     "execution_count": 17,
     "metadata": {},
     "output_type": "execute_result"
    }
   ],
   "source": [
    "education.head()"
   ]
  },
  {
   "cell_type": "code",
   "execution_count": 18,
   "metadata": {},
   "outputs": [
    {
     "data": {
      "text/plain": [
       "'Imputation Done'"
      ]
     },
     "execution_count": 18,
     "metadata": {},
     "output_type": "execute_result"
    }
   ],
   "source": [
    "#Cleaning columns with mean per year\n",
    "general_imputation_year(['TOTAL_REVENUE','FEDERAL_REVENUE','STATE_REVENUE','LOCAL_REVENUE','TOTAL_EXPENDITURE','INSTRUCTION_EXPENDITURE','SUPPORT_SERVICES_EXPENDITURE','OTHER_EXPENDITURE','CAPITAL_OUTLAY_EXPENDITURE','GRADES_PK_G','GRADES_KG_G','GRADES_4_G','GRADES_8_G','GRADES_12_G','GRADES_1_8_G','GRADES_9_12_G','GRADES_ALL_G','AVG_MATH_4_SCORE','AVG_MATH_8_SCORE','AVG_READING_4_SCORE','AVG_READING_8_SCORE'])\n"
   ]
  },
  {
   "cell_type": "markdown",
   "metadata": {},
   "source": [
    "### 1. Consider the two variables: TOTAL_REVENUE and TOTAL_EXPENDITURE. Do these variables have outlier values?"
   ]
  },
  {
   "cell_type": "code",
   "execution_count": 19,
   "metadata": {},
   "outputs": [
    {
     "data": {
      "text/plain": [
       "Text(0.5,1,'TOTAL EXPENDITURE')"
      ]
     },
     "execution_count": 19,
     "metadata": {},
     "output_type": "execute_result"
    },
    {
     "data": {
      "image/png": "[encoded data removed]",
      "text/plain": [
       "<Figure size 1080x360 with 2 Axes>"
      ]
     },
     "metadata": {
      "needs_background": "light"
     },
     "output_type": "display_data"
    }
   ],
   "source": [
    "#Visualization technique\n",
    "\n",
    "plt.figure(figsize = (15,5))\n",
    "\n",
    "plt.subplot(1,2,1)\n",
    "plt.boxplot(education[\"TOTAL_REVENUE_c\"])\n",
    "plt.title(\"TOTAL_REVENUE\")\n",
    "\n",
    "plt.subplot(1,2,2)\n",
    "plt.boxplot(education['TOTAL_EXPENDITURE_c'])\n",
    "plt.title('TOTAL EXPENDITURE')"
   ]
  },
  {
   "cell_type": "code",
   "execution_count": 20,
   "metadata": {},
   "outputs": [
    {
     "name": "stdout",
     "output_type": "stream",
     "text": [
      "Outliers - Total Revenue\n",
      "Number of Outliers with threshold 1 : 138\n",
      "Number of Outliers with threshold 2 : 57\n",
      "Number of Outliers with threshold 3 : 39\n",
      "Number of Outliers with threshold 4 : 28\n",
      "Outliers - Total Expenditure\n",
      "Number of outliers with threshold 1 : 140\n",
      "Number of outliers with threshold 2 : 57\n",
      "Number of outliers with threshold 3 : 41\n",
      "Number of outliers with threshold 4 : 27\n"
     ]
    }
   ],
   "source": [
    "#Z-SCORE technique to identify outliers\n",
    "\n",
    "z_scores_revenue = zscore(education['TOTAL_REVENUE_c'])\n",
    "print('Outliers - Total Revenue')\n",
    "for threshold in range(1,5):\n",
    "    print('Number of Outliers with threshold {} : {}'.format(threshold,len(np.where(z_scores_revenue > threshold)[0])))\n",
    "    \n",
    "z_scores_expenditure = zscore(education['TOTAL_EXPENDITURE_c'])\n",
    "print('Outliers - Total Expenditure')\n",
    "for threshold in range(1,5):\n",
    "    print('Number of outliers with threshold {} : {}'.format(threshold,len(np.where(z_scores_expenditure > threshold)[0])))\n",
    "    \n"
   ]
  },
  {
   "cell_type": "code",
   "execution_count": 21,
   "metadata": {},
   "outputs": [
    {
     "name": "stdout",
     "output_type": "stream",
     "text": [
      "Outliers Total Revenue\n",
      "Number of outliers with threshold 1.0 : 143\n",
      "Number of outliers with threshold 1.5 : 109\n",
      "Number of outliers with threshold 2.0 : 74\n",
      "Number of outliers with threshold 2.5 : 52\n",
      "Number of outliers with threshold 3.0 : 45\n",
      "Number of outliers with threshold 3.5 : 41\n",
      "Number of outliers with threshold 4.0 : 37\n",
      "Number of outliers with threshold 4.5 : 33\n",
      "Outliers Total Expenditure\n",
      "Number of outliers with threshold 1.0 : 150\n",
      "Number of outliers with threshold 1.5 : 109\n",
      "Number of outliers with threshold 2.0 : 77\n",
      "Number of outliers with threshold 2.5 : 54\n",
      "Number of outliers with threshold 3.0 : 49\n",
      "Number of outliers with threshold 3.5 : 42\n",
      "Number of outliers with threshold 4.0 : 38\n",
      "Number of outliers with threshold 4.5 : 35\n"
     ]
    }
   ],
   "source": [
    "#Tukey or IQR (Interquartile Range) technique to identify outliers\n",
    "\n",
    "q25,q75 = np.percentile(education['TOTAL_REVENUE_c'],[25,75])\n",
    "iqr = q75 - q25\n",
    "\n",
    "print('Outliers Total Revenue')\n",
    "for threshold in np.arange(1,5,0.5):\n",
    "    \n",
    "    lim_min = q25 - (iqr * threshold)\n",
    "    lim_max = q75 + (iqr * threshold)\n",
    "    print('Number of outliers with threshold {} : {}'.format(threshold,len(np.where((education['TOTAL_REVENUE_c'] > lim_max) | (education['TOTAL_REVENUE_c'] < lim_min))[0])))\n",
    "    \n",
    "    \n",
    "qq25,qq75 = np.percentile(education['TOTAL_EXPENDITURE_c'],[25,75])    \n",
    "print('Outliers Total Expenditure')\n",
    "for threshold in np.arange(1,5,0.5):\n",
    "    \n",
    "    lim_min = q25 - (iqr * threshold)\n",
    "    lim_max = q75 + (iqr * threshold)\n",
    "    print('Number of outliers with threshold {} : {}'.format(threshold,len(np.where((education['TOTAL_EXPENDITURE_c'] > lim_max) | (education['TOTAL_EXPENDITURE_c'] < lim_min))[0])))\n",
    "\n",
    "\n"
   ]
  },
  {
   "cell_type": "markdown",
   "metadata": {},
   "source": [
    "### 2. If you detect outliers in the TOTAL_REVENUE and TOTAL_EXPENDITURE variables, apply the techniques you learned in this checkpoint to eliminate them and validate that there's no outlier values after you handled them."
   ]
  },
  {
   "cell_type": "code",
   "execution_count": 22,
   "metadata": {},
   "outputs": [
    {
     "data": {
      "text/plain": [
       "Text(0.5,1,'TOTAL EXPENDITURE - LOG TRANSFORMATION')"
      ]
     },
     "execution_count": 22,
     "metadata": {},
     "output_type": "execute_result"
    },
    {
     "data": {
      "image/png": "[encoded data removed]",
      "text/plain": [
       "<Figure size 1080x360 with 2 Axes>"
      ]
     },
     "metadata": {
      "needs_background": "light"
     },
     "output_type": "display_data"
    }
   ],
   "source": [
    "#Log transformation\n",
    "\n",
    "education['TOTAL_REVENUE_log'] = np.log(education['TOTAL_REVENUE_c'])\n",
    "education['TOTAL_EXPENDITURE_log'] = np.log(education['TOTAL_EXPENDITURE_c'])\n",
    "\n",
    "plt.figure(figsize = (15,5))\n",
    "\n",
    "plt.subplot(1,2,1)\n",
    "plt.boxplot(education['TOTAL_REVENUE_log'])\n",
    "plt.title('TOTAL REVENUE - LOG TRANSFORMATION')\n",
    "\n",
    "plt.subplot(1,2,2)\n",
    "plt.boxplot(education['TOTAL_EXPENDITURE_log'])\n",
    "plt.title('TOTAL EXPENDITURE - LOG TRANSFORMATION')\n"
   ]
  },
  {
   "cell_type": "code",
   "execution_count": 23,
   "metadata": {},
   "outputs": [
    {
     "data": {
      "text/plain": [
       "Text(0.5,1,'TOTAL EXPENDITURE - WINSORIZATION TRANSFORMATION')"
      ]
     },
     "execution_count": 23,
     "metadata": {},
     "output_type": "execute_result"
    },
    {
     "data": {
      "image/png": "[encoded data removed]",
      "text/plain": [
       "<Figure size 1080x360 with 2 Axes>"
      ]
     },
     "metadata": {
      "needs_background": "light"
     },
     "output_type": "display_data"
    }
   ],
   "source": [
    "#Winsorization\n",
    "\n",
    "from scipy.stats.mstats import winsorize\n",
    "\n",
    "winsorized_views_r = winsorize(education['TOTAL_REVENUE_c'],(0,0.10))\n",
    "winsorized_views_e = winsorize(education['TOTAL_EXPENDITURE_c'],(0,0.10))\n",
    "\n",
    "plt.figure(figsize = (15,5))\n",
    "\n",
    "plt.subplot(1,2,1)\n",
    "plt.boxplot(winsorized_views_r)\n",
    "plt.title('TOTAL REVENUE - WINSORIZATION TRANSFORMATION')\n",
    "\n",
    "plt.subplot(1,2,2)\n",
    "plt.boxplot(winsorized_views_e)\n",
    "plt.title('TOTAL EXPENDITURE - WINSORIZATION TRANSFORMATION')\n"
   ]
  },
  {
   "cell_type": "markdown",
   "metadata": {},
   "source": [
    "### 3. Create another variable by subtracting the original TOTAL_EXPENDITURE from TOTAL_REVENUE (before you eliminated the outliers). You can think of it as a kind of budget deficit in education. Do you find any outlier values in this new variable? If so, eliminate them using the technique you think most suitable"
   ]
  },
  {
   "cell_type": "code",
   "execution_count": 24,
   "metadata": {},
   "outputs": [
    {
     "data": {
      "text/plain": [
       "{'whiskers': [<matplotlib.lines.Line2D at 0x109ededd8>,\n",
       "  <matplotlib.lines.Line2D at 0x109edef98>],\n",
       " 'caps': [<matplotlib.lines.Line2D at 0x12b4e0b38>,\n",
       "  <matplotlib.lines.Line2D at 0x12b4e0f60>],\n",
       " 'boxes': [<matplotlib.lines.Line2D at 0x109ede908>],\n",
       " 'medians': [<matplotlib.lines.Line2D at 0x12b4e33c8>],\n",
       " 'fliers': [<matplotlib.lines.Line2D at 0x12b4e37f0>],\n",
       " 'means': []}"
      ]
     },
     "execution_count": 24,
     "metadata": {},
     "output_type": "execute_result"
    },
    {
     "data": {
      "image/png": "[encoded data removed]",
      "text/plain": [
       "<Figure size 432x288 with 1 Axes>"
      ]
     },
     "metadata": {
      "needs_background": "light"
     },
     "output_type": "display_data"
    }
   ],
   "source": [
    "education['budget_deficit'] = education['TOTAL_REVENUE_c'] - education['TOTAL_EXPENDITURE_c']\n",
    "\n",
    "plt.boxplot(education['budget_deficit'],whis=5)"
   ]
  },
  {
   "cell_type": "code",
   "execution_count": 26,
   "metadata": {},
   "outputs": [
    {
     "data": {
      "text/plain": [
       "{'whiskers': [<matplotlib.lines.Line2D at 0x12bdb47f0>,\n",
       "  <matplotlib.lines.Line2D at 0x12bdb4c18>],\n",
       " 'caps': [<matplotlib.lines.Line2D at 0x12bdb4cf8>,\n",
       "  <matplotlib.lines.Line2D at 0x12bdbc4a8>],\n",
       " 'boxes': [<matplotlib.lines.Line2D at 0x12bdb4278>],\n",
       " 'medians': [<matplotlib.lines.Line2D at 0x12bdbc8d0>],\n",
       " 'fliers': [<matplotlib.lines.Line2D at 0x12bdbccf8>],\n",
       " 'means': []}"
      ]
     },
     "execution_count": 26,
     "metadata": {},
     "output_type": "execute_result"
    },
    {
     "data": {
      "image/png": "[encoded data removed]",
      "text/plain": [
       "<Figure size 432x288 with 1 Axes>"
      ]
     },
     "metadata": {
      "needs_background": "light"
     },
     "output_type": "display_data"
    }
   ],
   "source": [
    "#Eliminating outliers with winsorization\n",
    "\n",
    "education['winsorized_budget_deficit'] = winsorize(education['budget_deficit'],(0.10,0.20))\n",
    "plt.boxplot(education['winsorized_budget_deficit'] )\n",
    "\n"
   ]
  },
  {
   "cell_type": "markdown",
   "metadata": {},
   "source": [
    "### 4. Now create another variable by subtracting the TOTAL_EXPENDITURE from TOTAL_REVENUE. This time, use the outlier eliminated versions of TOTAL_EXPENDITURE from TOTAL_REVENUE. In this newly created variable, can you find any outliers? If so, eliminate them."
   ]
  },
  {
   "cell_type": "code",
   "execution_count": 27,
   "metadata": {},
   "outputs": [
    {
     "data": {
      "text/plain": [
       "{'whiskers': [<matplotlib.lines.Line2D at 0x12ad3b550>,\n",
       "  <matplotlib.lines.Line2D at 0x12ad3b978>],\n",
       " 'caps': [<matplotlib.lines.Line2D at 0x12ad3bda0>,\n",
       "  <matplotlib.lines.Line2D at 0x12ad3be80>],\n",
       " 'boxes': [<matplotlib.lines.Line2D at 0x12ad32f98>],\n",
       " 'medians': [<matplotlib.lines.Line2D at 0x12be08630>],\n",
       " 'fliers': [<matplotlib.lines.Line2D at 0x12be08a58>],\n",
       " 'means': []}"
      ]
     },
     "execution_count": 27,
     "metadata": {},
     "output_type": "execute_result"
    },
    {
     "data": {
      "image/png": "[encoded data removed]",
      "text/plain": [
       "<Figure size 432x288 with 1 Axes>"
      ]
     },
     "metadata": {
      "needs_background": "light"
     },
     "output_type": "display_data"
    }
   ],
   "source": [
    "education['budget_deficit_log'] = education['TOTAL_REVENUE_log'] - education['TOTAL_EXPENDITURE_log']\n",
    "\n",
    "plt.boxplot(education['budget_deficit_log'])\n"
   ]
  },
  {
   "cell_type": "code",
   "execution_count": 28,
   "metadata": {},
   "outputs": [
    {
     "data": {
      "text/plain": [
       "{'whiskers': [<matplotlib.lines.Line2D at 0x12bba9fd0>,\n",
       "  <matplotlib.lines.Line2D at 0x12bbb4860>],\n",
       " 'caps': [<matplotlib.lines.Line2D at 0x12bbb4c88>,\n",
       "  <matplotlib.lines.Line2D at 0x12bbb4d68>],\n",
       " 'boxes': [<matplotlib.lines.Line2D at 0x12bba9e80>],\n",
       " 'medians': [<matplotlib.lines.Line2D at 0x12bbbe518>],\n",
       " 'fliers': [<matplotlib.lines.Line2D at 0x12bbbe940>],\n",
       " 'means': []}"
      ]
     },
     "execution_count": 28,
     "metadata": {},
     "output_type": "execute_result"
    },
    {
     "data": {
      "image/png": "[encoded data removed]",
      "text/plain": [
       "<Figure size 432x288 with 1 Axes>"
      ]
     },
     "metadata": {
      "needs_background": "light"
     },
     "output_type": "display_data"
    }
   ],
   "source": [
    "education['budget_deficit_log_wins']=winsorize(education['budget_deficit_log'],(0,0.10))\n",
    "plt.boxplot(education['budget_deficit_log_wins'])"
   ]
  },
  {
   "cell_type": "markdown",
   "metadata": {},
   "source": [
    "### 5. Compare some basic descriptive statistics of the budget variables you end up with in the 3rd and the 4th questions. Do you see any differences?"
   ]
  },
  {
   "cell_type": "code",
   "execution_count": 29,
   "metadata": {},
   "outputs": [
    {
     "data": {
      "text/html": [
       "<div>\n",
       "<style scoped>\n",
       "    .dataframe tbody tr th:only-of-type {\n",
       "        vertical-align: middle;\n",
       "    }\n",
       "\n",
       "    .dataframe tbody tr th {\n",
       "        vertical-align: top;\n",
       "    }\n",
       "\n",
       "    .dataframe thead th {\n",
       "        text-align: right;\n",
       "    }\n",
       "</style>\n",
       "<table border=\"1\" class=\"dataframe\">\n",
       "  <thead>\n",
       "    <tr style=\"text-align: right;\">\n",
       "      <th></th>\n",
       "      <th>budget_deficit</th>\n",
       "      <th>winsorized_budget_deficit</th>\n",
       "      <th>budget_deficit_log_wins</th>\n",
       "    </tr>\n",
       "  </thead>\n",
       "  <tbody>\n",
       "    <tr>\n",
       "      <th>count</th>\n",
       "      <td>1.492000e+03</td>\n",
       "      <td>1492.000000</td>\n",
       "      <td>1492.000000</td>\n",
       "    </tr>\n",
       "    <tr>\n",
       "      <th>mean</th>\n",
       "      <td>-1.063635e+05</td>\n",
       "      <td>-87799.422893</td>\n",
       "      <td>-0.010485</td>\n",
       "    </tr>\n",
       "    <tr>\n",
       "      <th>std</th>\n",
       "      <td>5.323402e+05</td>\n",
       "      <td>151348.691467</td>\n",
       "      <td>0.031438</td>\n",
       "    </tr>\n",
       "    <tr>\n",
       "      <th>min</th>\n",
       "      <td>-5.487742e+06</td>\n",
       "      <td>-395270.000000</td>\n",
       "      <td>-0.170369</td>\n",
       "    </tr>\n",
       "    <tr>\n",
       "      <th>25%</th>\n",
       "      <td>-1.809542e+05</td>\n",
       "      <td>-180954.250000</td>\n",
       "      <td>-0.026404</td>\n",
       "    </tr>\n",
       "    <tr>\n",
       "      <th>50%</th>\n",
       "      <td>-3.504650e+04</td>\n",
       "      <td>-35046.500000</td>\n",
       "      <td>-0.009703</td>\n",
       "    </tr>\n",
       "    <tr>\n",
       "      <th>75%</th>\n",
       "      <td>3.599975e+04</td>\n",
       "      <td>35999.750000</td>\n",
       "      <td>0.010570</td>\n",
       "    </tr>\n",
       "    <tr>\n",
       "      <th>max</th>\n",
       "      <td>3.897129e+06</td>\n",
       "      <td>68585.000000</td>\n",
       "      <td>0.035549</td>\n",
       "    </tr>\n",
       "  </tbody>\n",
       "</table>\n",
       "</div>"
      ],
      "text/plain": [
       "       budget_deficit  winsorized_budget_deficit  budget_deficit_log_wins\n",
       "count    1.492000e+03                1492.000000              1492.000000\n",
       "mean    -1.063635e+05              -87799.422893                -0.010485\n",
       "std      5.323402e+05              151348.691467                 0.031438\n",
       "min     -5.487742e+06             -395270.000000                -0.170369\n",
       "25%     -1.809542e+05             -180954.250000                -0.026404\n",
       "50%     -3.504650e+04              -35046.500000                -0.009703\n",
       "75%      3.599975e+04               35999.750000                 0.010570\n",
       "max      3.897129e+06               68585.000000                 0.035549"
      ]
     },
     "execution_count": 29,
     "metadata": {},
     "output_type": "execute_result"
    }
   ],
   "source": [
    "education[['budget_deficit','winsorized_budget_deficit','budget_deficit_log_wins']].describe()"
   ]
  },
  {
   "cell_type": "markdown",
   "metadata": {},
   "source": [
    "**Numbers are too different, I am not sure the selected technique was the correct one.**"
   ]
  },
  {
   "cell_type": "markdown",
   "metadata": {},
   "source": [
    "### 6. If our variable of interest is the budget deficit variable, which method do you think is the appropriate in dealing with the outliers in this variable: the method in the 3rd question or the one in the 4th question?\n",
    "\n"
   ]
  },
  {
   "cell_type": "markdown",
   "metadata": {},
   "source": [
    "**Method in 3erd question**"
   ]
  }
 ],
 "metadata": {
  "kernelspec": {
   "display_name": "Python 3",
   "language": "python",
   "name": "python3"
  },
  "language_info": {
   "codemirror_mode": {
    "name": "ipython",
    "version": 3
   },
   "file_extension": ".py",
   "mimetype": "text/x-python",
   "name": "python",
   "nbconvert_exporter": "python",
   "pygments_lexer": "ipython3",
   "version": "3.7.0"
  }
 },
 "nbformat": 4,
 "nbformat_minor": 2
}
