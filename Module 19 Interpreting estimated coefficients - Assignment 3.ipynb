{
 "cells": [
  {
   "cell_type": "markdown",
   "metadata": {},
   "source": [
    "## Assignment 3\n",
    "\n",
    "\n",
    "###  House prices model\n",
    "\n",
    "In this exercise, you'll interpret your house prices model. To complete this assignment, submit a link to a Jupyter notebook containing your solutions to the following tasks:\n",
    "\n",
    "* Load the **houseprices** data from Thinkful's database.\n",
    "* Run your house prices model again and interpret the results. Which features are statistically significant, and which are not?\n",
    "* Now, exclude the insignificant features from your model. Did anything change?\n",
    "* Interpret the statistically significant coefficients by quantifying their relations with the house prices. Which features have a more prominent effect on house prices?\n",
    "* Do the results sound reasonable to you? If not, try to explain the potential reasons."
   ]
  },
  {
   "cell_type": "markdown",
   "metadata": {},
   "source": [
    "**Load the houseprices data from Thinkful's database**"
   ]
  },
  {
   "cell_type": "code",
   "execution_count": 29,
   "metadata": {},
   "outputs": [],
   "source": [
    "import numpy as np\n",
    "import pandas as pd\n",
    "import seaborn as sns\n",
    "from sklearn import linear_model\n",
    "import matplotlib.pyplot as plt\n",
    "import statsmodels.api as sm\n",
    "\n",
    "from sqlalchemy import create_engine\n",
    "\n",
    "import warnings\n",
    "warnings.filterwarnings('ignore')\n",
    "\n",
    "postgres_user = 'dsbc_student'\n",
    "postgres_pw = '7*.8G9QH21'\n",
    "postgres_host = '142.93.121.174'\n",
    "postgres_port = '5432'\n",
    "postgres_db = 'houseprices'\n",
    "\n",
    "engine = create_engine('postgresql://{}:{}@{}:{}/{}'.format(\n",
    "    postgres_user, postgres_pw, postgres_host, postgres_port, postgres_db))\n",
    "\n",
    "houses_df = pd.read_sql_query('select * from houseprices',con=engine)\n",
    "\n",
    "# no need for an open connection, as we're only doing a single query\n",
    "engine.dispose()"
   ]
  },
  {
   "cell_type": "code",
   "execution_count": 30,
   "metadata": {},
   "outputs": [],
   "source": [
    "houses_df = pd.concat([houses_df,pd.get_dummies(houses_df.mszoning, prefix=\"mszoning\", drop_first=True)], axis=1)\n",
    "houses_df = pd.concat([houses_df,pd.get_dummies(houses_df.street, prefix=\"street\", drop_first=True)], axis=1)\n",
    "dummy_column_names = list(pd.get_dummies(houses_df.mszoning, prefix=\"mszoning\", drop_first=True).columns)\n",
    "dummy_column_names = dummy_column_names + list(pd.get_dummies(houses_df.street, prefix=\"street\", drop_first=True).columns)\n",
    "\n"
   ]
  },
  {
   "cell_type": "code",
   "execution_count": 31,
   "metadata": {},
   "outputs": [],
   "source": [
    "new_houses = houses_df[['saleprice','overallqual', 'grlivarea', 'garagecars', 'garagearea', 'totalbsmtsf'] + dummy_column_names]"
   ]
  },
  {
   "cell_type": "code",
   "execution_count": 32,
   "metadata": {},
   "outputs": [
    {
     "data": {
      "text/plain": [
       "<matplotlib.axes._subplots.AxesSubplot at 0x12d618240>"
      ]
     },
     "execution_count": 32,
     "metadata": {},
     "output_type": "execute_result"
    },
    {
     "data": {
      "image/png": "[encoded data removed]",
      "text/plain": [
       "<Figure size 432x288 with 1 Axes>"
      ]
     },
     "metadata": {
      "needs_background": "light"
     },
     "output_type": "display_data"
    }
   ],
   "source": [
    "#Verifying if there are some missing values\n",
    "\n",
    "nonclean = ((new_houses.isnull().sum()*100)/houses_df.saleprice.count())\n",
    "\n",
    "for value,index in zip(nonclean,nonclean.index):\n",
    "    if value > 0:\n",
    "        print('Column: {} with {}% of null values'.format(index,value))\n",
    "\n",
    "\n",
    "#Cleaning garageyrblt by replacing missing values in a column with a value from yearremodadd because they are high correlated.\n",
    "\n",
    "sns.heatmap(new_houses.isnull(),yticklabels=False,cbar=False,cmap='viridis')\n",
    "\n",
    "\n"
   ]
  },
  {
   "cell_type": "markdown",
   "metadata": {},
   "source": [
    "**Run your house prices model again and interpret the results. Which features are statistically significant, and which are not?**"
   ]
  },
  {
   "cell_type": "code",
   "execution_count": 33,
   "metadata": {},
   "outputs": [
    {
     "name": "stdout",
     "output_type": "stream",
     "text": [
      "                            OLS Regression Results                            \n",
      "==============================================================================\n",
      "Dep. Variable:              saleprice   R-squared:                       0.769\n",
      "Model:                            OLS   Adj. R-squared:                  0.767\n",
      "Method:                 Least Squares   F-statistic:                     482.0\n",
      "Date:                Mon, 12 Aug 2019   Prob (F-statistic):               0.00\n",
      "Time:                        15:38:21   Log-Likelihood:                -17475.\n",
      "No. Observations:                1460   AIC:                         3.497e+04\n",
      "Df Residuals:                    1449   BIC:                         3.503e+04\n",
      "Df Model:                          10                                         \n",
      "Covariance Type:            nonrobust                                         \n",
      "===============================================================================\n",
      "                  coef    std err          t      P>|t|      [0.025      0.975]\n",
      "-------------------------------------------------------------------------------\n",
      "const       -1.173e+05    1.8e+04     -6.502      0.000   -1.53e+05   -8.19e+04\n",
      "overallqual  2.333e+04   1088.506     21.430      0.000    2.12e+04    2.55e+04\n",
      "grlivarea      45.6344      2.468     18.494      0.000      40.794      50.475\n",
      "garagecars   1.345e+04   2990.453      4.498      0.000    7584.056    1.93e+04\n",
      "garagearea     16.4082     10.402      1.577      0.115      -3.997      36.813\n",
      "totalbsmtsf    28.3816      2.931      9.684      0.000      22.633      34.131\n",
      "mszoning_FV  2.509e+04   1.37e+04      1.833      0.067   -1761.679    5.19e+04\n",
      "mszoning_RH  1.342e+04   1.58e+04      0.847      0.397   -1.77e+04    4.45e+04\n",
      "mszoning_RL  2.857e+04   1.27e+04      2.246      0.025    3612.782    5.35e+04\n",
      "mszoning_RM  9047.7894   1.29e+04      0.702      0.483   -1.62e+04    3.43e+04\n",
      "street_Pave   151.0376   1.63e+04      0.009      0.993   -3.18e+04    3.21e+04\n",
      "==============================================================================\n",
      "Omnibus:                      415.883   Durbin-Watson:                   1.979\n",
      "Prob(Omnibus):                  0.000   Jarque-Bera (JB):            41281.526\n",
      "Skew:                          -0.115   Prob(JB):                         0.00\n",
      "Kurtosis:                      29.049   Cond. No.                     5.53e+04\n",
      "==============================================================================\n",
      "\n",
      "Warnings:\n",
      "[1] Standard Errors assume that the covariance matrix of the errors is correctly specified.\n",
      "[2] The condition number is large, 5.53e+04. This might indicate that there are\n",
      "strong multicollinearity or other numerical problems.\n"
     ]
    }
   ],
   "source": [
    "#Creating feature set for X\n",
    "\n",
    "featureset = list(new_houses.columns)\n",
    "featureset.remove('saleprice')\n",
    "\n",
    "# Y is the target variable\n",
    "Y = new_houses['saleprice']\n",
    "\n",
    "X = new_houses[featureset]\n",
    "\n",
    "# We add a constant to the model as it's a best practice\n",
    "# to do so every time!\n",
    "X = sm.add_constant(X)\n",
    "\n",
    "# We fit an OLS model using statsmodels\n",
    "results = sm.OLS(Y, X).fit()\n",
    "\n",
    "# We print the summary results\n",
    "print(results.summary())\n"
   ]
  },
  {
   "cell_type": "markdown",
   "metadata": {},
   "source": [
    "**Which features are statistically significant, and which are not?**\n",
    "\n",
    "\n",
    "- overallqual\t**statistically significant**\n",
    "- grlivarea\t**statistically significant**\n",
    "- garagecars\t**statistically significant**\n",
    "- garagearea\t**statistically non significant**\n",
    "- totalbsmtsf\t**statistically significant**\n",
    "- mszoning_FV\t**statistically significant**\n",
    "- mszoning_RH\t**statistically non significant**\n",
    "- mszoning_RL\t**statistically significant**\n",
    "- mszoning_RM\t**statistically non significant**\n",
    "- street_Pave\t**statistically non significant**\n"
   ]
  },
  {
   "cell_type": "markdown",
   "metadata": {},
   "source": [
    "**Now, exclude the insignificant features from your model. Did anything change?**"
   ]
  },
  {
   "cell_type": "code",
   "execution_count": 34,
   "metadata": {},
   "outputs": [
    {
     "name": "stdout",
     "output_type": "stream",
     "text": [
      "                            OLS Regression Results                            \n",
      "==============================================================================\n",
      "Dep. Variable:              saleprice   R-squared:                       0.768\n",
      "Model:                            OLS   Adj. R-squared:                  0.767\n",
      "Method:                 Least Squares   F-statistic:                     803.3\n",
      "Date:                Mon, 12 Aug 2019   Prob (F-statistic):               0.00\n",
      "Time:                        15:38:31   Log-Likelihood:                -17476.\n",
      "No. Observations:                1460   AIC:                         3.497e+04\n",
      "Df Residuals:                    1453   BIC:                         3.500e+04\n",
      "Df Model:                           6                                         \n",
      "Covariance Type:            nonrobust                                         \n",
      "===============================================================================\n",
      "                  coef    std err          t      P>|t|      [0.025      0.975]\n",
      "-------------------------------------------------------------------------------\n",
      "const       -1.087e+05   4792.537    -22.674      0.000   -1.18e+05   -9.93e+04\n",
      "overallqual  2.332e+04   1078.278     21.628      0.000    2.12e+04    2.54e+04\n",
      "grlivarea      45.9659      2.452     18.743      0.000      41.155      50.777\n",
      "garagecars   1.721e+04   1732.720      9.931      0.000    1.38e+04    2.06e+04\n",
      "totalbsmtsf    29.3276      2.858     10.261      0.000      23.721      34.934\n",
      "mszoning_FV  1.679e+04   5560.901      3.020      0.003    5885.005    2.77e+04\n",
      "mszoning_RL  1.968e+04   2833.445      6.946      0.000    1.41e+04    2.52e+04\n",
      "==============================================================================\n",
      "Omnibus:                      406.420   Durbin-Watson:                   1.977\n",
      "Prob(Omnibus):                  0.000   Jarque-Bera (JB):            37605.498\n",
      "Skew:                          -0.057   Prob(JB):                         0.00\n",
      "Kurtosis:                      27.863   Cond. No.                     1.11e+04\n",
      "==============================================================================\n",
      "\n",
      "Warnings:\n",
      "[1] Standard Errors assume that the covariance matrix of the errors is correctly specified.\n",
      "[2] The condition number is large, 1.11e+04. This might indicate that there are\n",
      "strong multicollinearity or other numerical problems.\n"
     ]
    }
   ],
   "source": [
    "#Creating feature set for X\n",
    "\n",
    "featureset = list(new_houses.columns)\n",
    "\n",
    "#Excluding insignificant features:\n",
    "\n",
    "featureset.remove('saleprice')\n",
    "featureset.remove('garagearea')\n",
    "featureset.remove('mszoning_RH')\n",
    "featureset.remove('mszoning_RM')\n",
    "featureset.remove('street_Pave')\n",
    "\n",
    "# Y is the target variable\n",
    "Y = new_houses['saleprice']\n",
    "\n",
    "X = new_houses[featureset]\n",
    "\n",
    "# We add a constant to the model as it's a best practice\n",
    "# to do so every time!\n",
    "X = sm.add_constant(X)\n",
    "\n",
    "# We fit an OLS model using statsmodels\n",
    "results = sm.OLS(Y, X).fit()\n",
    "\n",
    "# We print the summary results\n",
    "print(results.summary())\n",
    "\n"
   ]
  },
  {
   "cell_type": "markdown",
   "metadata": {},
   "source": [
    "_The constant and some coefficients changed_"
   ]
  },
  {
   "cell_type": "markdown",
   "metadata": {},
   "source": [
    "**Interpret the statistically significant coefficients by quantifying their relations with the house prices. Which features have a more prominent effect on house prices?**"
   ]
  },
  {
   "cell_type": "markdown",
   "metadata": {},
   "source": [
    "- Holding all other features fixed, a 1 unit increase in overallqual is associated with an increase of 2.332e+04 on saleprice\n",
    "\n",
    "- Holding all other features fixed, a 1 unit increase in grlivarea is associated with an increase of 45.9659 on saleprice\n",
    "\n",
    "- Holding all other features fixed, a 1 unit increase in garagecars is associated with an increase of 1.721e+04 on saleprice\n",
    "\n",
    "- Holding all other features fixed, a 1 unit increase in totalbsmtsf is associated with an increase of 29.3276 on saleprice\n",
    "\n",
    "- Holding all other features fixed, a 1 unit increase in mszoning_FV is associated with an increase of 1.679e+04 on saleprice\n",
    "\n",
    "- Holding all other features fixed, a 1 unit increase in mszoning_RL is associated with an increase of 1.968e+04 on saleprice\n",
    "\n",
    "Features which more prominent effect on house prices are: **overallqual,garagecars and mszoning_RL**"
   ]
  },
  {
   "cell_type": "markdown",
   "metadata": {},
   "source": [
    "**Do the results sound reasonable to you? If not, try to explain the potential reasons**\n",
    "\n",
    "Yes, they do. The overall material and finish quality (overallqual), the size of garage in car capacity (garagecars) and the zone residential low density (mszoning_RL) usually are factors to determine price sale."
   ]
  },
  {
   "cell_type": "markdown",
   "metadata": {},
   "source": [
    "---------------------------------------------------\n",
    "\n",
    "By: Wendy Navarrete\n",
    "\n",
    "12/08/2019\n"
   ]
  },
  {
   "cell_type": "code",
   "execution_count": null,
   "metadata": {},
   "outputs": [],
   "source": []
  }
 ],
 "metadata": {
  "kernelspec": {
   "display_name": "Python 3",
   "language": "python",
   "name": "python3"
  },
  "language_info": {
   "codemirror_mode": {
    "name": "ipython",
    "version": 3
   },
   "file_extension": ".py",
   "mimetype": "text/x-python",
   "name": "python",
   "nbconvert_exporter": "python",
   "pygments_lexer": "ipython3",
   "version": "3.7.0"
  }
 },
 "nbformat": 4,
 "nbformat_minor": 2
}
