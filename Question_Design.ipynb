{
 "cells": [
  {
   "cell_type": "markdown",
   "metadata": {},
   "source": [
    "## DRILL: Question Design\n",
    "\n",
    "For each of the following, indicate the best question type to use and why.\n",
    "\n",
    "- Age\n",
    "- Gender\n",
    "- Income\n",
    "- Opinions about dish soap\n",
    "- Brand of dish soap used\n",
    "- Preference for dish soap brand (Cleany, Sudsy, DeGreaser, Pinesoft)\n",
    "- Positive vs negative feelings about dish soap"
   ]
  },
  {
   "cell_type": "markdown",
   "metadata": {},
   "source": [
    "### Age\n",
    "\n",
    "Depends what we nned to know, the question type could be free-response to have exact numbers. If we group ages, a Multiple choice/choose one question should work as well, \n",
    "\n",
    "### Gender\n",
    "\n",
    "Multiple choice/choose one. \n",
    "\n",
    "### Income\n",
    "\n",
    "Multiple choice/choose one. I'd group incomes into different ranges and ask select just one, people just have one total income\n",
    "\n",
    "### Opinions about dish soap\n",
    "\n",
    "Ranking questions should work if there are several dish soap and we want to compare. Or free-answer questiom should also work and get more details\n",
    "\n",
    "### Brand of dish soap used\n",
    "\n",
    "Multiple choice/choose one, to have the favorite brand of dish soap. Free-answer question to have the favorite one\n",
    "\n",
    "### Preference for dish soap brand (Cleany, Sudsy, DeGreaser, Pinesoft)\n",
    "Ranking questions to compare brands or  Multiple choice/choose multiple also works\n",
    "\n",
    "### Positive vs negative feelings about dish soap\n",
    "Multiple choice/choose multiple, I should list positive/negative feelings and expect user give his/her opinion. And free response also works.\n"
   ]
  },
  {
   "cell_type": "markdown",
   "metadata": {},
   "source": [
    "By: Wendy Navarrete\n",
    "\n",
    "September 2019"
   ]
  }
 ],
 "metadata": {
  "kernelspec": {
   "display_name": "Python 3",
   "language": "python",
   "name": "python3"
  },
  "language_info": {
   "codemirror_mode": {
    "name": "ipython",
    "version": 3
   },
   "file_extension": ".py",
   "mimetype": "text/x-python",
   "name": "python",
   "nbconvert_exporter": "python",
   "pygments_lexer": "ipython3",
   "version": "3.7.0"
  }
 },
 "nbformat": 4,
 "nbformat_minor": 2
}
