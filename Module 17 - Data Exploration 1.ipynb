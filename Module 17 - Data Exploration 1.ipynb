{
 "cells": [
  {
   "cell_type": "markdown",
   "metadata": {},
   "source": [
    "## Assignment\n",
    "\n",
    "In this assignment, you'll continue working with the [U.S. Education Dataset](https://www.kaggle.com/noriuk/us-education-datasets-unification-project/home) from Kaggle. The data gives detailed state level information on the several facets of the state of education on an annual basis. To learn more about the data and the column descriptions, you can view the Kaggle link above. You should access the data from the Thinkful database. Here's the credentials you can use to connect to the database:\n",
    "\n",
    "postgres_user = 'dsbc_student'<br>\n",
    "postgres_pw = '7\\*.8G9QH21'<br>\n",
    "postgres_host = '142.93.121.174'<br>\n",
    "postgres_port = '5432'<br>\n",
    "postgres_db = 'useducation'<br>\n",
    "\n",
    "Don't forget to apply the most suitable missing value filling techniques you applied in the previous checkpoint to the data. You're supposed to provide your answers to the following questions after you handled the missing values.\n",
    "\n",
    "To complete this assignment, submit a link to a Jupyter notebook containing your solutions to the following tasks:\n",
    "\n",
    "1. Derive the descriptive statistics of the data and discuss the points you find remarkable.\n",
    "2. Choose a state (e.g. California) and draw a line graph of its total revenues and total expenditures along the years. How do these 2 variables evolve during the years? Try to explain the peaks and troughs with some state-wise news and information around those dates.\n",
    "3. In your chosen state, which of the lessons are the students more successful, math or reading?\n",
    "4. What are the distributions of the math and reading scores in the sample?\n",
    "5. Notice there are too many missing values for math and reading scores. Fill out the missing values using mean, median, and linear interpolation. Then compare the effects of these techniques on the distributions of the score variables. \n"
   ]
  },
  {
   "cell_type": "code",
   "execution_count": 2,
   "metadata": {},
   "outputs": [],
   "source": [
    "import pandas as pd\n",
    "import numpy as np\n",
    "import seaborn as sns\n",
    "import warnings\n",
    "import matplotlib.pyplot as plt\n",
    "\n",
    "from sqlalchemy import create_engine\n",
    "from scipy.stats import zscore\n",
    "\n",
    "warnings.filterwarnings('ignore')\n",
    "\n",
    "postgres_user = 'dsbc_student'\n",
    "postgres_pw = '7*.8G9QH21'\n",
    "postgres_host = '142.93.121.174'\n",
    "postgres_port = '5432'\n",
    "postgres_db = 'useducation'\n",
    "\n",
    "engine = create_engine('postgresql://{}:{}@{}:{}/{}'.format(\n",
    "    postgres_user, postgres_pw, postgres_host, postgres_port, postgres_db))\n",
    "\n",
    "education = pd.read_sql_query('select * from useducation',con=engine)\n",
    "\n",
    "# no need for an open connection, \n",
    "# as we're only doing a single query\n",
    "engine.dispose()\n"
   ]
  },
  {
   "cell_type": "code",
   "execution_count": 3,
   "metadata": {},
   "outputs": [],
   "source": [
    "#Creating the function to clean with imputation based on year.\n",
    "\n",
    "import math\n",
    "\n",
    "def general_imputation_year(columns):\n",
    "        \n",
    "    \"\"\" Function: general_imputation based on a year\n",
    "        Parameters: a list of columns to clean\n",
    "        Return: string\n",
    "    \"\"\"     \n",
    "    \n",
    "    years = education['YEAR'].unique()\n",
    "    \n",
    "    for column_name in columns:\n",
    "\n",
    "        new_column = column_name + '_c'\n",
    "        education[new_column] = education[column_name]\n",
    "        \n",
    "        for year in years:\n",
    "            \n",
    "            m=education[education['YEAR']==year][[new_column,'YEAR']].mean()\n",
    "            mean = m.astype('float')\n",
    "            \n",
    "            group = (education['YEAR']==year)\n",
    "    \n",
    "            if math.isnan(mean[0]):            \n",
    "                mean_r = education[new_column].mean()\n",
    "\n",
    "            else:\n",
    "                mean_r = education[education['YEAR']==year][new_column].mean()\n",
    "                \n",
    "            education.loc[group,new_column] = education.loc[group,new_column].fillna(mean_r)\n",
    "\n",
    "                \n",
    "    return 'Cleaning Done'"
   ]
  },
  {
   "cell_type": "code",
   "execution_count": 4,
   "metadata": {},
   "outputs": [
    {
     "data": {
      "text/plain": [
       "'Cleaning Done'"
      ]
     },
     "execution_count": 4,
     "metadata": {},
     "output_type": "execute_result"
    }
   ],
   "source": [
    "#Cleaning columns with mean per year\n",
    "general_imputation_year(['TOTAL_REVENUE','FEDERAL_REVENUE','STATE_REVENUE','LOCAL_REVENUE','TOTAL_EXPENDITURE','INSTRUCTION_EXPENDITURE','SUPPORT_SERVICES_EXPENDITURE','OTHER_EXPENDITURE','CAPITAL_OUTLAY_EXPENDITURE','GRADES_PK_G','GRADES_KG_G','GRADES_4_G','GRADES_8_G','GRADES_12_G','GRADES_1_8_G','GRADES_9_12_G','GRADES_ALL_G','AVG_MATH_4_SCORE','AVG_MATH_8_SCORE','AVG_READING_4_SCORE','AVG_READING_8_SCORE'])\n",
    "\n"
   ]
  },
  {
   "cell_type": "markdown",
   "metadata": {},
   "source": [
    "### 1. Derive the descriptive statistics of the data and discuss the points you find remarkable.\n"
   ]
  },
  {
   "cell_type": "code",
   "execution_count": 5,
   "metadata": {},
   "outputs": [
    {
     "data": {
      "text/html": [
       "<div>\n",
       "<style scoped>\n",
       "    .dataframe tbody tr th:only-of-type {\n",
       "        vertical-align: middle;\n",
       "    }\n",
       "\n",
       "    .dataframe tbody tr th {\n",
       "        vertical-align: top;\n",
       "    }\n",
       "\n",
       "    .dataframe thead th {\n",
       "        text-align: right;\n",
       "    }\n",
       "</style>\n",
       "<table border=\"1\" class=\"dataframe\">\n",
       "  <thead>\n",
       "    <tr style=\"text-align: right;\">\n",
       "      <th></th>\n",
       "      <th>PRIMARY_KEY</th>\n",
       "      <th>STATE</th>\n",
       "      <th>YEAR</th>\n",
       "      <th>ENROLL</th>\n",
       "      <th>TOTAL_REVENUE</th>\n",
       "      <th>FEDERAL_REVENUE</th>\n",
       "      <th>STATE_REVENUE</th>\n",
       "      <th>LOCAL_REVENUE</th>\n",
       "      <th>TOTAL_EXPENDITURE</th>\n",
       "      <th>INSTRUCTION_EXPENDITURE</th>\n",
       "      <th>...</th>\n",
       "      <th>GRADES_4_G_c</th>\n",
       "      <th>GRADES_8_G_c</th>\n",
       "      <th>GRADES_12_G_c</th>\n",
       "      <th>GRADES_1_8_G_c</th>\n",
       "      <th>GRADES_9_12_G_c</th>\n",
       "      <th>GRADES_ALL_G_c</th>\n",
       "      <th>AVG_MATH_4_SCORE_c</th>\n",
       "      <th>AVG_MATH_8_SCORE_c</th>\n",
       "      <th>AVG_READING_4_SCORE_c</th>\n",
       "      <th>AVG_READING_8_SCORE_c</th>\n",
       "    </tr>\n",
       "  </thead>\n",
       "  <tbody>\n",
       "    <tr>\n",
       "      <th>0</th>\n",
       "      <td>1992_ALABAMA</td>\n",
       "      <td>ALABAMA</td>\n",
       "      <td>1992</td>\n",
       "      <td>NaN</td>\n",
       "      <td>2678885.0</td>\n",
       "      <td>304177.0</td>\n",
       "      <td>1659028.0</td>\n",
       "      <td>715680.0</td>\n",
       "      <td>2653798.0</td>\n",
       "      <td>1481703.0</td>\n",
       "      <td>...</td>\n",
       "      <td>57948.0</td>\n",
       "      <td>58025.0</td>\n",
       "      <td>41167.0</td>\n",
       "      <td>471564.0</td>\n",
       "      <td>196386.0</td>\n",
       "      <td>676174.0</td>\n",
       "      <td>208.327876</td>\n",
       "      <td>252.187522</td>\n",
       "      <td>207.963517</td>\n",
       "      <td>263.307067</td>\n",
       "    </tr>\n",
       "    <tr>\n",
       "      <th>1</th>\n",
       "      <td>1992_ALASKA</td>\n",
       "      <td>ALASKA</td>\n",
       "      <td>1992</td>\n",
       "      <td>NaN</td>\n",
       "      <td>1049591.0</td>\n",
       "      <td>106780.0</td>\n",
       "      <td>720711.0</td>\n",
       "      <td>222100.0</td>\n",
       "      <td>972488.0</td>\n",
       "      <td>498362.0</td>\n",
       "      <td>...</td>\n",
       "      <td>9748.0</td>\n",
       "      <td>8789.0</td>\n",
       "      <td>6714.0</td>\n",
       "      <td>79117.0</td>\n",
       "      <td>30847.0</td>\n",
       "      <td>112335.0</td>\n",
       "      <td>218.410116</td>\n",
       "      <td>266.360319</td>\n",
       "      <td>212.712256</td>\n",
       "      <td>258.859712</td>\n",
       "    </tr>\n",
       "    <tr>\n",
       "      <th>2</th>\n",
       "      <td>1992_ARIZONA</td>\n",
       "      <td>ARIZONA</td>\n",
       "      <td>1992</td>\n",
       "      <td>NaN</td>\n",
       "      <td>3258079.0</td>\n",
       "      <td>297888.0</td>\n",
       "      <td>1369815.0</td>\n",
       "      <td>1590376.0</td>\n",
       "      <td>3401580.0</td>\n",
       "      <td>1435908.0</td>\n",
       "      <td>...</td>\n",
       "      <td>55433.0</td>\n",
       "      <td>49081.0</td>\n",
       "      <td>37410.0</td>\n",
       "      <td>437127.0</td>\n",
       "      <td>175210.0</td>\n",
       "      <td>614881.0</td>\n",
       "      <td>215.253932</td>\n",
       "      <td>265.366278</td>\n",
       "      <td>206.212716</td>\n",
       "      <td>262.169895</td>\n",
       "    </tr>\n",
       "    <tr>\n",
       "      <th>3</th>\n",
       "      <td>1992_ARKANSAS</td>\n",
       "      <td>ARKANSAS</td>\n",
       "      <td>1992</td>\n",
       "      <td>NaN</td>\n",
       "      <td>1711959.0</td>\n",
       "      <td>178571.0</td>\n",
       "      <td>958785.0</td>\n",
       "      <td>574603.0</td>\n",
       "      <td>1743022.0</td>\n",
       "      <td>964323.0</td>\n",
       "      <td>...</td>\n",
       "      <td>34632.0</td>\n",
       "      <td>36011.0</td>\n",
       "      <td>27651.0</td>\n",
       "      <td>281338.0</td>\n",
       "      <td>123113.0</td>\n",
       "      <td>405259.0</td>\n",
       "      <td>210.206028</td>\n",
       "      <td>256.312090</td>\n",
       "      <td>208.634458</td>\n",
       "      <td>264.619665</td>\n",
       "    </tr>\n",
       "    <tr>\n",
       "      <th>4</th>\n",
       "      <td>1992_CALIFORNIA</td>\n",
       "      <td>CALIFORNIA</td>\n",
       "      <td>1992</td>\n",
       "      <td>NaN</td>\n",
       "      <td>26260025.0</td>\n",
       "      <td>2072470.0</td>\n",
       "      <td>16546514.0</td>\n",
       "      <td>7641041.0</td>\n",
       "      <td>27138832.0</td>\n",
       "      <td>14358922.0</td>\n",
       "      <td>...</td>\n",
       "      <td>418418.0</td>\n",
       "      <td>363296.0</td>\n",
       "      <td>270675.0</td>\n",
       "      <td>3286034.0</td>\n",
       "      <td>1372011.0</td>\n",
       "      <td>4717112.0</td>\n",
       "      <td>208.398961</td>\n",
       "      <td>260.892247</td>\n",
       "      <td>196.764414</td>\n",
       "      <td>263.307067</td>\n",
       "    </tr>\n",
       "  </tbody>\n",
       "</table>\n",
       "<p>5 rows × 46 columns</p>\n",
       "</div>"
      ],
      "text/plain": [
       "       PRIMARY_KEY       STATE  YEAR  ENROLL  TOTAL_REVENUE  FEDERAL_REVENUE  \\\n",
       "0     1992_ALABAMA     ALABAMA  1992     NaN      2678885.0         304177.0   \n",
       "1      1992_ALASKA      ALASKA  1992     NaN      1049591.0         106780.0   \n",
       "2     1992_ARIZONA     ARIZONA  1992     NaN      3258079.0         297888.0   \n",
       "3    1992_ARKANSAS    ARKANSAS  1992     NaN      1711959.0         178571.0   \n",
       "4  1992_CALIFORNIA  CALIFORNIA  1992     NaN     26260025.0        2072470.0   \n",
       "\n",
       "   STATE_REVENUE  LOCAL_REVENUE  TOTAL_EXPENDITURE  INSTRUCTION_EXPENDITURE  \\\n",
       "0      1659028.0       715680.0          2653798.0                1481703.0   \n",
       "1       720711.0       222100.0           972488.0                 498362.0   \n",
       "2      1369815.0      1590376.0          3401580.0                1435908.0   \n",
       "3       958785.0       574603.0          1743022.0                 964323.0   \n",
       "4     16546514.0      7641041.0         27138832.0               14358922.0   \n",
       "\n",
       "           ...            GRADES_4_G_c  GRADES_8_G_c  GRADES_12_G_c  \\\n",
       "0          ...                 57948.0       58025.0        41167.0   \n",
       "1          ...                  9748.0        8789.0         6714.0   \n",
       "2          ...                 55433.0       49081.0        37410.0   \n",
       "3          ...                 34632.0       36011.0        27651.0   \n",
       "4          ...                418418.0      363296.0       270675.0   \n",
       "\n",
       "   GRADES_1_8_G_c  GRADES_9_12_G_c  GRADES_ALL_G_c  AVG_MATH_4_SCORE_c  \\\n",
       "0        471564.0         196386.0        676174.0          208.327876   \n",
       "1         79117.0          30847.0        112335.0          218.410116   \n",
       "2        437127.0         175210.0        614881.0          215.253932   \n",
       "3        281338.0         123113.0        405259.0          210.206028   \n",
       "4       3286034.0        1372011.0       4717112.0          208.398961   \n",
       "\n",
       "   AVG_MATH_8_SCORE_c  AVG_READING_4_SCORE_c  AVG_READING_8_SCORE_c  \n",
       "0          252.187522             207.963517             263.307067  \n",
       "1          266.360319             212.712256             258.859712  \n",
       "2          265.366278             206.212716             262.169895  \n",
       "3          256.312090             208.634458             264.619665  \n",
       "4          260.892247             196.764414             263.307067  \n",
       "\n",
       "[5 rows x 46 columns]"
      ]
     },
     "execution_count": 5,
     "metadata": {},
     "output_type": "execute_result"
    }
   ],
   "source": [
    "education.head()"
   ]
  },
  {
   "cell_type": "markdown",
   "metadata": {},
   "source": [
    "###  2. Choose a state (e.g. California) and draw a line graph of its total revenues and total expenditures along the years. How do these 2 variables evolve during the years? Try to explain the peaks and troughs with some state-wise news and information around those dates."
   ]
  },
  {
   "cell_type": "code",
   "execution_count": 6,
   "metadata": {},
   "outputs": [
    {
     "data": {
      "image/png": "[encoded data removed]",
      "text/plain": [
       "<Figure size 1080x360 with 1 Axes>"
      ]
     },
     "metadata": {
      "needs_background": "light"
     },
     "output_type": "display_data"
    },
    {
     "data": {
      "image/png": "[encoded data removed]",
      "text/plain": [
       "<Figure size 1080x360 with 1 Axes>"
      ]
     },
     "metadata": {
      "needs_background": "light"
     },
     "output_type": "display_data"
    }
   ],
   "source": [
    "revenue=education[education['STATE']=='ARKANSAS'].groupby('YEAR')[['TOTAL_REVENUE_c']].sum()\n",
    "\n",
    "expenditure = education[education['STATE']=='ARKANSAS'].groupby('YEAR')[['TOTAL_EXPENDITURE_c']].sum()\n",
    "\n",
    "plt.figure(figsize = (15,5))\n",
    "\n",
    "plt.subplot(2,1,1)\n",
    "plt.plot(revenue)\n",
    "plt.xticks(education.YEAR.unique())\n",
    "plt.setp(plt.gca().get_xticklabels(), rotation=45, horizontalalignment='right')\n",
    "\n",
    "plt.title('Total Revenue - Arkansas')\n",
    "plt.show()\n",
    "\n",
    "plt.figure(figsize = (15,5))\n",
    "plt.subplot(2,1,1)\n",
    "plt.plot(expenditure)\n",
    "plt.xticks(education.YEAR.unique())\n",
    "plt.setp(plt.gca().get_xticklabels(), rotation=45, horizontalalignment='right')\n",
    "\n",
    "plt.title('Total Expenditure - Arkansas')\n",
    "plt.show()\n",
    "\n"
   ]
  },
  {
   "cell_type": "markdown",
   "metadata": {},
   "source": [
    "### 3. In your chosen state, which of the lessons are the students more successful, math or reading?"
   ]
  },
  {
   "cell_type": "code",
   "execution_count": 7,
   "metadata": {},
   "outputs": [
    {
     "data": {
      "text/plain": [
       "<matplotlib.axes._subplots.AxesSubplot at 0x1291afdd8>"
      ]
     },
     "execution_count": 7,
     "metadata": {},
     "output_type": "execute_result"
    },
    {
     "data": {
      "image/png": "[encoded data removed]",
      "text/plain": [
       "<Figure size 432x288 with 1 Axes>"
      ]
     },
     "metadata": {
      "needs_background": "light"
     },
     "output_type": "display_data"
    }
   ],
   "source": [
    "e_arkansas = education[education['STATE']=='ARKANSAS'].groupby('YEAR')[['AVG_MATH_4_SCORE_c','AVG_MATH_8_SCORE_c','AVG_READING_4_SCORE_c','AVG_READING_8_SCORE_c']].mean()\n",
    "sns.lineplot(data=e_arkansas, palette=\"tab10\", linewidth=2.5)"
   ]
  },
  {
   "cell_type": "markdown",
   "metadata": {},
   "source": [
    "### _More successful are math and reading 8 grade_"
   ]
  },
  {
   "cell_type": "markdown",
   "metadata": {},
   "source": [
    "### 4. What are the distributions of the math and reading scores in the sample?\n"
   ]
  },
  {
   "cell_type": "code",
   "execution_count": 8,
   "metadata": {},
   "outputs": [
    {
     "data": {
      "image/png": "[encoded data removed]",
      "text/plain": [
       "<Figure size 504x504 with 4 Axes>"
      ]
     },
     "metadata": {},
     "output_type": "display_data"
    }
   ],
   "source": [
    "e_arkansas = education[education['STATE']=='ARKANSAS'][['AVG_MATH_4_SCORE_c','AVG_MATH_8_SCORE_c','AVG_READING_4_SCORE_c','AVG_READING_8_SCORE_c']]\n",
    "sns.set(style=\"white\", palette=\"muted\", color_codes=True)\n",
    "rs = np.random.RandomState(10)\n",
    "\n",
    "# Set up the matplotlib figure\n",
    "f, axes = plt.subplots(2, 2, figsize=(7, 7), sharex=True)\n",
    "sns.despine(left=True)\n",
    "\n",
    "# Generate a random univariate dataset\n",
    "#d = rs.normal(size=100)\n",
    "\n",
    "# Plot a simple histogram with binsize determined automatically\n",
    "sns.distplot(e_arkansas['AVG_MATH_4_SCORE_c'], hist=True, color=\"b\", ax=axes[0, 0])\n",
    "sns.distplot(e_arkansas['AVG_READING_4_SCORE_c'], hist=True, color=\"b\", ax=axes[0, 1])\n",
    "sns.distplot(e_arkansas['AVG_MATH_8_SCORE_c'], hist=True, color=\"b\", ax=axes[1, 0])\n",
    "sns.distplot(e_arkansas['AVG_READING_8_SCORE_c'], hist=False, color=\"b\", ax=axes[1,1])\n",
    "\n",
    "plt.setp(axes, yticks=[])\n",
    "plt.tight_layout()\n"
   ]
  },
  {
   "cell_type": "code",
   "execution_count": 9,
   "metadata": {},
   "outputs": [
    {
     "data": {
      "text/plain": [
       "Text(0.5,1,'AVG_READING_8_SCORE')"
      ]
     },
     "execution_count": 9,
     "metadata": {},
     "output_type": "execute_result"
    },
    {
     "data": {
      "image/png": "[encoded data removed]",
      "text/plain": [
       "<Figure size 1080x504 with 4 Axes>"
      ]
     },
     "metadata": {},
     "output_type": "display_data"
    }
   ],
   "source": [
    "plt.figure(figsize = (15,7))\n",
    "\n",
    "plt.subplot(2,2,1)\n",
    "plt.hist(e_arkansas['AVG_MATH_4_SCORE_c'])\n",
    "plt.title('AVG_MATH_4_SCORE')\n",
    "\n",
    "plt.subplot(2,2,2)\n",
    "plt.hist(e_arkansas['AVG_READING_4_SCORE_c'])\n",
    "plt.title('AVG_READING_4_SCORE')\n",
    "\n",
    "plt.subplot(2,2,3)\n",
    "plt.hist(e_arkansas['AVG_MATH_8_SCORE_c'])\n",
    "plt.title('AVG_MATH_8_SCORE')\n",
    "\n",
    "plt.subplot(2,2,4)\n",
    "plt.hist(e_arkansas['AVG_READING_8_SCORE_c'])\n",
    "plt.title('AVG_READING_8_SCORE')\n",
    "\n"
   ]
  },
  {
   "cell_type": "markdown",
   "metadata": {},
   "source": [
    "### 5. Notice there are too many missing values for math and reading scores. Fill out the missing values using mean, median, and linear interpolation. Then compare the effects of these techniques on the distributions of the score variables."
   ]
  },
  {
   "cell_type": "code",
   "execution_count": 10,
   "metadata": {},
   "outputs": [],
   "source": [
    "import math\n",
    "\n",
    "def interpolation(columns):\n",
    "\n",
    "    \"\"\" Function: Apply interpolation \n",
    "        Parameters: a list of columns to clean\n",
    "        Return: string\n",
    "    \"\"\"     \n",
    "        \n",
    "    for column in columns:\n",
    "        \n",
    "        new_column = column + '_i'\n",
    "        education[new_column] = education[column]\n",
    "        \n",
    "        education[new_column]=education[new_column].interpolate(method='linear', limit_direction='forward', axis=0)\n",
    "\n",
    "    return 'Interpolation Done'  \n",
    "\n",
    "\n",
    "def general_imputation_mean_year(columns):\n",
    "        \n",
    "    \"\"\" Function: general_imputation based on a year\n",
    "        Parameters: a list of columns to clean\n",
    "        Return: string\n",
    "    \"\"\"     \n",
    "    \n",
    "    years = education['YEAR'].unique()\n",
    "    \n",
    "    for column_name in columns:\n",
    "\n",
    "        new_column = column_name + '_mean'\n",
    "        education[new_column] = education[column_name]\n",
    "        \n",
    "        for year in years:\n",
    "            \n",
    "            m=education[education['YEAR']==year][[new_column,'YEAR']].mean()\n",
    "            mean = m.astype('float')\n",
    "            \n",
    "            group = (education['YEAR']==year)\n",
    "    \n",
    "            if math.isnan(mean[0]):            \n",
    "                mean_r = education[new_column].mean()\n",
    "\n",
    "            else:\n",
    "                mean_r = education[education['YEAR']==year][new_column].mean()\n",
    "                \n",
    "            education.loc[group,new_column] = education.loc[group,new_column].fillna(mean_r)\n",
    "\n",
    "                \n",
    "    return 'Imputation (mean) Done'\n",
    "\n",
    "\n",
    "def general_imputation_median_year(columns):\n",
    "        \n",
    "    \"\"\" Function: general_imputation based on a year\n",
    "        Parameters: a list of columns to clean\n",
    "        Return: string\n",
    "    \"\"\"     \n",
    "    \n",
    "    years = education['YEAR'].unique()\n",
    "    \n",
    "    for column_name in columns:\n",
    "\n",
    "        new_column = column_name + '_median'\n",
    "        education[new_column] = education[column_name]\n",
    "        \n",
    "        for year in years:\n",
    "            \n",
    "            m=education[education['YEAR']==year][[new_column,'YEAR']].median()\n",
    "            median = m.astype('float')\n",
    "            \n",
    "            group = (education['YEAR']==year)\n",
    "    \n",
    "            if math.isnan(median[0]):            \n",
    "                median_r = education[new_column].median()\n",
    "\n",
    "            else:\n",
    "                median_r = education[education['YEAR']==year][new_column].median()\n",
    "                \n",
    "            education.loc[group,new_column] = education.loc[group,new_column].fillna(median_r)\n",
    "\n",
    "                \n",
    "    return 'Imputation (median) Done'\n"
   ]
  },
  {
   "cell_type": "code",
   "execution_count": 11,
   "metadata": {},
   "outputs": [
    {
     "data": {
      "text/plain": [
       "'Interpolation Done'"
      ]
     },
     "execution_count": 11,
     "metadata": {},
     "output_type": "execute_result"
    }
   ],
   "source": [
    "interpolation(['AVG_MATH_4_SCORE','AVG_MATH_8_SCORE','AVG_READING_4_SCORE','AVG_READING_8_SCORE'])\n",
    "\n"
   ]
  },
  {
   "cell_type": "code",
   "execution_count": 12,
   "metadata": {},
   "outputs": [
    {
     "data": {
      "text/plain": [
       "'Imputation (mean) Done'"
      ]
     },
     "execution_count": 12,
     "metadata": {},
     "output_type": "execute_result"
    }
   ],
   "source": [
    "general_imputation_mean_year(['AVG_MATH_4_SCORE','AVG_MATH_8_SCORE','AVG_READING_4_SCORE','AVG_READING_8_SCORE'])\n"
   ]
  },
  {
   "cell_type": "code",
   "execution_count": 13,
   "metadata": {},
   "outputs": [
    {
     "data": {
      "text/plain": [
       "'Imputation (median) Done'"
      ]
     },
     "execution_count": 13,
     "metadata": {},
     "output_type": "execute_result"
    }
   ],
   "source": [
    "general_imputation_median_year(['AVG_MATH_4_SCORE','AVG_MATH_8_SCORE','AVG_READING_4_SCORE','AVG_READING_8_SCORE'])"
   ]
  },
  {
   "cell_type": "code",
   "execution_count": 14,
   "metadata": {},
   "outputs": [
    {
     "data": {
      "image/png": "[encoded data removed]",
      "text/plain": [
       "<Figure size 432x288 with 1 Axes>"
      ]
     },
     "metadata": {},
     "output_type": "display_data"
    },
    {
     "data": {
      "text/html": [
       "<div>\n",
       "<style scoped>\n",
       "    .dataframe tbody tr th:only-of-type {\n",
       "        vertical-align: middle;\n",
       "    }\n",
       "\n",
       "    .dataframe tbody tr th {\n",
       "        vertical-align: top;\n",
       "    }\n",
       "\n",
       "    .dataframe thead th {\n",
       "        text-align: right;\n",
       "    }\n",
       "</style>\n",
       "<table border=\"1\" class=\"dataframe\">\n",
       "  <thead>\n",
       "    <tr style=\"text-align: right;\">\n",
       "      <th></th>\n",
       "      <th>AVG_MATH_4_SCORE_median</th>\n",
       "      <th>AVG_MATH_4_SCORE_mean</th>\n",
       "      <th>AVG_MATH_4_SCORE_i</th>\n",
       "    </tr>\n",
       "  </thead>\n",
       "  <tbody>\n",
       "    <tr>\n",
       "      <th>count</th>\n",
       "      <td>1492.000000</td>\n",
       "      <td>1492.000000</td>\n",
       "      <td>1492.000000</td>\n",
       "    </tr>\n",
       "    <tr>\n",
       "      <th>mean</th>\n",
       "      <td>235.756792</td>\n",
       "      <td>234.166331</td>\n",
       "      <td>232.723472</td>\n",
       "    </tr>\n",
       "    <tr>\n",
       "      <th>std</th>\n",
       "      <td>6.650977</td>\n",
       "      <td>6.582731</td>\n",
       "      <td>9.405215</td>\n",
       "    </tr>\n",
       "    <tr>\n",
       "      <th>min</th>\n",
       "      <td>187.134670</td>\n",
       "      <td>187.134670</td>\n",
       "      <td>187.134670</td>\n",
       "    </tr>\n",
       "    <tr>\n",
       "      <th>25%</th>\n",
       "      <td>236.799561</td>\n",
       "      <td>233.990011</td>\n",
       "      <td>226.267129</td>\n",
       "    </tr>\n",
       "    <tr>\n",
       "      <th>50%</th>\n",
       "      <td>236.799561</td>\n",
       "      <td>234.152924</td>\n",
       "      <td>234.226904</td>\n",
       "    </tr>\n",
       "    <tr>\n",
       "      <th>75%</th>\n",
       "      <td>236.799561</td>\n",
       "      <td>234.351903</td>\n",
       "      <td>240.163315</td>\n",
       "    </tr>\n",
       "    <tr>\n",
       "      <th>max</th>\n",
       "      <td>253.420961</td>\n",
       "      <td>253.420961</td>\n",
       "      <td>253.420961</td>\n",
       "    </tr>\n",
       "  </tbody>\n",
       "</table>\n",
       "</div>"
      ],
      "text/plain": [
       "       AVG_MATH_4_SCORE_median  AVG_MATH_4_SCORE_mean  AVG_MATH_4_SCORE_i\n",
       "count              1492.000000            1492.000000         1492.000000\n",
       "mean                235.756792             234.166331          232.723472\n",
       "std                   6.650977               6.582731            9.405215\n",
       "min                 187.134670             187.134670          187.134670\n",
       "25%                 236.799561             233.990011          226.267129\n",
       "50%                 236.799561             234.152924          234.226904\n",
       "75%                 236.799561             234.351903          240.163315\n",
       "max                 253.420961             253.420961          253.420961"
      ]
     },
     "execution_count": 14,
     "metadata": {},
     "output_type": "execute_result"
    }
   ],
   "source": [
    "plt.hist(education['AVG_MATH_4_SCORE_median'], label='Filling w/median')\n",
    "plt.hist(education['AVG_MATH_4_SCORE_mean'], label='Filling w/mean')\n",
    "plt.hist(education['AVG_MATH_4_SCORE_i'], label='Filling w/interpolation')\n",
    "plt.legend(loc='lower left')\n",
    "plt.title('AVG_MATH_4_SCORE')\n",
    "plt.show()\n",
    "\n",
    "\n",
    "education[['AVG_MATH_4_SCORE_median','AVG_MATH_4_SCORE_mean','AVG_MATH_4_SCORE_i']].describe()"
   ]
  },
  {
   "cell_type": "code",
   "execution_count": 15,
   "metadata": {},
   "outputs": [
    {
     "data": {
      "image/png": "[encoded data removed]",
      "text/plain": [
       "<Figure size 432x288 with 1 Axes>"
      ]
     },
     "metadata": {},
     "output_type": "display_data"
    },
    {
     "data": {
      "text/html": [
       "<div>\n",
       "<style scoped>\n",
       "    .dataframe tbody tr th:only-of-type {\n",
       "        vertical-align: middle;\n",
       "    }\n",
       "\n",
       "    .dataframe tbody tr th {\n",
       "        vertical-align: top;\n",
       "    }\n",
       "\n",
       "    .dataframe thead th {\n",
       "        text-align: right;\n",
       "    }\n",
       "</style>\n",
       "<table border=\"1\" class=\"dataframe\">\n",
       "  <thead>\n",
       "    <tr style=\"text-align: right;\">\n",
       "      <th></th>\n",
       "      <th>AVG_MATH_8_SCORE_median</th>\n",
       "      <th>AVG_MATH_8_SCORE_mean</th>\n",
       "      <th>AVG_MATH_8_SCORE_i</th>\n",
       "    </tr>\n",
       "  </thead>\n",
       "  <tbody>\n",
       "    <tr>\n",
       "      <th>count</th>\n",
       "      <td>1492.000000</td>\n",
       "      <td>1492.000000</td>\n",
       "      <td>1492.000000</td>\n",
       "    </tr>\n",
       "    <tr>\n",
       "      <th>mean</th>\n",
       "      <td>279.328810</td>\n",
       "      <td>277.967967</td>\n",
       "      <td>275.734024</td>\n",
       "    </tr>\n",
       "    <tr>\n",
       "      <th>std</th>\n",
       "      <td>6.358944</td>\n",
       "      <td>6.288719</td>\n",
       "      <td>8.754805</td>\n",
       "    </tr>\n",
       "    <tr>\n",
       "      <th>min</th>\n",
       "      <td>232.831510</td>\n",
       "      <td>232.831510</td>\n",
       "      <td>232.831510</td>\n",
       "    </tr>\n",
       "    <tr>\n",
       "      <th>25%</th>\n",
       "      <td>280.158848</td>\n",
       "      <td>277.855955</td>\n",
       "      <td>270.096001</td>\n",
       "    </tr>\n",
       "    <tr>\n",
       "      <th>50%</th>\n",
       "      <td>280.158848</td>\n",
       "      <td>277.954708</td>\n",
       "      <td>275.711254</td>\n",
       "    </tr>\n",
       "    <tr>\n",
       "      <th>75%</th>\n",
       "      <td>280.158848</td>\n",
       "      <td>278.105624</td>\n",
       "      <td>282.702092</td>\n",
       "    </tr>\n",
       "    <tr>\n",
       "      <th>max</th>\n",
       "      <td>300.568235</td>\n",
       "      <td>300.568235</td>\n",
       "      <td>300.568235</td>\n",
       "    </tr>\n",
       "  </tbody>\n",
       "</table>\n",
       "</div>"
      ],
      "text/plain": [
       "       AVG_MATH_8_SCORE_median  AVG_MATH_8_SCORE_mean  AVG_MATH_8_SCORE_i\n",
       "count              1492.000000            1492.000000         1492.000000\n",
       "mean                279.328810             277.967967          275.734024\n",
       "std                   6.358944               6.288719            8.754805\n",
       "min                 232.831510             232.831510          232.831510\n",
       "25%                 280.158848             277.855955          270.096001\n",
       "50%                 280.158848             277.954708          275.711254\n",
       "75%                 280.158848             278.105624          282.702092\n",
       "max                 300.568235             300.568235          300.568235"
      ]
     },
     "execution_count": 15,
     "metadata": {},
     "output_type": "execute_result"
    }
   ],
   "source": [
    "plt.hist(education['AVG_MATH_8_SCORE_median'], label='Filling w/median')\n",
    "plt.hist(education['AVG_MATH_8_SCORE_mean'], label='Filling w/mean')\n",
    "plt.hist(education['AVG_MATH_8_SCORE_i'], label='Filling w/interpolation')\n",
    "plt.title('AVG_MATH_8_SCORE')\n",
    "plt.legend(loc='lower left')\n",
    "plt.show()\n",
    "\n",
    "education[['AVG_MATH_8_SCORE_median','AVG_MATH_8_SCORE_mean','AVG_MATH_8_SCORE_i']].describe()"
   ]
  },
  {
   "cell_type": "code",
   "execution_count": 16,
   "metadata": {},
   "outputs": [
    {
     "data": {
      "image/png": "[encoded data removed]",
      "text/plain": [
       "<Figure size 432x288 with 1 Axes>"
      ]
     },
     "metadata": {},
     "output_type": "display_data"
    },
    {
     "data": {
      "text/html": [
       "<div>\n",
       "<style scoped>\n",
       "    .dataframe tbody tr th:only-of-type {\n",
       "        vertical-align: middle;\n",
       "    }\n",
       "\n",
       "    .dataframe tbody tr th {\n",
       "        vertical-align: top;\n",
       "    }\n",
       "\n",
       "    .dataframe thead th {\n",
       "        text-align: right;\n",
       "    }\n",
       "</style>\n",
       "<table border=\"1\" class=\"dataframe\">\n",
       "  <thead>\n",
       "    <tr style=\"text-align: right;\">\n",
       "      <th></th>\n",
       "      <th>AVG_READING_4_SCORE_median</th>\n",
       "      <th>AVG_READING_4_SCORE_mean</th>\n",
       "      <th>AVG_READING_4_SCORE_i</th>\n",
       "    </tr>\n",
       "  </thead>\n",
       "  <tbody>\n",
       "    <tr>\n",
       "      <th>count</th>\n",
       "      <td>1492.000000</td>\n",
       "      <td>1492.000000</td>\n",
       "      <td>1492.000000</td>\n",
       "    </tr>\n",
       "    <tr>\n",
       "      <th>mean</th>\n",
       "      <td>219.608099</td>\n",
       "      <td>218.630513</td>\n",
       "      <td>218.971553</td>\n",
       "    </tr>\n",
       "    <tr>\n",
       "      <th>std</th>\n",
       "      <td>4.755179</td>\n",
       "      <td>4.717351</td>\n",
       "      <td>5.959927</td>\n",
       "    </tr>\n",
       "    <tr>\n",
       "      <th>min</th>\n",
       "      <td>178.557612</td>\n",
       "      <td>178.557612</td>\n",
       "      <td>178.557612</td>\n",
       "    </tr>\n",
       "    <tr>\n",
       "      <th>25%</th>\n",
       "      <td>220.143230</td>\n",
       "      <td>218.581228</td>\n",
       "      <td>216.126818</td>\n",
       "    </tr>\n",
       "    <tr>\n",
       "      <th>50%</th>\n",
       "      <td>220.143230</td>\n",
       "      <td>218.604227</td>\n",
       "      <td>219.771325</td>\n",
       "    </tr>\n",
       "    <tr>\n",
       "      <th>75%</th>\n",
       "      <td>220.143230</td>\n",
       "      <td>218.686805</td>\n",
       "      <td>222.684611</td>\n",
       "    </tr>\n",
       "    <tr>\n",
       "      <th>max</th>\n",
       "      <td>236.773867</td>\n",
       "      <td>236.773867</td>\n",
       "      <td>236.773867</td>\n",
       "    </tr>\n",
       "  </tbody>\n",
       "</table>\n",
       "</div>"
      ],
      "text/plain": [
       "       AVG_READING_4_SCORE_median  AVG_READING_4_SCORE_mean  \\\n",
       "count                 1492.000000               1492.000000   \n",
       "mean                   219.608099                218.630513   \n",
       "std                      4.755179                  4.717351   \n",
       "min                    178.557612                178.557612   \n",
       "25%                    220.143230                218.581228   \n",
       "50%                    220.143230                218.604227   \n",
       "75%                    220.143230                218.686805   \n",
       "max                    236.773867                236.773867   \n",
       "\n",
       "       AVG_READING_4_SCORE_i  \n",
       "count            1492.000000  \n",
       "mean              218.971553  \n",
       "std                 5.959927  \n",
       "min               178.557612  \n",
       "25%               216.126818  \n",
       "50%               219.771325  \n",
       "75%               222.684611  \n",
       "max               236.773867  "
      ]
     },
     "execution_count": 16,
     "metadata": {},
     "output_type": "execute_result"
    }
   ],
   "source": [
    "plt.hist(education['AVG_READING_4_SCORE_median'], label='Filling w/median')\n",
    "plt.hist(education['AVG_READING_4_SCORE_mean'], label='Filling w/mean')\n",
    "plt.hist(education['AVG_READING_4_SCORE_i'], label='Filling w/interpolation')\n",
    "plt.title('AVG_READING_4_SCORE')\n",
    "plt.legend(loc='lower left')\n",
    "plt.show()\n",
    "\n",
    "education[['AVG_READING_4_SCORE_median','AVG_READING_4_SCORE_mean','AVG_READING_4_SCORE_i']].describe()"
   ]
  },
  {
   "cell_type": "code",
   "execution_count": 17,
   "metadata": {},
   "outputs": [
    {
     "data": {
      "image/png": "[encoded data removed]",
      "text/plain": [
       "<Figure size 432x288 with 1 Axes>"
      ]
     },
     "metadata": {},
     "output_type": "display_data"
    },
    {
     "data": {
      "text/html": [
       "<div>\n",
       "<style scoped>\n",
       "    .dataframe tbody tr th:only-of-type {\n",
       "        vertical-align: middle;\n",
       "    }\n",
       "\n",
       "    .dataframe tbody tr th {\n",
       "        vertical-align: top;\n",
       "    }\n",
       "\n",
       "    .dataframe thead th {\n",
       "        text-align: right;\n",
       "    }\n",
       "</style>\n",
       "<table border=\"1\" class=\"dataframe\">\n",
       "  <thead>\n",
       "    <tr style=\"text-align: right;\">\n",
       "      <th></th>\n",
       "      <th>AVG_READING_8_SCORE_median</th>\n",
       "      <th>AVG_READING_8_SCORE_mean</th>\n",
       "      <th>AVG_READING_8_SCORE_i</th>\n",
       "    </tr>\n",
       "  </thead>\n",
       "  <tbody>\n",
       "    <tr>\n",
       "      <th>count</th>\n",
       "      <td>1492.000000</td>\n",
       "      <td>1492.000000</td>\n",
       "      <td>1491.000000</td>\n",
       "    </tr>\n",
       "    <tr>\n",
       "      <th>mean</th>\n",
       "      <td>264.165786</td>\n",
       "      <td>263.563582</td>\n",
       "      <td>263.267799</td>\n",
       "    </tr>\n",
       "    <tr>\n",
       "      <th>std</th>\n",
       "      <td>3.963715</td>\n",
       "      <td>3.949609</td>\n",
       "      <td>4.978792</td>\n",
       "    </tr>\n",
       "    <tr>\n",
       "      <th>min</th>\n",
       "      <td>236.379102</td>\n",
       "      <td>236.379102</td>\n",
       "      <td>236.379102</td>\n",
       "    </tr>\n",
       "    <tr>\n",
       "      <th>25%</th>\n",
       "      <td>264.466921</td>\n",
       "      <td>263.535778</td>\n",
       "      <td>260.490023</td>\n",
       "    </tr>\n",
       "    <tr>\n",
       "      <th>50%</th>\n",
       "      <td>264.466921</td>\n",
       "      <td>263.580017</td>\n",
       "      <td>262.617766</td>\n",
       "    </tr>\n",
       "    <tr>\n",
       "      <th>75%</th>\n",
       "      <td>264.466921</td>\n",
       "      <td>263.630005</td>\n",
       "      <td>266.849675</td>\n",
       "    </tr>\n",
       "    <tr>\n",
       "      <th>max</th>\n",
       "      <td>280.499130</td>\n",
       "      <td>280.499130</td>\n",
       "      <td>280.499130</td>\n",
       "    </tr>\n",
       "  </tbody>\n",
       "</table>\n",
       "</div>"
      ],
      "text/plain": [
       "       AVG_READING_8_SCORE_median  AVG_READING_8_SCORE_mean  \\\n",
       "count                 1492.000000               1492.000000   \n",
       "mean                   264.165786                263.563582   \n",
       "std                      3.963715                  3.949609   \n",
       "min                    236.379102                236.379102   \n",
       "25%                    264.466921                263.535778   \n",
       "50%                    264.466921                263.580017   \n",
       "75%                    264.466921                263.630005   \n",
       "max                    280.499130                280.499130   \n",
       "\n",
       "       AVG_READING_8_SCORE_i  \n",
       "count            1491.000000  \n",
       "mean              263.267799  \n",
       "std                 4.978792  \n",
       "min               236.379102  \n",
       "25%               260.490023  \n",
       "50%               262.617766  \n",
       "75%               266.849675  \n",
       "max               280.499130  "
      ]
     },
     "execution_count": 17,
     "metadata": {},
     "output_type": "execute_result"
    }
   ],
   "source": [
    "plt.hist(education['AVG_READING_8_SCORE_median'], label='Filling w/median')\n",
    "plt.hist(education['AVG_READING_8_SCORE_mean'], label='Filling w/mean')\n",
    "plt.hist(education['AVG_READING_8_SCORE_i'].dropna(), label='Filling w/interpolation')\n",
    "plt.legend(loc='lower left')\n",
    "plt.title('AVG_READING_8_SCORE')\n",
    "plt.show()\n",
    "\n",
    "education[['AVG_READING_8_SCORE_median','AVG_READING_8_SCORE_mean','AVG_READING_8_SCORE_i']].describe()"
   ]
  },
  {
   "cell_type": "markdown",
   "metadata": {},
   "source": [
    "#### Conclusions: When interpolation is used, standard deviation is always greater than other two results get from mean and median techniques."
   ]
  },
  {
   "cell_type": "code",
   "execution_count": null,
   "metadata": {},
   "outputs": [],
   "source": []
  }
 ],
 "metadata": {
  "kernelspec": {
   "display_name": "Python 3",
   "language": "python",
   "name": "python3"
  },
  "language_info": {
   "codemirror_mode": {
    "name": "ipython",
    "version": 3
   },
   "file_extension": ".py",
   "mimetype": "text/x-python",
   "name": "python",
   "nbconvert_exporter": "python",
   "pygments_lexer": "ipython3",
   "version": "3.7.0"
  }
 },
 "nbformat": 4,
 "nbformat_minor": 2
}
