{
 "cells": [
  {
   "cell_type": "markdown",
   "metadata": {},
   "source": [
    "## Assignment\n",
    "\n",
    "In this assignment, you keep working with the Students Performance in Exams dataset from Kaggle. You should access the data from the Thinkful database. Here's the credentials you can use to connect to the database:\n",
    "\n",
    "postgres_user = 'dsbc_student'<br>\n",
    "postgres_pw = '7\\*.8G9QH21'<br>\n",
    "postgres_host = '142.93.121.174'<br>\n",
    "postgres_port = '5432'<br>\n",
    "postgres_db = 'studentsperformance'<br>\n",
    "\n",
    "To complete this assignment, submit a link to a Jupyter notebook containing your solutions to the following tasks:\n",
    "\n",
    "1. Are there any differences between the genders, ethnicities, and parental level of education with respect to their performances in exams?\n",
    "2. Are there any differences between the lunch types with respect to their performances in exams? If there are, how do you explain this?\n",
    "3. Does the test preparation course seem to have an effect on the exam performances?\n",
    "4. Which 2 exam scores are most correlated with each other?\n",
    "\n"
   ]
  },
  {
   "cell_type": "code",
   "execution_count": 3,
   "metadata": {},
   "outputs": [],
   "source": [
    "import pandas as pd\n",
    "import numpy as np\n",
    "import matplotlib.pyplot as plt\n",
    "import seaborn as sns\n",
    "import warnings\n",
    "\n",
    "from sqlalchemy import create_engine\n",
    "\n",
    "\n",
    "postgres_user = 'dsbc_student'\n",
    "postgres_pw = '7*.8G9QH21'\n",
    "postgres_host = '142.93.121.174'\n",
    "postgres_port = '5432'\n",
    "postgres_db = 'studentsperformance'\n",
    "\n",
    "\n",
    "engine = create_engine('postgresql://{}:{}@{}:{}/{}'.format(\n",
    "    postgres_user, postgres_pw, postgres_host, postgres_port, postgres_db))\n",
    "\n",
    "performance = pd.read_sql_query('select * from studentsperformance',con=engine)\n",
    "\n",
    "# no need for an open connection, \n",
    "# as we're only doing a single query\n",
    "engine.dispose()\n"
   ]
  },
  {
   "cell_type": "code",
   "execution_count": 10,
   "metadata": {},
   "outputs": [
    {
     "data": {
      "text/html": [
       "<div>\n",
       "<style scoped>\n",
       "    .dataframe tbody tr th:only-of-type {\n",
       "        vertical-align: middle;\n",
       "    }\n",
       "\n",
       "    .dataframe tbody tr th {\n",
       "        vertical-align: top;\n",
       "    }\n",
       "\n",
       "    .dataframe thead th {\n",
       "        text-align: right;\n",
       "    }\n",
       "</style>\n",
       "<table border=\"1\" class=\"dataframe\">\n",
       "  <thead>\n",
       "    <tr style=\"text-align: right;\">\n",
       "      <th></th>\n",
       "      <th>gender</th>\n",
       "      <th>race/ethnicity</th>\n",
       "      <th>parental_level_of_education</th>\n",
       "      <th>lunch</th>\n",
       "      <th>test_preparation_course</th>\n",
       "      <th>math_score</th>\n",
       "      <th>reading_score</th>\n",
       "      <th>writing_score</th>\n",
       "    </tr>\n",
       "  </thead>\n",
       "  <tbody>\n",
       "    <tr>\n",
       "      <th>0</th>\n",
       "      <td>female</td>\n",
       "      <td>group B</td>\n",
       "      <td>bachelor's degree</td>\n",
       "      <td>standard</td>\n",
       "      <td>none</td>\n",
       "      <td>72</td>\n",
       "      <td>72</td>\n",
       "      <td>74</td>\n",
       "    </tr>\n",
       "    <tr>\n",
       "      <th>1</th>\n",
       "      <td>female</td>\n",
       "      <td>group C</td>\n",
       "      <td>some college</td>\n",
       "      <td>standard</td>\n",
       "      <td>completed</td>\n",
       "      <td>69</td>\n",
       "      <td>90</td>\n",
       "      <td>88</td>\n",
       "    </tr>\n",
       "    <tr>\n",
       "      <th>2</th>\n",
       "      <td>female</td>\n",
       "      <td>group B</td>\n",
       "      <td>master's degree</td>\n",
       "      <td>standard</td>\n",
       "      <td>none</td>\n",
       "      <td>90</td>\n",
       "      <td>95</td>\n",
       "      <td>93</td>\n",
       "    </tr>\n",
       "    <tr>\n",
       "      <th>3</th>\n",
       "      <td>male</td>\n",
       "      <td>group A</td>\n",
       "      <td>associate's degree</td>\n",
       "      <td>free/reduced</td>\n",
       "      <td>none</td>\n",
       "      <td>47</td>\n",
       "      <td>57</td>\n",
       "      <td>44</td>\n",
       "    </tr>\n",
       "    <tr>\n",
       "      <th>4</th>\n",
       "      <td>male</td>\n",
       "      <td>group C</td>\n",
       "      <td>some college</td>\n",
       "      <td>standard</td>\n",
       "      <td>none</td>\n",
       "      <td>76</td>\n",
       "      <td>78</td>\n",
       "      <td>75</td>\n",
       "    </tr>\n",
       "  </tbody>\n",
       "</table>\n",
       "</div>"
      ],
      "text/plain": [
       "   gender race/ethnicity parental_level_of_education         lunch  \\\n",
       "0  female        group B           bachelor's degree      standard   \n",
       "1  female        group C                some college      standard   \n",
       "2  female        group B             master's degree      standard   \n",
       "3    male        group A          associate's degree  free/reduced   \n",
       "4    male        group C                some college      standard   \n",
       "\n",
       "  test_preparation_course  math_score  reading_score  writing_score  \n",
       "0                    none          72             72             74  \n",
       "1               completed          69             90             88  \n",
       "2                    none          90             95             93  \n",
       "3                    none          47             57             44  \n",
       "4                    none          76             78             75  "
      ]
     },
     "execution_count": 10,
     "metadata": {},
     "output_type": "execute_result"
    }
   ],
   "source": [
    "# Iterating the columns and removing blank spaces\n",
    "\n",
    "for c in performance.columns:\n",
    "    performance.rename(columns={c:c.replace(' ','_')},inplace=True)\n",
    "\n",
    "performance.head()"
   ]
  },
  {
   "cell_type": "markdown",
   "metadata": {},
   "source": [
    "### 1. Are there any differences between the genders, ethnicities, and parental level of education with respect to their performances in exams?\n",
    "\n",
    "_Yes, there are some differences. First impressions are coming from visualizations below. Later I verified my first informal results using statistical test._"
   ]
  },
  {
   "cell_type": "code",
   "execution_count": 26,
   "metadata": {},
   "outputs": [
    {
     "data": {
      "text/plain": [
       "<matplotlib.axes._subplots.AxesSubplot at 0x1308d1fd0>"
      ]
     },
     "execution_count": 26,
     "metadata": {},
     "output_type": "execute_result"
    },
    {
     "data": {
      "image/png": "[encoded data removed]",
      "text/plain": [
       "<Figure size 1296x360 with 3 Axes>"
      ]
     },
     "metadata": {
      "needs_background": "light"
     },
     "output_type": "display_data"
    }
   ],
   "source": [
    "plt.figure(figsize=(18,5))\n",
    "\n",
    "plt.subplot(1,3,1)\n",
    "\n",
    "sns.barplot(performance['gender'],performance['math_score'])\n",
    "\n",
    "plt.subplot(1,3,2)\n",
    "sns.barplot(performance['gender'],performance['reading_score'])\n",
    "\n",
    "plt.subplot(1,3,3)\n",
    "sns.barplot(performance['gender'],performance['writing_score'])"
   ]
  },
  {
   "cell_type": "code",
   "execution_count": 27,
   "metadata": {},
   "outputs": [
    {
     "data": {
      "text/html": [
       "<div>\n",
       "<style scoped>\n",
       "    .dataframe tbody tr th:only-of-type {\n",
       "        vertical-align: middle;\n",
       "    }\n",
       "\n",
       "    .dataframe tbody tr th {\n",
       "        vertical-align: top;\n",
       "    }\n",
       "\n",
       "    .dataframe thead th {\n",
       "        text-align: right;\n",
       "    }\n",
       "</style>\n",
       "<table border=\"1\" class=\"dataframe\">\n",
       "  <thead>\n",
       "    <tr style=\"text-align: right;\">\n",
       "      <th></th>\n",
       "      <th>math_score</th>\n",
       "      <th>reading_score</th>\n",
       "      <th>writing_score</th>\n",
       "    </tr>\n",
       "    <tr>\n",
       "      <th>gender</th>\n",
       "      <th></th>\n",
       "      <th></th>\n",
       "      <th></th>\n",
       "    </tr>\n",
       "  </thead>\n",
       "  <tbody>\n",
       "    <tr>\n",
       "      <th>female</th>\n",
       "      <td>63.633205</td>\n",
       "      <td>72.608108</td>\n",
       "      <td>72.467181</td>\n",
       "    </tr>\n",
       "    <tr>\n",
       "      <th>male</th>\n",
       "      <td>68.728216</td>\n",
       "      <td>65.473029</td>\n",
       "      <td>63.311203</td>\n",
       "    </tr>\n",
       "  </tbody>\n",
       "</table>\n",
       "</div>"
      ],
      "text/plain": [
       "        math_score  reading_score  writing_score\n",
       "gender                                          \n",
       "female   63.633205      72.608108      72.467181\n",
       "male     68.728216      65.473029      63.311203"
      ]
     },
     "execution_count": 27,
     "metadata": {},
     "output_type": "execute_result"
    }
   ],
   "source": [
    "performance.groupby(['gender']).mean()"
   ]
  },
  {
   "cell_type": "code",
   "execution_count": 89,
   "metadata": {},
   "outputs": [
    {
     "data": {
      "text/plain": [
       "Text(0.5,1,'Writing Scored grouped by Race')"
      ]
     },
     "execution_count": 89,
     "metadata": {},
     "output_type": "execute_result"
    },
    {
     "data": {
      "image/png": "[encoded data removed]",
      "text/plain": [
       "<Figure size 1296x360 with 3 Axes>"
      ]
     },
     "metadata": {
      "needs_background": "light"
     },
     "output_type": "display_data"
    }
   ],
   "source": [
    "plt.figure(figsize=(18,5))\n",
    "\n",
    "plt.subplot(1,3,1)\n",
    "sns.barplot(performance['race/ethnicity'],performance['math_score'])\n",
    "plt.title('Math Score grouped by race')\n",
    "plt.subplot(1,3,2)\n",
    "sns.barplot(performance['race/ethnicity'],performance['reading_score'])\n",
    "plt.title('Reading Score grouped by Race')\n",
    "plt.subplot(1,3,3)\n",
    "sns.barplot(performance['race/ethnicity'],performance['writing_score'])\n",
    "plt.title('Writing Scored grouped by Race')"
   ]
  },
  {
   "cell_type": "code",
   "execution_count": 18,
   "metadata": {},
   "outputs": [
    {
     "data": {
      "text/html": [
       "<div>\n",
       "<style scoped>\n",
       "    .dataframe tbody tr th:only-of-type {\n",
       "        vertical-align: middle;\n",
       "    }\n",
       "\n",
       "    .dataframe tbody tr th {\n",
       "        vertical-align: top;\n",
       "    }\n",
       "\n",
       "    .dataframe thead th {\n",
       "        text-align: right;\n",
       "    }\n",
       "</style>\n",
       "<table border=\"1\" class=\"dataframe\">\n",
       "  <thead>\n",
       "    <tr style=\"text-align: right;\">\n",
       "      <th></th>\n",
       "      <th>math_score</th>\n",
       "      <th>reading_score</th>\n",
       "      <th>writing_score</th>\n",
       "    </tr>\n",
       "    <tr>\n",
       "      <th>race/ethnicity</th>\n",
       "      <th></th>\n",
       "      <th></th>\n",
       "      <th></th>\n",
       "    </tr>\n",
       "  </thead>\n",
       "  <tbody>\n",
       "    <tr>\n",
       "      <th>group A</th>\n",
       "      <td>61.629213</td>\n",
       "      <td>64.674157</td>\n",
       "      <td>62.674157</td>\n",
       "    </tr>\n",
       "    <tr>\n",
       "      <th>group B</th>\n",
       "      <td>63.452632</td>\n",
       "      <td>67.352632</td>\n",
       "      <td>65.600000</td>\n",
       "    </tr>\n",
       "    <tr>\n",
       "      <th>group C</th>\n",
       "      <td>64.463950</td>\n",
       "      <td>69.103448</td>\n",
       "      <td>67.827586</td>\n",
       "    </tr>\n",
       "    <tr>\n",
       "      <th>group D</th>\n",
       "      <td>67.362595</td>\n",
       "      <td>70.030534</td>\n",
       "      <td>70.145038</td>\n",
       "    </tr>\n",
       "    <tr>\n",
       "      <th>group E</th>\n",
       "      <td>73.821429</td>\n",
       "      <td>73.028571</td>\n",
       "      <td>71.407143</td>\n",
       "    </tr>\n",
       "  </tbody>\n",
       "</table>\n",
       "</div>"
      ],
      "text/plain": [
       "                math_score  reading_score  writing_score\n",
       "race/ethnicity                                          \n",
       "group A          61.629213      64.674157      62.674157\n",
       "group B          63.452632      67.352632      65.600000\n",
       "group C          64.463950      69.103448      67.827586\n",
       "group D          67.362595      70.030534      70.145038\n",
       "group E          73.821429      73.028571      71.407143"
      ]
     },
     "execution_count": 18,
     "metadata": {},
     "output_type": "execute_result"
    }
   ],
   "source": [
    "performance.groupby(['race/ethnicity']).mean()"
   ]
  },
  {
   "cell_type": "code",
   "execution_count": 38,
   "metadata": {},
   "outputs": [
    {
     "data": {
      "text/plain": [
       "Text(0.5,1,'Writint Score grouped by Parent Level of Education')"
      ]
     },
     "execution_count": 38,
     "metadata": {},
     "output_type": "execute_result"
    },
    {
     "data": {
      "image/png": "[encoded data removed]",
      "text/plain": [
       "<Figure size 1296x360 with 3 Axes>"
      ]
     },
     "metadata": {
      "needs_background": "light"
     },
     "output_type": "display_data"
    }
   ],
   "source": [
    "plt.figure(figsize=(18,5))\n",
    "\n",
    "plt.subplot(1,3,1)\n",
    "sns.barplot(performance['parental_level_of_education'],performance['math_score'])\n",
    "plt.setp(plt.gca().get_xticklabels(), rotation=45, horizontalalignment='right')\n",
    "plt.title('Math Score grouped by Parent Level of Education')\n",
    "\n",
    "plt.subplot(1,3,2)\n",
    "sns.barplot(performance['parental_level_of_education'],performance['reading_score'])\n",
    "plt.setp(plt.gca().get_xticklabels(), rotation=45, horizontalalignment='right')\n",
    "plt.title('Reading Score grouped by Parent Level of Education')\n",
    "\n",
    "plt.subplot(1,3,3)\n",
    "sns.barplot(performance['parental_level_of_education'],performance['writing_score'])\n",
    "plt.setp(plt.gca().get_xticklabels(), rotation=45, horizontalalignment='right')\n",
    "plt.title('Writint Score grouped by Parent Level of Education')\n",
    "\n",
    "\n"
   ]
  },
  {
   "cell_type": "code",
   "execution_count": 19,
   "metadata": {},
   "outputs": [
    {
     "data": {
      "text/html": [
       "<div>\n",
       "<style scoped>\n",
       "    .dataframe tbody tr th:only-of-type {\n",
       "        vertical-align: middle;\n",
       "    }\n",
       "\n",
       "    .dataframe tbody tr th {\n",
       "        vertical-align: top;\n",
       "    }\n",
       "\n",
       "    .dataframe thead th {\n",
       "        text-align: right;\n",
       "    }\n",
       "</style>\n",
       "<table border=\"1\" class=\"dataframe\">\n",
       "  <thead>\n",
       "    <tr style=\"text-align: right;\">\n",
       "      <th></th>\n",
       "      <th>math_score</th>\n",
       "      <th>reading_score</th>\n",
       "      <th>writing_score</th>\n",
       "    </tr>\n",
       "    <tr>\n",
       "      <th>parental_level_of_education</th>\n",
       "      <th></th>\n",
       "      <th></th>\n",
       "      <th></th>\n",
       "    </tr>\n",
       "  </thead>\n",
       "  <tbody>\n",
       "    <tr>\n",
       "      <th>associate's degree</th>\n",
       "      <td>67.882883</td>\n",
       "      <td>70.927928</td>\n",
       "      <td>69.896396</td>\n",
       "    </tr>\n",
       "    <tr>\n",
       "      <th>bachelor's degree</th>\n",
       "      <td>69.389831</td>\n",
       "      <td>73.000000</td>\n",
       "      <td>73.381356</td>\n",
       "    </tr>\n",
       "    <tr>\n",
       "      <th>high school</th>\n",
       "      <td>62.137755</td>\n",
       "      <td>64.704082</td>\n",
       "      <td>62.448980</td>\n",
       "    </tr>\n",
       "    <tr>\n",
       "      <th>master's degree</th>\n",
       "      <td>69.745763</td>\n",
       "      <td>75.372881</td>\n",
       "      <td>75.677966</td>\n",
       "    </tr>\n",
       "    <tr>\n",
       "      <th>some college</th>\n",
       "      <td>67.128319</td>\n",
       "      <td>69.460177</td>\n",
       "      <td>68.840708</td>\n",
       "    </tr>\n",
       "    <tr>\n",
       "      <th>some high school</th>\n",
       "      <td>63.497207</td>\n",
       "      <td>66.938547</td>\n",
       "      <td>64.888268</td>\n",
       "    </tr>\n",
       "  </tbody>\n",
       "</table>\n",
       "</div>"
      ],
      "text/plain": [
       "                             math_score  reading_score  writing_score\n",
       "parental_level_of_education                                          \n",
       "associate's degree            67.882883      70.927928      69.896396\n",
       "bachelor's degree             69.389831      73.000000      73.381356\n",
       "high school                   62.137755      64.704082      62.448980\n",
       "master's degree               69.745763      75.372881      75.677966\n",
       "some college                  67.128319      69.460177      68.840708\n",
       "some high school              63.497207      66.938547      64.888268"
      ]
     },
     "execution_count": 19,
     "metadata": {},
     "output_type": "execute_result"
    }
   ],
   "source": [
    "performance.groupby('parental_level_of_education').mean()"
   ]
  },
  {
   "cell_type": "markdown",
   "metadata": {},
   "source": [
    "**Using groupby I can see:**\n",
    "\n",
    "- There might not be a significant difference between genders\n",
    "- There might be some differences in scores based on ethnicities\n",
    "- There might be some differences on scores based on parent level of education\n",
    "\n",
    "**Let's verify if said above is true, using statistical test**"
   ]
  },
  {
   "cell_type": "code",
   "execution_count": 113,
   "metadata": {},
   "outputs": [
    {
     "name": "stdout",
     "output_type": "stream",
     "text": [
      "RESULTS OF GENDER\n",
      "T-test for female,male regarding to: writing_score \n",
      "Ttest_indResult(statistic=9.979557910004507, pvalue=2.019877706867934e-22)\n",
      "Statistical significant difference\n",
      " \n",
      "T-test for female,male regarding to: reading_score \n",
      "Ttest_indResult(statistic=7.959308005187657, pvalue=4.680538743933289e-15)\n",
      "Statistical significant difference\n",
      " \n",
      "T-test for female,male regarding to: math_score \n",
      "Ttest_indResult(statistic=-5.383245869828983, pvalue=9.120185549328822e-08)\n",
      "Statistical significant difference\n",
      " \n"
     ]
    }
   ],
   "source": [
    "#Using statistical test to verify differences between the genders, ethnicities, \n",
    "#and parental level of education with respect to their performances in exams\n",
    "\n",
    "import scipy.stats as stats\n",
    "\n",
    "def statistic_test(categorical_name,cat_list,continuous_list):\n",
    "    \n",
    "    \"\"\" Function: statistic_test, calculation for categorical and continuous variables to verify \n",
    "                  significant differences betwen them\n",
    "        Parameters: categorical variable name, list of unique values of categorical variable, list of names of continuous variables\n",
    "        Return: The result of stats.ttest_ind function   \n",
    "    \"\"\"\n",
    "    \n",
    "    for continuous_var in continuous_list:\n",
    "\n",
    "        for i in range(0,len(cat_list)):\n",
    "            for j in range(i+1,len(cat_list)):\n",
    "                print('T-test for {},{} regarding to: {} '.format(cat_list[i],cat_list[j],continuous_var))\n",
    "                results = stats.ttest_ind(\n",
    "                performance[performance[categorical_name]==cat_list[i]][continuous_var], \n",
    "                performance[performance[categorical_name]==cat_list[j]][continuous_var])\n",
    "                print(results)\n",
    "                \n",
    "                #results[1] contains p-value value\n",
    "                if results[1] < 0.05:\n",
    "                    print('Statistical significant difference')\n",
    "                else:\n",
    "                    print('NO Significant difference')\n",
    "                    \n",
    "                print(' ')\n",
    "\n",
    "\n",
    "#Creating parameters to send to statistic_test function\n",
    "\n",
    "genders = performance.gender.unique()\n",
    "races = performance['race/ethnicity'].unique()\n",
    "parent_education = performance.parental_level_of_education.unique()\n",
    "continuous_var = ['writing_score','reading_score','math_score']\n",
    "\n",
    "#Calling statistic_test function for every categorical variable to verify\n",
    "\n",
    "print('RESULTS OF GENDER')\n",
    "statistic_test('gender',genders,continuous_var)"
   ]
  },
  {
   "cell_type": "code",
   "execution_count": 114,
   "metadata": {},
   "outputs": [
    {
     "name": "stdout",
     "output_type": "stream",
     "text": [
      "RESULTS OF RACE\n",
      "T-test for group B,group C regarding to: writing_score \n",
      "Ttest_indResult(statistic=-1.5964963433740407, pvalue=0.1110010959814519)\n",
      "NO Significant difference\n",
      " \n",
      "T-test for group B,group A regarding to: writing_score \n",
      "Ttest_indResult(statistic=1.4624420577998105, pvalue=0.14475374198993884)\n",
      "NO Significant difference\n",
      " \n",
      "T-test for group B,group D regarding to: writing_score \n",
      "Ttest_indResult(statistic=-3.19929333232526, pvalue=0.0014749978881319053)\n",
      "Statistical significant difference\n",
      " \n",
      "T-test for group B,group E regarding to: writing_score \n",
      "Ttest_indResult(statistic=-3.3831978345244518, pvalue=0.0008032300486353951)\n",
      "Statistical significant difference\n",
      " \n",
      "T-test for group C,group A regarding to: writing_score \n",
      "Ttest_indResult(statistic=2.848872404992454, pvalue=0.004610690740740428)\n",
      "Statistical significant difference\n",
      " \n",
      "T-test for group C,group D regarding to: writing_score \n",
      "Ttest_indResult(statistic=-1.8896631516726248, pvalue=0.05930232918708209)\n",
      "NO Significant difference\n",
      " \n",
      "T-test for group C,group E regarding to: writing_score \n",
      "Ttest_indResult(statistic=-2.3502811868359177, pvalue=0.019183539018898285)\n",
      "Statistical significant difference\n",
      " \n",
      "T-test for group A,group D regarding to: writing_score \n",
      "Ttest_indResult(statistic=-4.1556316361449195, pvalue=4.084805733969806e-05)\n",
      "Statistical significant difference\n",
      " \n",
      "T-test for group A,group E regarding to: writing_score \n",
      "Ttest_indResult(statistic=-4.2234736631970105, pvalue=3.483278064499439e-05)\n",
      "Statistical significant difference\n",
      " \n",
      "T-test for group D,group E regarding to: writing_score \n",
      "Ttest_indResult(statistic=-0.8239736571520918, pvalue=0.4104455517392258)\n",
      "NO Significant difference\n",
      " \n",
      "T-test for group B,group C regarding to: reading_score \n",
      "Ttest_indResult(statistic=-1.3223156212901772, pvalue=0.1866592809035069)\n",
      "NO Significant difference\n",
      " \n",
      "T-test for group B,group A regarding to: reading_score \n",
      "Ttest_indResult(statistic=1.3633682262027682, pvalue=0.1738735513443721)\n",
      "NO Significant difference\n",
      " \n",
      "T-test for group B,group D regarding to: reading_score \n",
      "Ttest_indResult(statistic=-1.9451563636864795, pvalue=0.0523786206559701)\n",
      "NO Significant difference\n",
      " \n",
      "T-test for group B,group E regarding to: reading_score \n",
      "Ttest_indResult(statistic=-3.386066945409153, pvalue=0.0007951618495240944)\n",
      "Statistical significant difference\n",
      " \n",
      "T-test for group C,group A regarding to: reading_score \n",
      "Ttest_indResult(statistic=2.575432218066352, pvalue=0.010364398025471079)\n",
      "Statistical significant difference\n",
      " \n",
      "T-test for group C,group D regarding to: reading_score \n",
      "Ttest_indResult(statistic=-0.7970109316408917, pvalue=0.425771382113019)\n",
      "NO Significant difference\n",
      " \n",
      "T-test for group C,group E regarding to: reading_score \n",
      "Ttest_indResult(statistic=-2.7133018645371685, pvalue=0.0069132842804986595)\n",
      "Statistical significant difference\n",
      " \n",
      "T-test for group A,group D regarding to: reading_score \n",
      "Ttest_indResult(statistic=-3.0468548573461187, pvalue=0.002488654464332207)\n",
      "Statistical significant difference\n",
      " \n",
      "T-test for group A,group E regarding to: reading_score \n",
      "Ttest_indResult(statistic=-4.071106227981414, pvalue=6.463395931833847e-05)\n",
      "Statistical significant difference\n",
      " \n",
      "T-test for group D,group E regarding to: reading_score \n",
      "Ttest_indResult(statistic=-2.0106479406031794, pvalue=0.045033306431345586)\n",
      "Statistical significant difference\n",
      " \n",
      "T-test for group B,group C regarding to: math_score \n",
      "Ttest_indResult(statistic=-0.7315669893534263, pvalue=0.4647708939167453)\n",
      "NO Significant difference\n",
      " \n",
      "T-test for group B,group A regarding to: math_score \n",
      "Ttest_indResult(statistic=0.9355076279747488, pvalue=0.3503415961659957)\n",
      "NO Significant difference\n",
      " \n",
      "T-test for group B,group D regarding to: math_score \n",
      "Ttest_indResult(statistic=-2.82845539712675, pvalue=0.004886197137104194)\n",
      "Statistical significant difference\n",
      " \n",
      "T-test for group B,group E regarding to: math_score \n",
      "Ttest_indResult(statistic=-6.007397050552227, pvalue=5.007946047497971e-09)\n",
      "Statistical significant difference\n",
      " \n",
      "T-test for group C,group A regarding to: math_score \n",
      "Ttest_indResult(statistic=1.5997220303217299, pvalue=0.11043810745588042)\n",
      "NO Significant difference\n",
      " \n",
      "T-test for group C,group D regarding to: math_score \n",
      "Ttest_indResult(statistic=-2.41858624746011, pvalue=0.015888349556016285)\n",
      "Statistical significant difference\n",
      " \n",
      "T-test for group C,group E regarding to: math_score \n",
      "Ttest_indResult(statistic=-6.127642520822135, pvalue=1.927238849552764e-09)\n",
      "Statistical significant difference\n",
      " \n",
      "T-test for group A,group D regarding to: math_score \n",
      "Ttest_indResult(statistic=-3.3466982429712298, pvalue=0.0009068636053543751)\n",
      "Statistical significant difference\n",
      " \n",
      "T-test for group A,group E regarding to: math_score \n",
      "Ttest_indResult(statistic=-5.936141025544798, pvalue=1.083559122656415e-08)\n",
      "Statistical significant difference\n",
      " \n",
      "T-test for group D,group E regarding to: math_score \n",
      "Ttest_indResult(statistic=-4.282287214674715, pvalue=2.3187640326715042e-05)\n",
      "Statistical significant difference\n",
      " \n"
     ]
    }
   ],
   "source": [
    "print('RESULTS OF RACE')\n",
    "statistic_test('race/ethnicity',races,continuous_var) "
   ]
  },
  {
   "cell_type": "code",
   "execution_count": 115,
   "metadata": {},
   "outputs": [
    {
     "name": "stdout",
     "output_type": "stream",
     "text": [
      "RESULTS OF PARENT LEVEL OF EDUCATION\n",
      "T-test for bachelor's degree,some college regarding to: writing_score \n",
      "Ttest_indResult(statistic=2.6803314684632196, pvalue=0.00771101202367254)\n",
      "Statistical significant difference\n",
      " \n",
      "T-test for bachelor's degree,master's degree regarding to: writing_score \n",
      "Ttest_indResult(statistic=-0.9998741306804844, pvalue=0.3187519641464658)\n",
      "NO Significant difference\n",
      " \n",
      "T-test for bachelor's degree,associate's degree regarding to: writing_score \n",
      "Ttest_indResult(statistic=2.1159296639133762, pvalue=0.03508162451719667)\n",
      "Statistical significant difference\n",
      " \n",
      "T-test for bachelor's degree,high school regarding to: writing_score \n",
      "Ttest_indResult(statistic=6.547380937127048, pvalue=2.4076253789515874e-10)\n",
      "Statistical significant difference\n",
      " \n",
      "T-test for bachelor's degree,some high school regarding to: writing_score \n",
      "Ttest_indResult(statistic=4.667733097498242, pvalue=4.628198526834338e-06)\n",
      "Statistical significant difference\n",
      " \n",
      "T-test for some college,master's degree regarding to: writing_score \n",
      "Ttest_indResult(statistic=-3.1687690632394907, pvalue=0.0016985933135959495)\n",
      "Statistical significant difference\n",
      " \n",
      "T-test for some college,associate's degree regarding to: writing_score \n",
      "Ttest_indResult(statistic=-0.7615968643953912, pvalue=0.44670316603036575)\n",
      "NO Significant difference\n",
      " \n",
      "T-test for some college,high school regarding to: writing_score \n",
      "Ttest_indResult(statistic=4.488520877492127, pvalue=9.275017802620877e-06)\n",
      "Statistical significant difference\n",
      " \n",
      "T-test for some college,some high school regarding to: writing_score \n",
      "Ttest_indResult(statistic=2.5757211403792417, pvalue=0.010358529086081357)\n",
      "Statistical significant difference\n",
      " \n",
      "T-test for master's degree,associate's degree regarding to: writing_score \n",
      "Ttest_indResult(statistic=2.78124154906855, pvalue=0.00578403270525775)\n",
      "Statistical significant difference\n",
      " \n",
      "T-test for master's degree,high school regarding to: writing_score \n",
      "Ttest_indResult(statistic=6.360904883721531, pvalue=9.326930296880332e-10)\n",
      "Statistical significant difference\n",
      " \n",
      "T-test for master's degree,some high school regarding to: writing_score \n",
      "Ttest_indResult(statistic=4.707583817143559, pvalue=4.275465153074631e-06)\n",
      "Statistical significant difference\n",
      " \n",
      "T-test for associate's degree,high school regarding to: writing_score \n",
      "Ttest_indResult(statistic=5.348725635626432, pvalue=1.4650545536741998e-07)\n",
      "Statistical significant difference\n",
      " \n",
      "T-test for associate's degree,some high school regarding to: writing_score \n",
      "Ttest_indResult(statistic=3.3317223453475715, pvalue=0.0009435990258795855)\n",
      "Statistical significant difference\n",
      " \n",
      "T-test for high school,some high school regarding to: writing_score \n",
      "Ttest_indResult(statistic=-1.5838885273076473, pvalue=0.11406653932963291)\n",
      "NO Significant difference\n",
      " \n",
      "T-test for bachelor's degree,some college regarding to: reading_score \n",
      "Ttest_indResult(statistic=2.2048821209085077, pvalue=0.028127555314401052)\n",
      "Statistical significant difference\n",
      " \n",
      "T-test for bachelor's degree,master's degree regarding to: reading_score \n",
      "Ttest_indResult(statistic=-1.0540858949475984, pvalue=0.29329675131787897)\n",
      "NO Significant difference\n",
      " \n",
      "T-test for bachelor's degree,associate's degree regarding to: reading_score \n",
      "Ttest_indResult(statistic=1.2977969850452833, pvalue=0.19524206483091092)\n",
      "NO Significant difference\n",
      " \n",
      "T-test for bachelor's degree,high school regarding to: reading_score \n",
      "Ttest_indResult(statistic=5.017577900835298, pvalue=8.804250310784477e-07)\n",
      "Statistical significant difference\n",
      " \n",
      "T-test for bachelor's degree,some high school regarding to: reading_score \n",
      "Ttest_indResult(statistic=3.4039270673798745, pvalue=0.0007561971719730451)\n",
      "Statistical significant difference\n",
      " \n",
      "T-test for some college,master's degree regarding to: reading_score \n",
      "Ttest_indResult(statistic=-2.888843374950649, pvalue=0.004165440800640354)\n",
      "Statistical significant difference\n",
      " \n",
      "T-test for some college,associate's degree regarding to: reading_score \n",
      "Ttest_indResult(statistic=-1.11231882169149, pvalue=0.26660028539980146)\n",
      "NO Significant difference\n",
      " \n",
      "T-test for some college,high school regarding to: reading_score \n",
      "Ttest_indResult(statistic=3.4578427683620334, pvalue=0.0006001048481252139)\n",
      "Statistical significant difference\n",
      " \n",
      "T-test for some college,some high school regarding to: reading_score \n",
      "Ttest_indResult(statistic=1.714161972758909, pvalue=0.08726786856243877)\n",
      "NO Significant difference\n",
      " \n",
      "T-test for master's degree,associate's degree regarding to: reading_score \n",
      "Ttest_indResult(statistic=2.1912015759838686, pvalue=0.02926414570972208)\n",
      "Statistical significant difference\n",
      " \n",
      "T-test for master's degree,high school regarding to: reading_score \n",
      "Ttest_indResult(statistic=5.113158728723477, pvalue=6.257558119816884e-07)\n",
      "Statistical significant difference\n",
      " \n",
      "T-test for master's degree,some high school regarding to: reading_score \n",
      "Ttest_indResult(statistic=3.7261574122231513, pvalue=0.00024334552617191513)\n",
      "Statistical significant difference\n",
      " \n",
      "T-test for associate's degree,high school regarding to: reading_score \n",
      "Ttest_indResult(statistic=4.538021419898997, pvalue=7.442167797135797e-06)\n",
      "Statistical significant difference\n",
      " \n",
      "T-test for associate's degree,some high school regarding to: reading_score \n",
      "Ttest_indResult(statistic=2.7183602204037927, pvalue=0.006846770119677965)\n",
      "Statistical significant difference\n",
      " \n",
      "T-test for high school,some high school regarding to: reading_score \n",
      "Ttest_indResult(statistic=-1.461284757591555, pvalue=0.1447791955248275)\n",
      "NO Significant difference\n",
      " \n",
      "T-test for bachelor's degree,some college regarding to: math_score \n",
      "Ttest_indResult(statistic=1.3702352829617477, pvalue=0.17151224218471559)\n",
      "NO Significant difference\n",
      " \n",
      "T-test for bachelor's degree,master's degree regarding to: math_score \n",
      "Ttest_indResult(statistic=-0.14868196568849312, pvalue=0.8819757824867702)\n",
      "NO Significant difference\n",
      " \n",
      "T-test for bachelor's degree,associate's degree regarding to: math_score \n",
      "Ttest_indResult(statistic=0.8786641889793243, pvalue=0.38020757818036177)\n",
      "NO Significant difference\n",
      " \n",
      "T-test for bachelor's degree,high school regarding to: math_score \n",
      "Ttest_indResult(statistic=4.236143622484822, pvalue=2.9965345853843376e-05)\n",
      "Statistical significant difference\n",
      " \n",
      "T-test for bachelor's degree,some high school regarding to: math_score \n",
      "Ttest_indResult(statistic=3.196718602676573, pvalue=0.0015409192922812146)\n",
      "Statistical significant difference\n",
      " \n",
      "T-test for some college,master's degree regarding to: math_score \n",
      "Ttest_indResult(statistic=-1.2356334215824571, pvalue=0.21761956810347416)\n",
      "NO Significant difference\n",
      " \n",
      "T-test for some college,associate's degree regarding to: math_score \n",
      "Ttest_indResult(statistic=-0.5426842696247527, pvalue=0.5876182809234072)\n",
      "NO Significant difference\n",
      " \n",
      "T-test for some college,high school regarding to: math_score \n",
      "Ttest_indResult(statistic=3.5461079495681163, pvalue=0.00043498004192453146)\n",
      "Statistical significant difference\n",
      " \n",
      "T-test for some college,some high school regarding to: math_score \n",
      "Ttest_indResult(statistic=2.4117046231407633, pvalue=0.016324361572645503)\n",
      "Statistical significant difference\n",
      " \n",
      "T-test for master's degree,associate's degree regarding to: math_score \n",
      "Ttest_indResult(statistic=0.8411229688563471, pvalue=0.4009993636124658)\n",
      "NO Significant difference\n",
      " \n",
      "T-test for master's degree,high school regarding to: math_score \n",
      "Ttest_indResult(statistic=3.4893759321890823, pvalue=0.000570929230228812)\n",
      "Statistical significant difference\n",
      " \n",
      "T-test for master's degree,some high school regarding to: math_score \n",
      "Ttest_indResult(statistic=2.6442572081925526, pvalue=0.008736228790471057)\n",
      "Statistical significant difference\n",
      " \n",
      "T-test for associate's degree,high school regarding to: math_score \n",
      "Ttest_indResult(statistic=3.9481325318265013, pvalue=9.247314274963044e-05)\n",
      "Statistical significant difference\n",
      " \n",
      "T-test for associate's degree,some high school regarding to: math_score \n",
      "Ttest_indResult(statistic=2.820053979930256, pvalue=0.005041081492906143)\n",
      "Statistical significant difference\n",
      " \n",
      "T-test for high school,some high school regarding to: math_score \n",
      "Ttest_indResult(statistic=-0.8640629490772553, pvalue=0.388108610360687)\n",
      "NO Significant difference\n",
      " \n"
     ]
    }
   ],
   "source": [
    "print('RESULTS OF PARENT LEVEL OF EDUCATION')\n",
    "statistic_test('parental_level_of_education',parent_education,continuous_var)\n",
    "    "
   ]
  },
  {
   "cell_type": "markdown",
   "metadata": {},
   "source": [
    "### 2. Are there any differences between the lunch types with respect to their performances in exams? If there are, how do you explain this?\n",
    "\n",
    "_Yes, there are significant differences between lunch types respect to their performance in math, reading and writting. I believe feeding is very important. See details below_"
   ]
  },
  {
   "cell_type": "code",
   "execution_count": 112,
   "metadata": {},
   "outputs": [
    {
     "data": {
      "image/png": "[encoded data removed]",
      "text/plain": [
       "<Figure size 1296x360 with 3 Axes>"
      ]
     },
     "metadata": {
      "needs_background": "light"
     },
     "output_type": "display_data"
    }
   ],
   "source": [
    "plt.figure(figsize=(18,5))\n",
    "\n",
    "plt.subplot(1,3,1)\n",
    "sns.barplot(performance['lunch'],performance['reading_score'])\n",
    "plt.title('Reading Score grouped by Lunch')\n",
    "\n",
    "plt.subplot(1,3,2)\n",
    "sns.barplot(performance['lunch'],performance['math_score'])\n",
    "plt.title('Math Score grouped by Lunch')\n",
    "\n",
    "plt.subplot(1,3,3)\n",
    "sns.barplot(performance['lunch'],performance['writing_score'])\n",
    "plt.title('Writing Score grouped by Lunch')\n",
    "\n",
    "plt.show()"
   ]
  },
  {
   "cell_type": "code",
   "execution_count": 110,
   "metadata": {},
   "outputs": [
    {
     "name": "stdout",
     "output_type": "stream",
     "text": [
      "RESULTS OF LUNCHS\n",
      "T-test for standard,free/reduced regarding to: writing_score \n",
      "Ttest_indResult(statistic=8.009784197834758, pvalue=3.186189583166477e-15)\n",
      "Statistical significant difference\n",
      " \n",
      "T-test for standard,free/reduced regarding to: reading_score \n",
      "Ttest_indResult(statistic=7.451056467473455, pvalue=2.0027966545279011e-13)\n",
      "Statistical significant difference\n",
      " \n",
      "T-test for standard,free/reduced regarding to: math_score \n",
      "Ttest_indResult(statistic=11.837180472914612, pvalue=2.4131955993137074e-30)\n",
      "Statistical significant difference\n",
      " \n"
     ]
    }
   ],
   "source": [
    "#Verifying if there are significant differences between the lunch types with respect to their performances in exams\n",
    "\n",
    "lunchs = performance.lunch.unique()\n",
    "print('RESULTS OF LUNCHS')\n",
    "statistic_test('lunch',lunchs,continuous_var)\n"
   ]
  },
  {
   "cell_type": "markdown",
   "metadata": {},
   "source": [
    "### 3. Does the test preparation course seem to have an effect on the exam performances?\n",
    "\n",
    "_Yes, for those people who complete a preparation course, their scores were higher. See details below_"
   ]
  },
  {
   "cell_type": "code",
   "execution_count": 124,
   "metadata": {},
   "outputs": [
    {
     "data": {
      "image/png": "[encoded data removed]",
      "text/plain": [
       "<Figure size 1080x360 with 3 Axes>"
      ]
     },
     "metadata": {
      "needs_background": "light"
     },
     "output_type": "display_data"
    }
   ],
   "source": [
    "plt.figure(figsize=(15,5))\n",
    "\n",
    "plt.subplot(1,3,1)\n",
    "sns.barplot(performance['test_preparation_course'],performance['math_score'])\n",
    "plt.title('Math Score grouped by Preparation Course')\n",
    "\n",
    "plt.subplot(1,3,2)\n",
    "sns.barplot(performance['test_preparation_course'],performance['reading_score'])\n",
    "plt.title('Reading Score grouped by Preparation Course')\n",
    "\n",
    "plt.subplot(1,3,3)\n",
    "sns.barplot(performance['test_preparation_course'],performance['writing_score'])\n",
    "plt.title('Writing Score grouped by Preparation Course')\n",
    "\n",
    "plt.show()"
   ]
  },
  {
   "cell_type": "code",
   "execution_count": 125,
   "metadata": {},
   "outputs": [
    {
     "name": "stdout",
     "output_type": "stream",
     "text": [
      "RESULTS OF PREPARATION COURSE\n",
      "T-test for none,completed regarding to: writing_score \n",
      "Ttest_indResult(statistic=-10.409173436808748, pvalue=3.68529173524572e-24)\n",
      "Statistical significant difference\n",
      " \n",
      "T-test for none,completed regarding to: reading_score \n",
      "Ttest_indResult(statistic=-7.871663538941468, pvalue=9.081783336892205e-15)\n",
      "Statistical significant difference\n",
      " \n",
      "T-test for none,completed regarding to: math_score \n",
      "Ttest_indResult(statistic=-5.704616417349102, pvalue=1.5359134607147415e-08)\n",
      "Statistical significant difference\n",
      " \n"
     ]
    }
   ],
   "source": [
    "preparations = performance.test_preparation_course.unique()\n",
    "\n",
    "print('RESULTS OF PREPARATION COURSE')\n",
    "statistic_test('test_preparation_course',preparations,continuous_var)\n"
   ]
  },
  {
   "cell_type": "code",
   "execution_count": 118,
   "metadata": {},
   "outputs": [
    {
     "data": {
      "text/html": [
       "<div>\n",
       "<style scoped>\n",
       "    .dataframe tbody tr th:only-of-type {\n",
       "        vertical-align: middle;\n",
       "    }\n",
       "\n",
       "    .dataframe tbody tr th {\n",
       "        vertical-align: top;\n",
       "    }\n",
       "\n",
       "    .dataframe thead th {\n",
       "        text-align: right;\n",
       "    }\n",
       "</style>\n",
       "<table border=\"1\" class=\"dataframe\">\n",
       "  <thead>\n",
       "    <tr style=\"text-align: right;\">\n",
       "      <th></th>\n",
       "      <th>gender</th>\n",
       "      <th>race/ethnicity</th>\n",
       "      <th>parental_level_of_education</th>\n",
       "      <th>lunch</th>\n",
       "      <th>test_preparation_course</th>\n",
       "      <th>math_score</th>\n",
       "      <th>reading_score</th>\n",
       "      <th>writing_score</th>\n",
       "    </tr>\n",
       "  </thead>\n",
       "  <tbody>\n",
       "    <tr>\n",
       "      <th>0</th>\n",
       "      <td>female</td>\n",
       "      <td>group B</td>\n",
       "      <td>bachelor's degree</td>\n",
       "      <td>standard</td>\n",
       "      <td>none</td>\n",
       "      <td>72</td>\n",
       "      <td>72</td>\n",
       "      <td>74</td>\n",
       "    </tr>\n",
       "    <tr>\n",
       "      <th>1</th>\n",
       "      <td>female</td>\n",
       "      <td>group C</td>\n",
       "      <td>some college</td>\n",
       "      <td>standard</td>\n",
       "      <td>completed</td>\n",
       "      <td>69</td>\n",
       "      <td>90</td>\n",
       "      <td>88</td>\n",
       "    </tr>\n",
       "    <tr>\n",
       "      <th>2</th>\n",
       "      <td>female</td>\n",
       "      <td>group B</td>\n",
       "      <td>master's degree</td>\n",
       "      <td>standard</td>\n",
       "      <td>none</td>\n",
       "      <td>90</td>\n",
       "      <td>95</td>\n",
       "      <td>93</td>\n",
       "    </tr>\n",
       "    <tr>\n",
       "      <th>3</th>\n",
       "      <td>male</td>\n",
       "      <td>group A</td>\n",
       "      <td>associate's degree</td>\n",
       "      <td>free/reduced</td>\n",
       "      <td>none</td>\n",
       "      <td>47</td>\n",
       "      <td>57</td>\n",
       "      <td>44</td>\n",
       "    </tr>\n",
       "    <tr>\n",
       "      <th>4</th>\n",
       "      <td>male</td>\n",
       "      <td>group C</td>\n",
       "      <td>some college</td>\n",
       "      <td>standard</td>\n",
       "      <td>none</td>\n",
       "      <td>76</td>\n",
       "      <td>78</td>\n",
       "      <td>75</td>\n",
       "    </tr>\n",
       "  </tbody>\n",
       "</table>\n",
       "</div>"
      ],
      "text/plain": [
       "   gender race/ethnicity parental_level_of_education         lunch  \\\n",
       "0  female        group B           bachelor's degree      standard   \n",
       "1  female        group C                some college      standard   \n",
       "2  female        group B             master's degree      standard   \n",
       "3    male        group A          associate's degree  free/reduced   \n",
       "4    male        group C                some college      standard   \n",
       "\n",
       "  test_preparation_course  math_score  reading_score  writing_score  \n",
       "0                    none          72             72             74  \n",
       "1               completed          69             90             88  \n",
       "2                    none          90             95             93  \n",
       "3                    none          47             57             44  \n",
       "4                    none          76             78             75  "
      ]
     },
     "execution_count": 118,
     "metadata": {},
     "output_type": "execute_result"
    }
   ],
   "source": [
    "performance.head()"
   ]
  },
  {
   "cell_type": "markdown",
   "metadata": {},
   "source": [
    "### 4. Which 2 exam scores are most correlated with each other?\n",
    "\n",
    "_Reading and writting exams are most correlated. See details below_\n"
   ]
  },
  {
   "cell_type": "code",
   "execution_count": 130,
   "metadata": {},
   "outputs": [
    {
     "data": {
      "text/html": [
       "<div>\n",
       "<style scoped>\n",
       "    .dataframe tbody tr th:only-of-type {\n",
       "        vertical-align: middle;\n",
       "    }\n",
       "\n",
       "    .dataframe tbody tr th {\n",
       "        vertical-align: top;\n",
       "    }\n",
       "\n",
       "    .dataframe thead th {\n",
       "        text-align: right;\n",
       "    }\n",
       "</style>\n",
       "<table border=\"1\" class=\"dataframe\">\n",
       "  <thead>\n",
       "    <tr style=\"text-align: right;\">\n",
       "      <th></th>\n",
       "      <th>math_score</th>\n",
       "      <th>reading_score</th>\n",
       "      <th>writing_score</th>\n",
       "    </tr>\n",
       "  </thead>\n",
       "  <tbody>\n",
       "    <tr>\n",
       "      <th>math_score</th>\n",
       "      <td>1.000000</td>\n",
       "      <td>0.817580</td>\n",
       "      <td>0.802642</td>\n",
       "    </tr>\n",
       "    <tr>\n",
       "      <th>reading_score</th>\n",
       "      <td>0.817580</td>\n",
       "      <td>1.000000</td>\n",
       "      <td>0.954598</td>\n",
       "    </tr>\n",
       "    <tr>\n",
       "      <th>writing_score</th>\n",
       "      <td>0.802642</td>\n",
       "      <td>0.954598</td>\n",
       "      <td>1.000000</td>\n",
       "    </tr>\n",
       "  </tbody>\n",
       "</table>\n",
       "</div>"
      ],
      "text/plain": [
       "               math_score  reading_score  writing_score\n",
       "math_score       1.000000       0.817580       0.802642\n",
       "reading_score    0.817580       1.000000       0.954598\n",
       "writing_score    0.802642       0.954598       1.000000"
      ]
     },
     "execution_count": 130,
     "metadata": {},
     "output_type": "execute_result"
    }
   ],
   "source": [
    "correlation_exams = performance.corr()\n",
    "correlation_exams"
   ]
  },
  {
   "cell_type": "code",
   "execution_count": 131,
   "metadata": {},
   "outputs": [
    {
     "data": {
      "text/plain": [
       "<matplotlib.axes._subplots.AxesSubplot at 0x1326abda0>"
      ]
     },
     "execution_count": 131,
     "metadata": {},
     "output_type": "execute_result"
    },
    {
     "data": {
      "image/png": "[encoded data removed]",
      "text/plain": [
       "<Figure size 432x288 with 2 Axes>"
      ]
     },
     "metadata": {
      "needs_background": "light"
     },
     "output_type": "display_data"
    }
   ],
   "source": [
    "sns.heatmap(correlation_exams, square=True, annot=True, linewidths=.5)"
   ]
  }
 ],
 "metadata": {
  "kernelspec": {
   "display_name": "Python 3",
   "language": "python",
   "name": "python3"
  },
  "language_info": {
   "codemirror_mode": {
    "name": "ipython",
    "version": 3
   },
   "file_extension": ".py",
   "mimetype": "text/x-python",
   "name": "python",
   "nbconvert_exporter": "python",
   "pygments_lexer": "ipython3",
   "version": "3.7.0"
  }
 },
 "nbformat": 4,
 "nbformat_minor": 2
}
