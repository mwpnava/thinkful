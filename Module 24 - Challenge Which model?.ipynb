{
 "cells": [
  {
   "cell_type": "markdown",
   "metadata": {},
   "source": [
    "# Challenge: Which model?\n",
    "\n",
    "**Explain your reasoning and discuss your answers with your mentor**\n",
    "\n",
    "1. Predict the running times of prospective Olympic sprinters using data from the last 20 Olympics.\n",
    "\n",
    "2. You have more features (columns) than rows in your dataset.\n",
    "\n",
    "3. Identify the most important characteristic predicting likelihood of being jailed before age 20.\n",
    "\n",
    "4. Implement a filter to “highlight” emails that might be important to the recipient\n",
    "\n",
    "5. You have 1000+ features\n",
    "\n",
    "6. Predict whether someone who adds items to their cart on a website will purchase the items.\n",
    "\n",
    "7. Your dataset dimensions are 982400 x 500\n",
    "\n",
    "8. Identify faces in an image.\n",
    "\n",
    "9. Predict which of three flavors of ice cream will be most popular with boys vs girls."
   ]
  },
  {
   "cell_type": "markdown",
   "metadata": {},
   "source": [
    "**1. Predict the running times of prospective Olympic sprinters using data from the last 20 Olympics**\n",
    "\n",
    "_Linear Regression_\n",
    "\n",
    "**2. You have more features (columns) than rows in your dataset**\n",
    "\n",
    "_Naïve Bayes is a good option for small datasets and too many features. Features engineering is also needed._\n",
    "\n",
    "**3. Identify the most important characteristic predicting likelihood of being jailed before age 20**\n",
    "\n",
    "_I can mention some of them, I am not sure wich one is the most important one:_\n",
    "\n",
    "        - The number of violent acts committed by the person\n",
    "        - The seriousness (or harmfulness) of the violent acts committed by the person\n",
    "        - The number of violent acts commited in the neighborhood of the person lives\n",
    "        \n",
    "_Correlation is needed to indetify the most important features to predict likelihood of being jailed before age 20, and Features importance, helps to identify what characterictitcs are the most important_ \n",
    "\n",
    "\n",
    "**4. Implement a filter to “highlight” emails that might be important to the recipient**\n",
    "\n",
    "_Naive Bayes Algorithm_\n",
    "\n",
    "**5. You have 1000+ features**\n",
    "\n",
    "_Random Forest and Lasso Regression_\n",
    "\n",
    "**6. Predict whether someone who adds items to their cart on a website will purchase the items**\n",
    "\n",
    "_K-Nearest Neighbor Classification_\n",
    "\n",
    "**7. Your dataset dimensions are 982400 x 500**\n",
    "\n",
    "_Any algorithm is a good option for a datasets with too many rows_\n",
    "\n",
    "**8. Identify faces in an image**\n",
    "\n",
    "_Support Vector Machine_\n",
    "\n",
    "**9. Predict which of three flavors of ice cream will be most popular with boys vs girls**\n",
    "\n",
    "_A machine learning algorithm is not needed for this prediction_\n"
   ]
  },
  {
   "cell_type": "markdown",
   "metadata": {},
   "source": [
    "___\n",
    "By: Wendy Navarrete\n",
    "\n",
    "08/26/2019"
   ]
  },
  {
   "cell_type": "code",
   "execution_count": null,
   "metadata": {},
   "outputs": [],
   "source": []
  }
 ],
 "metadata": {
  "kernelspec": {
   "display_name": "Python 3",
   "language": "python",
   "name": "python3"
  },
  "language_info": {
   "codemirror_mode": {
    "name": "ipython",
    "version": 3
   },
   "file_extension": ".py",
   "mimetype": "text/x-python",
   "name": "python",
   "nbconvert_exporter": "python",
   "pygments_lexer": "ipython3",
   "version": "3.7.0"
  }
 },
 "nbformat": 4,
 "nbformat_minor": 2
}
