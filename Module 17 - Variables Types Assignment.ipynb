{
 "cells": [
  {
   "cell_type": "markdown",
   "metadata": {},
   "source": [
    "## Assignment\n",
    "\n",
    "You will see the benefits of transforming continuous variables into categorical variables when we begin to model the data. For now, let's continue to practice identifying variable types. \n",
    "\n",
    "1. Consider the advantages and disadvantages of treating the *Rank* variable as categorical. \n",
    "\n",
    "**Advantages**\n",
    "\n",
    "- As we see, take _Rank_ as categorical variable allows to group data based on views\n",
    "- Very convenient for people, categorical variables are easy to understand/read\n",
    "\n",
    "**Disadvantages**\n",
    "\n",
    "- You can not get arithmetic calculations\n",
    "- Categorical variables are not good for machine learning models, we have to convert them to numerical variables and then be able to use them\n"
   ]
  },
  {
   "cell_type": "markdown",
   "metadata": {},
   "source": [
    "2. What are the types of the following variables?\n",
    "\n",
    "    * Age: It might be a categorical or continuous variables, depends of the analysis context or the way we want ot use it\n",
    "\n",
    "    * Salary: If it is given in number, for instance $10,000, $9,000, etc it is a continuous/ratio. If the salary is given as a range, for instance $124 to $170, the salary is continuous/interval\n",
    "    \n",
    "    * Revenue: Continuous/Ratio\n",
    "  \n",
    "    * Customer type: Categorical/Nominal\n",
    "    \n",
    "    * Stock price: Continuous/ratio\n",
    "\n"
   ]
  },
  {
   "cell_type": "markdown",
   "metadata": {},
   "source": [
    "Good resource to read <a href=\"https://blog.myyellowroad.com/using-categorical-data-in-machine-learning-with-python-from-dummy-variables-to-deep-category-66041f734512\">here </a>"
   ]
  }
 ],
 "metadata": {
  "kernelspec": {
   "display_name": "Python 3",
   "language": "python",
   "name": "python3"
  },
  "language_info": {
   "codemirror_mode": {
    "name": "ipython",
    "version": 3
   },
   "file_extension": ".py",
   "mimetype": "text/x-python",
   "name": "python",
   "nbconvert_exporter": "python",
   "pygments_lexer": "ipython3",
   "version": "3.7.0"
  }
 },
 "nbformat": 4,
 "nbformat_minor": 2
}
