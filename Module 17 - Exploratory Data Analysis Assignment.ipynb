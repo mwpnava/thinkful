{
 "cells": [
  {
   "cell_type": "markdown",
   "metadata": {},
   "source": [
    "## Assignment\n",
    "\n",
    "To complete this assignment, enter text directly below with your answers to the following:"
   ]
  },
  {
   "cell_type": "markdown",
   "metadata": {},
   "source": [
    "#### 1.\tWhat is the goal of EDA (exploratory data analysis)?\n",
    "It is to discover insights, identify patterns, establish relationships and trends, and test assumptions. Basically, the EDA’s goal is to clean and prepare data to be used and analyzed.\n",
    "\n",
    "\n",
    "#### 2.\tSuppose that you are given a dataset of customer product reviews for an e-commerce company. Each review is scored as a Likert-style survey item where 1 indicates a negative sentiment about the product and a 5 is positive. These reviews are collected on the company's website. \n",
    "\n",
    "   "
   ]
  },
  {
   "cell_type": "markdown",
   "metadata": {},
   "source": [
    "**a. What problems do you expect to find in the raw data?**\n",
    "    \n",
    "    - Missing values\n",
    "    - Outliers\n",
    "    - If survey contained open questions, I expected some non-sense responses for those questions\n",
    "\n"
   ]
  },
  {
   "cell_type": "markdown",
   "metadata": {},
   "source": [
    "**b. If your task is to build features that give information about customer sentiments, how would you approach this task and what kind of methods would you apply to accomplish it?**\n",
    "    \n",
    "    - I’ll categorize questions\n",
    "    - Trying to identify features from the questions/answers\n",
    "\n",
    "\n"
   ]
  },
  {
   "cell_type": "markdown",
   "metadata": {},
   "source": [
    "**c. Try to identify some potentially useful features that you might derive from the raw data. How would you derive them and how would you assess the usefulness of those features?**\n",
    "    \n",
    "    - There are several techniques to do that. Based on the survey’s results we can apply some of those techniques (Filter, wrapped and embedded techniques) All of them, in general terms, create a set of all features and then select the best subset.\n",
    "\n"
   ]
  },
  {
   "cell_type": "markdown",
   "metadata": {},
   "source": [
    "**_Good articles to read:_**\n",
    "\n",
    "<A href='https://machinelearningmastery.com/an-introduction-to-feature-selection/'>An Introduction to Feature Selection</a>\n",
    "\n",
    "<A href='https://www.analyticsvidhya.com/blog/2016/12/introduction-to-feature-selection-methods-with-an-example-or-how-to-select-the-right-variables/'>Introduction to Feature Selection methods with an example (or how to select the right variables?) </a>"
   ]
  },
  {
   "cell_type": "code",
   "execution_count": null,
   "metadata": {},
   "outputs": [],
   "source": []
  }
 ],
 "metadata": {
  "kernelspec": {
   "display_name": "Python 3",
   "language": "python",
   "name": "python3"
  },
  "language_info": {
   "codemirror_mode": {
    "name": "ipython",
    "version": 3
   },
   "file_extension": ".py",
   "mimetype": "text/x-python",
   "name": "python",
   "nbconvert_exporter": "python",
   "pygments_lexer": "ipython3",
   "version": "3.7.0"
  }
 },
 "nbformat": 4,
 "nbformat_minor": 2
}
