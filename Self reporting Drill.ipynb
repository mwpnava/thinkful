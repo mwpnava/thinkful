{
 "cells": [
  {
   "cell_type": "markdown",
   "metadata": {},
   "source": [
    "## Drill - State whether a survey would be the best option for answering each of the following questions.\n",
    "\n",
    "- Popularity of various Uber drivers _No_\n",
    "- A grocery store wants to know how much people like strawberry, chocolate, and vanilla ice cream _Yes_\n",
    "- Trojan wants to know whether their condoms are more popular among straight people or gay people _Yes_ \n",
    "- Recently, rental rates for HappyCars have increased by 30%, which is quite unusual _No_\n",
    "- You want to find out why this is happening and how to keep the increase going _No_\n",
    "- Assessing the success rate of a new advertising campaign _Yes_\n",
    "- Measuring the effect of nurse/patient ratio on patient recovery rates in hospital wards _Yes_"
   ]
  },
  {
   "cell_type": "markdown",
   "metadata": {},
   "source": [
    "By: Wendy Navarrete\n",
    "\n",
    "September 2019"
   ]
  },
  {
   "cell_type": "code",
   "execution_count": null,
   "metadata": {},
   "outputs": [],
   "source": []
  }
 ],
 "metadata": {
  "kernelspec": {
   "display_name": "Python 3",
   "language": "python",
   "name": "python3"
  },
  "language_info": {
   "codemirror_mode": {
    "name": "ipython",
    "version": 3
   },
   "file_extension": ".py",
   "mimetype": "text/x-python",
   "name": "python",
   "nbconvert_exporter": "python",
   "pygments_lexer": "ipython3",
   "version": "3.7.0"
  }
 },
 "nbformat": 4,
 "nbformat_minor": 2
}
