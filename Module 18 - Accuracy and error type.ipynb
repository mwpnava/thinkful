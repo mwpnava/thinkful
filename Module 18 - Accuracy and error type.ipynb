{
 "cells": [
  {
   "cell_type": "markdown",
   "metadata": {},
   "source": [
    "## Assignment - Accuracy and error type\n",
    "\n",
    "Manually generate (meaning don't use the SKLearn function) your own confusion matrix and print it along with the sensitivity and specificity of the model described below."
   ]
  },
  {
   "cell_type": "code",
   "execution_count": 120,
   "metadata": {},
   "outputs": [],
   "source": [
    "%matplotlib inline\n",
    "import numpy as np\n",
    "import pandas as pd\n",
    "import scipy\n",
    "import sklearn\n",
    "import matplotlib.pyplot as plt\n",
    "import seaborn as sns\n",
    "\n",
    "# Grab and process the raw data.\n",
    "data_path = (\"https://raw.githubusercontent.com/Thinkful-Ed/data-201-resources/\"\n",
    "             \"master/sms_spam_collection/SMSSpamCollection\"\n",
    "            )\n",
    "sms_raw = pd.read_csv(data_path, delimiter= '\\t', header=None)\n",
    "sms_raw.columns = ['spam', 'message']\n",
    "\n",
    "# Enumerate our spammy keywords.\n",
    "keywords = ['click', 'offer', 'winner', 'buy', 'free', 'cash', 'urgent']\n",
    "\n",
    "for key in keywords:\n",
    "    sms_raw[str(key)] = sms_raw.message.str.contains(\n",
    "        ' ' + str(key) + ' ',\n",
    "        case=False\n",
    ")\n",
    "\n",
    "sms_raw['allcaps'] = sms_raw.message.str.isupper()\n",
    "sms_raw['spam'] = (sms_raw['spam'] == 'spam')\n",
    "data = sms_raw[keywords + ['allcaps']]\n",
    "target = sms_raw['spam']\n",
    "\n",
    "from sklearn.naive_bayes import BernoulliNB\n",
    "bnb = BernoulliNB()\n",
    "y_pred = bnb.fit(data, target).predict(data)"
   ]
  },
  {
   "cell_type": "code",
   "execution_count": 121,
   "metadata": {},
   "outputs": [
    {
     "name": "stdout",
     "output_type": "stream",
     "text": [
      "Number of mislabeled points out of a total 5572 points : 604\n"
     ]
    }
   ],
   "source": [
    "# Calculate the accuracy of your model here.\n",
    "\n",
    "\n",
    "print(\"Number of mislabeled points out of a total {} points : {}\".format(\n",
    "    data.shape[0],\n",
    "    (target != y_pred).sum()\n",
    "))\n"
   ]
  },
  {
   "cell_type": "code",
   "execution_count": 122,
   "metadata": {},
   "outputs": [
    {
     "name": "stdout",
     "output_type": "stream",
     "text": [
      "Confusion Matrix [[4770, 549], [55, 198]] \n"
     ]
    }
   ],
   "source": [
    "#Generating Confusion Matrix\n",
    "\n",
    "#Calculating # of corrected predicted spam\n",
    "\n",
    "predictedspamok=0\n",
    "\n",
    "for x,y in zip(target,y_pred):\n",
    "    if x and y:\n",
    "        predictedspamok+=1\n",
    "\n",
    "\n",
    "falsePositives = target.sum() - predictedspamok\n",
    "falseNegative = allPredicted - falsePositives\n",
    "truePositives = target.sum() - falsePositives\n",
    "trueNegatives = target.count() - (falsePositives + falseNegative + truePositives)\n",
    "\n",
    "confusionMatrix = [[trueNegatives,falsePositives],\n",
    "                   [falseNegative,truePositives]]\n",
    "\n",
    "\n",
    "print('Confusion Matrix {} '.format(confusionMatrix))"
   ]
  },
  {
   "cell_type": "code",
   "execution_count": 123,
   "metadata": {},
   "outputs": [
    {
     "name": "stdout",
     "output_type": "stream",
     "text": [
      "Sensitivity is 26.51% and Specificity is 98.86% \n"
     ]
    }
   ],
   "source": [
    "# Calculate:\n",
    "# Sensitivity is the percentage of positives correctly identified\n",
    "# Specificity is the percentage of negatives correctly identified\n",
    "\n",
    "\n",
    "Specificity = (trueNegatives * 100) / (target.count() - target.sum())\n",
    "Sensitivity = (truePositives * 100) / target.sum()\n",
    "\n",
    "print('Sensitivity is {}% and Specificity is {}% '.format(round(Sensitivity,2),round(Specificity,2)))"
   ]
  },
  {
   "cell_type": "markdown",
   "metadata": {},
   "source": [
    "------------------------------\n",
    "By: Wendy Navarrete\n",
    "8/1/19"
   ]
  }
 ],
 "metadata": {
  "kernelspec": {
   "display_name": "Python 3",
   "language": "python",
   "name": "python3"
  },
  "language_info": {
   "codemirror_mode": {
    "name": "ipython",
    "version": 3
   },
   "file_extension": ".py",
   "mimetype": "text/x-python",
   "name": "python",
   "nbconvert_exporter": "python",
   "pygments_lexer": "ipython3",
   "version": "3.7.0"
  }
 },
 "nbformat": 4,
 "nbformat_minor": 2
}
