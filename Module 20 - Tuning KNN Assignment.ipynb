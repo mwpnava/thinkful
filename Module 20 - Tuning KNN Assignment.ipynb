{
 "cells": [
  {
   "cell_type": "markdown",
   "metadata": {},
   "source": [
    "## DRILL:\n",
    "\n",
    "Let's say we work at a credit card company and we're trying to figure out if people are going to pay their bills on time. We have everyone's purchases, split into four main categories: groceries, dining out, utilities, and entertainment. \n",
    "\n",
    "- What are some ways you might use KNN to create this model? \n",
    "- What aspects of KNN would be useful? "
   ]
  },
  {
   "cell_type": "markdown",
   "metadata": {},
   "source": [
    "### What are some ways you might use KNN to create this model?"
   ]
  },
  {
   "cell_type": "markdown",
   "metadata": {},
   "source": [
    "- I'll create a dataframe with these columns:  groceries, dining out, utilities, and entertainment. These ones will be my features in X\n",
    "\n",
    "- I'll add one column to my dataframe for my target called pay_on_time?\n",
    "\n",
    "- I'll normalize my data and fit my model and add necessary weights\n",
    "\n",
    "- I'll evaluate the accuracy of my model and I'll adjust the number of neighbors until I get good results."
   ]
  },
  {
   "cell_type": "markdown",
   "metadata": {},
   "source": [
    "### What aspects of KNN would be useful?\n",
    "\n",
    "- This algorithm is considered as an algorithm faster compared to other classification ones\n",
    "\n",
    "- This a simple learning algorithm\n",
    "\n",
    "- It's useful in case our data is nonlinear\n",
    "\n",
    "- It is an algorithm used for both classification and regression\n",
    "\n",
    "- It doesn't need any training data\n",
    "\n"
   ]
  },
  {
   "cell_type": "markdown",
   "metadata": {},
   "source": [
    "---------------------------------------\n",
    "\n",
    "By: Wendy Navarrete\n",
    "\n",
    "08/20/19"
   ]
  },
  {
   "cell_type": "code",
   "execution_count": null,
   "metadata": {},
   "outputs": [],
   "source": []
  }
 ],
 "metadata": {
  "kernelspec": {
   "display_name": "Python 3",
   "language": "python",
   "name": "python3"
  },
  "language_info": {
   "codemirror_mode": {
    "name": "ipython",
    "version": 3
   },
   "file_extension": ".py",
   "mimetype": "text/x-python",
   "name": "python",
   "nbconvert_exporter": "python",
   "pygments_lexer": "ipython3",
   "version": "3.7.0"
  }
 },
 "nbformat": 4,
 "nbformat_minor": 2
}
