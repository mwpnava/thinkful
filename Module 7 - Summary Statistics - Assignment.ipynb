{
 "cells": [
  {
   "cell_type": "markdown",
   "metadata": {},
   "source": [
    "# Assignments\n",
    "\n",
    "Now that we have introduced some tools for describing populations, let's try them out. First do these drills by hand, then use the Python code we've provided in the previous assignments to check your work. Keep track of your work in a Google document or markdown file that you can submit below and share with your mentor.\n",
    "\n",
    " 1. Greg was 14, Marcia was 12, Peter was 11, Jan was 10, Bobby was 8, and Cindy was 6 when they started playing the Brady kids on The Brady Bunch.  Cousin Oliver was 8 years old when he joined the show. What are the mean, median, and mode of the kids' ages when they first appeared on the show? What are the variance, standard deviation, and standard error?\n",
    " 2. Using these estimates, if you had to choose only one estimate of central tendency and one estimate of variance to describe the data, which would you pick and why?\n",
    " 3. Next, Cindy has a birthday. Update your estimates- what changed, and what didn't?\n",
    " 4. Nobody likes Cousin Oliver. Maybe the network should have used an even younger actor. Replace Cousin Oliver with 1-year-old Jessica, then recalculate again.  Does this change your choice of central tendency or variance estimation methods?\n",
    " 5. On the 50th anniversary of The Brady Bunch, four different magazines asked their readers whether they were fans of the show.  The answers were:\n",
    "    TV Guide            20% fans\n",
    "    Entertainment Weekly    23% fans\n",
    "    Pop Culture Today       17% fans\n",
    "    SciPhi Phanatic     5% fans\n",
    "\n",
    " Based on these numbers, what percentage of adult Americans would you estimate were Brady Bunch fans on the 50th anniversary of the show?\n",
    "\n",
    "Discuss your answer to each of these questions, along with your code, with your mentor."
   ]
  },
  {
   "cell_type": "markdown",
   "metadata": {},
   "source": [
    "#### 1. Greg was 14, Marcia was 12, Peter was 11, Jan was 10, Bobby was 8, and Cindy was 6 when they started playing the Brady kids on The Brady Bunch. Cousin Oliver was 8 years old when he joined the show. What are the mean, median, and mode of the kids' ages when they first appeared on the show? What are the variance, standard deviation, and standard error?"
   ]
  },
  {
   "cell_type": "markdown",
   "metadata": {},
   "source": [
    "#### Using Python code:"
   ]
  },
  {
   "cell_type": "code",
   "execution_count": 73,
   "metadata": {},
   "outputs": [
    {
     "name": "stdout",
     "output_type": "stream",
     "text": [
      "Mean: 9.857142857142858\n",
      "Median: 10\n",
      "Mode: 8\n",
      "Variance: 7.476190476190475\n",
      "Standard Deviation: 2.734262327610589\n",
      "Standard Error: 1.0334540197243192\n"
     ]
    }
   ],
   "source": [
    "##Calculating mean, median and mode using just Python code\n",
    "\n",
    "mean = sum(df['age']) / n\n",
    "median = statistics.median(df['age'])\n",
    "mode = statistics.mode(df['age'])\n",
    "\n",
    "## Calculating variance using Python Code \n",
    "## Formula: v = sum((x - mean) ** 2) / (n - 1)\n",
    "\n",
    "df['age - mean'] = df['age'] - mean\n",
    "df['age - mean ** 2'] = df['age - mean'] ** 2\n",
    "\n",
    "variance = sum(df['age - mean ** 2']) / (n - 1)\n",
    "\n",
    "## Calculating standard deviation using Python Code\n",
    "## Formula: sd = v ** 0.5 or\n",
    "## using numpy:  np.std(df['age'], ddof=1) \n",
    "\n",
    "sd = variance ** 0.5\n",
    "\n",
    "## Calculating standard error using Python Code\n",
    "## Formula: se = s / (n ** 0.5)\n",
    "## using numpy: np.std(df['age'] ,ddof=1) / np.sqrt(len(df['age']))\n",
    "\n",
    "se = s / (n ** 0.5)\n",
    "\n",
    "print('Mean: {}'.format(mean))\n",
    "print('Median: {}'.format(median))\n",
    "print('Mode: {}'.format(mode))\n",
    "print('Variance: {}'.format(variance))\n",
    "print('Standard Deviation: {}'.format(sd))\n",
    "print('Standard Error: {}'.format(se))"
   ]
  },
  {
   "cell_type": "markdown",
   "metadata": {},
   "source": [
    "#### Using pandas"
   ]
  },
  {
   "cell_type": "code",
   "execution_count": 22,
   "metadata": {},
   "outputs": [
    {
     "name": "stdout",
     "output_type": "stream",
     "text": [
      "Mean: 9.86\n",
      "Median: 10.0\n",
      "Mode: 8\n",
      "Variance: 7.48\n",
      "Standard Deviation: 2.73\n",
      "Standard Error: 1.03\n"
     ]
    }
   ],
   "source": [
    "import pandas as pd\n",
    "import numpy as np\n",
    "import statistics\n",
    "import matplotlib.pyplot as plt\n",
    "\n",
    "\n",
    "names = ['Greg','Marcia','Peter','Jan','Bobby','Cindy','Cousin Oliver']\n",
    "ages = [14,12,11,10,8,6,8]\n",
    "\n",
    "##Creating a dataframe\n",
    "\n",
    "df = pd.DataFrame()\n",
    "df['name'] = names\n",
    "df['age'] = ages\n",
    "n = len(names)\n",
    "\n",
    "\n",
    "##Creating a function to calcualte mean, median, mode, variance, standard deviation, and standard error using pandas\n",
    "\n",
    "def calculate_summary_statistics(new_ages):\n",
    "\n",
    "    df['new_ages'] = new_ages\n",
    "    mean_p = df['new_ages'].mean()\n",
    "    median_p = df['new_ages'].median()\n",
    "    mode_p = df['new_ages'].mode()\n",
    "    variance_p = df['new_ages'].var()\n",
    "    std_p = df['new_ages'].std()\n",
    "    se_p = df['new_ages'].sem()\n",
    "\n",
    "    print('Mean: {}'.format(round(mean_p,2)))\n",
    "    print('Median: {}'.format(round(median_p,2)))\n",
    "    print('Mode: {}'.format(max(mode_p)))\n",
    "    print('Variance: {}'.format(round(variance_p,2)))\n",
    "    print('Standard Deviation: {}'.format(round(std_p,2)))\n",
    "    print('Standard Error: {}'.format(round(se_p,2)))\n",
    "    \n",
    "calculate_summary_statistics(ages)"
   ]
  },
  {
   "cell_type": "markdown",
   "metadata": {},
   "source": [
    "#### 2. Using these estimates, if you had to choose only one estimate of central tendency and one estimate of variance to describe the data, which would you pick and why?"
   ]
  },
  {
   "cell_type": "markdown",
   "metadata": {},
   "source": [
    "I choose median and standard deviation to know the age of most of the kids. It means that most of the kids are older than 7 and younger than 13 years old (median +- standard deviation)"
   ]
  },
  {
   "cell_type": "markdown",
   "metadata": {},
   "source": [
    "#### 3. Next, Cindy has a birthday. Update your estimates- what changed, and what didn't?"
   ]
  },
  {
   "cell_type": "code",
   "execution_count": 23,
   "metadata": {},
   "outputs": [
    {
     "name": "stdout",
     "output_type": "stream",
     "text": [
      "Mean: 10.0\n",
      "Median: 10.0\n",
      "Mode: 8\n",
      "Variance: 6.33\n",
      "Standard Deviation: 2.52\n",
      "Standard Error: 0.95\n"
     ]
    }
   ],
   "source": [
    "ages = [14,12,11,10,8,7,8]\n",
    "\n",
    "calculate_summary_statistics(ages)"
   ]
  },
  {
   "cell_type": "markdown",
   "metadata": {},
   "source": [
    "Median and mode are the only two estimates that don't change"
   ]
  },
  {
   "cell_type": "markdown",
   "metadata": {},
   "source": [
    "#### 4. Nobody likes Cousin Oliver. Maybe the network should have used an even younger actor. Replace Cousin Oliver with 1-year-old Jessica, then recalculate again. Does this change your choice of central tendency or variance estimation methods?"
   ]
  },
  {
   "cell_type": "code",
   "execution_count": 24,
   "metadata": {},
   "outputs": [
    {
     "name": "stdout",
     "output_type": "stream",
     "text": [
      "Mean: 9.0\n",
      "Median: 10.0\n",
      "Mode: 14\n",
      "Variance: 18.0\n",
      "Standard Deviation: 4.24\n",
      "Standard Error: 1.6\n"
     ]
    }
   ],
   "source": [
    "ages = [14,12,11,10,8,7,1]\n",
    "\n",
    "calculate_summary_statistics(ages)"
   ]
  },
  {
   "cell_type": "markdown",
   "metadata": {},
   "source": [
    "No, it does not change my choice of central tendency or variance estimation methods"
   ]
  },
  {
   "cell_type": "markdown",
   "metadata": {},
   "source": [
    "#### 5. On the 50th anniversary of The Brady Bunch, four different magazines asked their readers whether they were fans of the show. The answers were: TV Guide 20% fans Entertainment Weekly 23% fans Pop Culture Today 17% fans SciPhi Phanatic 5% fans\n",
    "\n",
    "Based on these numbers, what percentage of adult Americans would you estimate were Brady Bunch fans on the 50th anniversary of the show?\n",
    "\n",
    "Discuss your answer to each of these questions, along with your code, with your mentor."
   ]
  },
  {
   "cell_type": "code",
   "execution_count": 114,
   "metadata": {},
   "outputs": [
    {
     "name": "stdout",
     "output_type": "stream",
     "text": [
      "Aproximately the percentage of adult Americans fans on the 50th anniversary of the show is 16.25\n"
     ]
    }
   ],
   "source": [
    "new_df = pd.DataFrame()\n",
    "new_df['magazine'] = ['TV Guide','Entertainment Weekly','Pop Culture Today','SciPhi Phanatic']\n",
    "new_df['%_fans'] = [20,23,17,5]\n",
    "\n",
    "mean = new_df['%_fans'].mean()\n",
    "\n",
    "print('Aproximately the percentage of adult Americans fans on the 50th anniversary of the show is {}'.format(mean))\n",
    "\n"
   ]
  }
 ],
 "metadata": {
  "kernelspec": {
   "display_name": "Python 3",
   "language": "python",
   "name": "python3"
  },
  "language_info": {
   "codemirror_mode": {
    "name": "ipython",
    "version": 3
   },
   "file_extension": ".py",
   "mimetype": "text/x-python",
   "name": "python",
   "nbconvert_exporter": "python",
   "pygments_lexer": "ipython3",
   "version": "3.7.0"
  }
 },
 "nbformat": 4,
 "nbformat_minor": 2
}
