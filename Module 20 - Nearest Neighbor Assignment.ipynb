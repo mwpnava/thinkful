{
 "cells": [
  {
   "cell_type": "markdown",
   "metadata": {},
   "source": [
    "## Challenge: Implement the Nearest Neighbor algorithm \n",
    "\n",
    "The Nearest Neighbor algorithm is extremely simple. So simple, in fact, that you should be able to build it yourself from scratch using the Python you already know. Code a Nearest Neighbors algorithm that works for two dimensional data. You can use either arrays or dataframes to do this. Test it against the SKLearn package on the music dataset from above to ensure that it's correct. The goal here is to confirm your understanding of the model and continue to practice your Python skills. We're just expecting a brute force method here. After doing this, look up \"ball tree\" methods to see a more performant algorithm design."
   ]
  },
  {
   "cell_type": "code",
   "execution_count": 1,
   "metadata": {},
   "outputs": [
    {
     "name": "stdout",
     "output_type": "stream",
     "text": [
      "The shortest distance between the coordinate (500,10) and the nearest point is: 97.74 \n",
      "The nearest neighbor is the coordinate: (403,22)\n"
     ]
    }
   ],
   "source": [
    "import numpy as np\n",
    "import pandas as pd\n",
    "import seaborn as sns\n",
    "import matplotlib.pyplot as plt\n",
    "import math \n",
    "\n",
    "\n",
    "def nearestneighbor(x1, y1, neighborX, neighborY):\n",
    "\n",
    "    '''\n",
    "    This function return the nearest point to a given point\n",
    "    Parameters: Integers as coordinates of a given point, x1 and y1. \n",
    "                List of coordinates of the neighbor, neighborX and neighborY\n",
    "                \n",
    "    Return: The shorest distance between the given point and \n",
    "            the nearest one into the neighborhood\n",
    "    '''\n",
    "\n",
    "    shorter_distance = None\n",
    "\n",
    "    for x2,y2 in zip(neighborX,neighborY):\n",
    "        \n",
    "        distance = round(math.sqrt(((x2-x1)**2) + ((y2-y1)**2)),2)\n",
    "        \n",
    "        if(shorter_distance is None) or (distance < shorter_distance):\n",
    "            \n",
    "            shorter_distance = distance\n",
    "            x = [x2]\n",
    "            y = [y2]\n",
    "        \n",
    "        elif distance == shorter_distance:\n",
    "            \n",
    "            x.append(x2)\n",
    "            y.append(y2)\n",
    "            \n",
    "        \n",
    "    print('The shortest distance between the coordinate ({},{}) and the nearest point is: {} '.format(x1,y1,shorter_distance))\n",
    "    \n",
    "    if len(x) == 1:\n",
    "        print('The nearest neighbor is the coordinate: ({},{})'.format(x[0],y[0]))\n",
    "    else:\n",
    "        print('The nearest neighbors are the coordinates:')\n",
    "        for i,o in zip(x,y):\n",
    "            print('({},{})'.format(i,o))\n",
    "\n",
    "    return x,y\n",
    "            \n",
    "            \n",
    "            \n",
    "    \n",
    "#Values for neighborhood\n",
    "\n",
    "X = [184, 134, 243, 186, 122, 197, 294, 382, 102, 264, \n",
    "                     205, 110, 307, 110, 397, 153, 190, 192, 210, 403,\n",
    "                     164, 198, 204, 253, 234, 190, 182, 401, 376, 102]\n",
    "\n",
    "Y = [18, 34, 43, 36, 22, 9, 29, 22, 10, 24, \n",
    "                     20, 10, 17, 51, 7, 13, 19, 12, 21, 22,\n",
    "                     16, 18, 4, 23, 34, 19, 14, 11, 37, 42]\n",
    "\n",
    "#test case\n",
    "\n",
    "pointX=500\n",
    "pointY=10 \n",
    "    \n",
    "#Calling the function\n",
    "\n",
    "xresults,yresults = nearestneighbor(pointX,pointY,X,Y)\n"
   ]
  },
  {
   "cell_type": "code",
   "execution_count": 2,
   "metadata": {},
   "outputs": [
    {
     "data": {
      "image/png": "[encoded data removed]",
      "text/plain": [
       "<Figure size 432x288 with 1 Axes>"
      ]
     },
     "metadata": {
      "needs_background": "light"
     },
     "output_type": "display_data"
    }
   ],
   "source": [
    "plt.scatter(\n",
    "    X,Y,\n",
    "    color='blue')\n",
    "\n",
    "plt.scatter(\n",
    "    pointX,pointY,\n",
    "    color='red'\n",
    ")\n",
    "plt.scatter(\n",
    "    xresults,yresults,\n",
    "    color='green'\n",
    ")\n",
    "plt.legend(['Neighborhood', 'Given point','Nearest point'])\n",
    "\n",
    "plt.title('The Nearest Neighbor')\n",
    "plt.xlabel('X')\n",
    "plt.ylabel('Y')\n",
    "plt.show()\n"
   ]
  },
  {
   "cell_type": "markdown",
   "metadata": {},
   "source": [
    "--------------------------------------------------------\n",
    "\n",
    "By: Wendy Navarrete\n",
    "\n",
    "8/20/2019"
   ]
  },
  {
   "cell_type": "code",
   "execution_count": null,
   "metadata": {},
   "outputs": [],
   "source": []
  }
 ],
 "metadata": {
  "kernelspec": {
   "display_name": "Python 3",
   "language": "python",
   "name": "python3"
  },
  "language_info": {
   "codemirror_mode": {
    "name": "ipython",
    "version": 3
   },
   "file_extension": ".py",
   "mimetype": "text/x-python",
   "name": "python",
   "nbconvert_exporter": "python",
   "pygments_lexer": "ipython3",
   "version": "3.7.0"
  }
 },
 "nbformat": 4,
 "nbformat_minor": 2
}
