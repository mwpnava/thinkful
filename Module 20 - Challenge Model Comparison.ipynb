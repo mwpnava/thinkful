{
 "cells": [
  {
   "cell_type": "markdown",
   "metadata": {},
   "source": [
    "## Challenge: model comparison\n",
    "\n",
    "Find a data set and build a KNN Regression and an OLS regression. Compare the two. \n",
    "\n",
    "- How similar are they? \n",
    "- Do they miss in different ways?\n",
    "\n",
    "At the end in a markdown cell write a few paragraphs to describe the models' behaviors and why you favor one model or the other. Try to determine whether there is a situation where you would change your mind, or whether one is unambiguously better than the other. Lastly, try to note what it is about the data that causes the better model to outperform the weaker model. "
   ]
  },
  {
   "cell_type": "markdown",
   "metadata": {},
   "source": [
    "### Loading dataset\n",
    "\n",
    "This datasets is related to red variants of the Portuguese \"Vinho Verde\" wine. For more details, consult the [reference](https://www.kaggle.com/uciml/red-wine-quality-cortez-et-al-2009)"
   ]
  },
  {
   "cell_type": "code",
   "execution_count": 52,
   "metadata": {},
   "outputs": [
    {
     "data": {
      "text/html": [
       "<div>\n",
       "<style scoped>\n",
       "    .dataframe tbody tr th:only-of-type {\n",
       "        vertical-align: middle;\n",
       "    }\n",
       "\n",
       "    .dataframe tbody tr th {\n",
       "        vertical-align: top;\n",
       "    }\n",
       "\n",
       "    .dataframe thead th {\n",
       "        text-align: right;\n",
       "    }\n",
       "</style>\n",
       "<table border=\"1\" class=\"dataframe\">\n",
       "  <thead>\n",
       "    <tr style=\"text-align: right;\">\n",
       "      <th></th>\n",
       "      <th>Data</th>\n",
       "      <th>Temperatura_Media_(C)</th>\n",
       "      <th>Temperatura_Minima_(C)</th>\n",
       "      <th>Temperatura_Maxima_(C)</th>\n",
       "      <th>Precipitacao_(mm)</th>\n",
       "      <th>Final_de_Semana</th>\n",
       "      <th>Consumo_de_cerveja_(litros)</th>\n",
       "    </tr>\n",
       "  </thead>\n",
       "  <tbody>\n",
       "    <tr>\n",
       "      <th>0</th>\n",
       "      <td>1/1/15</td>\n",
       "      <td>27.30</td>\n",
       "      <td>23.9</td>\n",
       "      <td>32.5</td>\n",
       "      <td>0.0</td>\n",
       "      <td>0</td>\n",
       "      <td>25.461</td>\n",
       "    </tr>\n",
       "    <tr>\n",
       "      <th>1</th>\n",
       "      <td>1/2/15</td>\n",
       "      <td>27.02</td>\n",
       "      <td>24.5</td>\n",
       "      <td>33.5</td>\n",
       "      <td>0.0</td>\n",
       "      <td>0</td>\n",
       "      <td>28.972</td>\n",
       "    </tr>\n",
       "    <tr>\n",
       "      <th>2</th>\n",
       "      <td>1/3/15</td>\n",
       "      <td>24.82</td>\n",
       "      <td>22.4</td>\n",
       "      <td>29.9</td>\n",
       "      <td>0.0</td>\n",
       "      <td>1</td>\n",
       "      <td>30.814</td>\n",
       "    </tr>\n",
       "    <tr>\n",
       "      <th>3</th>\n",
       "      <td>1/4/15</td>\n",
       "      <td>23.98</td>\n",
       "      <td>21.5</td>\n",
       "      <td>28.6</td>\n",
       "      <td>1.2</td>\n",
       "      <td>1</td>\n",
       "      <td>29.799</td>\n",
       "    </tr>\n",
       "    <tr>\n",
       "      <th>4</th>\n",
       "      <td>1/5/15</td>\n",
       "      <td>23.82</td>\n",
       "      <td>21.0</td>\n",
       "      <td>28.3</td>\n",
       "      <td>0.0</td>\n",
       "      <td>0</td>\n",
       "      <td>28.900</td>\n",
       "    </tr>\n",
       "    <tr>\n",
       "      <th>5</th>\n",
       "      <td>1/6/15</td>\n",
       "      <td>23.78</td>\n",
       "      <td>20.1</td>\n",
       "      <td>30.5</td>\n",
       "      <td>12.2</td>\n",
       "      <td>0</td>\n",
       "      <td>28.218</td>\n",
       "    </tr>\n",
       "    <tr>\n",
       "      <th>6</th>\n",
       "      <td>1/7/15</td>\n",
       "      <td>24.00</td>\n",
       "      <td>19.5</td>\n",
       "      <td>33.7</td>\n",
       "      <td>0.0</td>\n",
       "      <td>0</td>\n",
       "      <td>29.732</td>\n",
       "    </tr>\n",
       "    <tr>\n",
       "      <th>7</th>\n",
       "      <td>1/8/15</td>\n",
       "      <td>24.90</td>\n",
       "      <td>19.5</td>\n",
       "      <td>32.8</td>\n",
       "      <td>48.6</td>\n",
       "      <td>0</td>\n",
       "      <td>28.397</td>\n",
       "    </tr>\n",
       "    <tr>\n",
       "      <th>8</th>\n",
       "      <td>1/9/15</td>\n",
       "      <td>28.20</td>\n",
       "      <td>21.9</td>\n",
       "      <td>34.0</td>\n",
       "      <td>4.4</td>\n",
       "      <td>0</td>\n",
       "      <td>24.886</td>\n",
       "    </tr>\n",
       "    <tr>\n",
       "      <th>9</th>\n",
       "      <td>1/10/15</td>\n",
       "      <td>26.76</td>\n",
       "      <td>22.1</td>\n",
       "      <td>34.2</td>\n",
       "      <td>0.0</td>\n",
       "      <td>1</td>\n",
       "      <td>37.937</td>\n",
       "    </tr>\n",
       "  </tbody>\n",
       "</table>\n",
       "</div>"
      ],
      "text/plain": [
       "      Data  Temperatura_Media_(C)  Temperatura_Minima_(C)  \\\n",
       "0   1/1/15                  27.30                    23.9   \n",
       "1   1/2/15                  27.02                    24.5   \n",
       "2   1/3/15                  24.82                    22.4   \n",
       "3   1/4/15                  23.98                    21.5   \n",
       "4   1/5/15                  23.82                    21.0   \n",
       "5   1/6/15                  23.78                    20.1   \n",
       "6   1/7/15                  24.00                    19.5   \n",
       "7   1/8/15                  24.90                    19.5   \n",
       "8   1/9/15                  28.20                    21.9   \n",
       "9  1/10/15                  26.76                    22.1   \n",
       "\n",
       "   Temperatura_Maxima_(C)  Precipitacao_(mm)  Final_de_Semana  \\\n",
       "0                    32.5                0.0                0   \n",
       "1                    33.5                0.0                0   \n",
       "2                    29.9                0.0                1   \n",
       "3                    28.6                1.2                1   \n",
       "4                    28.3                0.0                0   \n",
       "5                    30.5               12.2                0   \n",
       "6                    33.7                0.0                0   \n",
       "7                    32.8               48.6                0   \n",
       "8                    34.0                4.4                0   \n",
       "9                    34.2                0.0                1   \n",
       "\n",
       "   Consumo_de_cerveja_(litros)  \n",
       "0                       25.461  \n",
       "1                       28.972  \n",
       "2                       30.814  \n",
       "3                       29.799  \n",
       "4                       28.900  \n",
       "5                       28.218  \n",
       "6                       29.732  \n",
       "7                       28.397  \n",
       "8                       24.886  \n",
       "9                       37.937  "
      ]
     },
     "execution_count": 52,
     "metadata": {},
     "output_type": "execute_result"
    }
   ],
   "source": [
    "import pandas as pd\n",
    "import numpy as np\n",
    "import seaborn as sns\n",
    "\n",
    "import matplotlib.pyplot as plt\n",
    "%matplotlib inline\n",
    "from sklearn.model_selection import cross_val_score\n",
    "\n",
    "\n",
    "from sklearn.model_selection  import train_test_split\n",
    "from sklearn import linear_model\n",
    "from sklearn.linear_model import LinearRegression\n",
    "from sqlalchemy import create_engine\n",
    "\n",
    "from sklearn.preprocessing import normalize\n",
    "\n",
    "from sklearn.metrics import mean_absolute_error\n",
    "from statsmodels.tools.eval_measures import mse, rmse\n",
    "from sklearn import neighbors\n",
    "# Reading from a csv file\n",
    "beer = pd.read_csv('beer_consumption.csv')\n",
    "\n",
    "# Iterating the columns and removing whitespaces\n",
    "for col in beer.columns:\n",
    "    beer.rename(columns={col:col.replace(\" \", \"_\")},inplace=True)\n",
    "\n",
    "beer.head(10)"
   ]
  },
  {
   "cell_type": "markdown",
   "metadata": {},
   "source": [
    "### Data cleaning, exploratory data analysis, and feature engineering"
   ]
  },
  {
   "cell_type": "code",
   "execution_count": 53,
   "metadata": {},
   "outputs": [
    {
     "data": {
      "text/plain": [
       "Consumo_de_cerveja_(litros)    1.000000\n",
       "Temperatura_Maxima_(C)         0.642672\n",
       "Temperatura_Media_(C)          0.574615\n",
       "Final_de_Semana                0.505981\n",
       "Name: Consumo_de_cerveja_(litros), dtype: float64"
      ]
     },
     "execution_count": 53,
     "metadata": {},
     "output_type": "execute_result"
    }
   ],
   "source": [
    "#Looking for features with higher correlation with Price\n",
    "\n",
    "correlation = beer.corr()\n",
    "cor_target = abs(correlation['Consumo_de_cerveja_(litros)'])\n",
    "\n",
    "#Selecting highly correlated features\n",
    "relevant_features = cor_target[cor_target>0.5]\n",
    "relevant_features.sort_values(ascending=False)"
   ]
  },
  {
   "cell_type": "code",
   "execution_count": 54,
   "metadata": {},
   "outputs": [
    {
     "name": "stdout",
     "output_type": "stream",
     "text": [
      "All null values are in yellow\n"
     ]
    },
    {
     "data": {
      "text/plain": [
       "<matplotlib.axes._subplots.AxesSubplot at 0x102f8efd0>"
      ]
     },
     "execution_count": 54,
     "metadata": {},
     "output_type": "execute_result"
    },
    {
     "data": {
      "image/png": "[encoded data removed]",
      "text/plain": [
       "<Figure size 432x288 with 1 Axes>"
      ]
     },
     "metadata": {
      "needs_background": "light"
     },
     "output_type": "display_data"
    }
   ],
   "source": [
    "#Searching missing values\n",
    "\n",
    "print('All null values are in yellow')\n",
    "sns.heatmap(beer[['Temperatura_Maxima_(C)','Temperatura_Media_(C)','Final_de_Semana','Consumo_de_cerveja_(litros)']].isnull(),yticklabels=False,cbar=False,cmap='viridis')"
   ]
  },
  {
   "cell_type": "markdown",
   "metadata": {},
   "source": [
    "### Creating X and Y"
   ]
  },
  {
   "cell_type": "code",
   "execution_count": 56,
   "metadata": {},
   "outputs": [],
   "source": [
    "#Creating a interaction feature with two related variables\n",
    "\n",
    "#Creating feature set for X\n",
    "X = beer[['Temperatura_Maxima_(C)','Temperatura_Media_(C)','Final_de_Semana']]\n",
    "\n",
    "# Y is the target variable\n",
    "Y = beer['Consumo_de_cerveja_(litros)']\n",
    "\n",
    "#split  data into train and test sets where 20% of the data resides in the test set\n",
    "X_train, X_test, y_train, y_test = train_test_split(X,Y,test_size=0.30, random_state=101)"
   ]
  },
  {
   "cell_type": "markdown",
   "metadata": {},
   "source": [
    "### Build OLS Regression Model"
   ]
  },
  {
   "cell_type": "code",
   "execution_count": 58,
   "metadata": {},
   "outputs": [
    {
     "name": "stdout",
     "output_type": "stream",
     "text": [
      "R-squared of the model in the training set is: 0.6623793376785037\n",
      "-----Test set statistics-----\n",
      "R-squared of the model in the test set is: 0.75619520406491\n",
      "Mean absolute error of the prediction is: 2.0140929507885623\n",
      "Mean squared error of the prediction is: 5.612315584607889\n",
      "Root mean squared error of the prediction is: 2.3690326263282846\n",
      "Mean absolute percentage error of the prediction is: 8.12973847624917\n",
      "Accuracy: 0.613 (+/- 0.212)\n"
     ]
    }
   ],
   "source": [
    "#Model 1 - OLS\n",
    "\n",
    "# We fit an OLS model using sklearn\n",
    "lrm = LinearRegression()\n",
    "lrm.fit(X_train, y_train)\n",
    "\n",
    "\n",
    "# We are making predictions here\n",
    "y_preds_test = lrm.predict(X_test)\n",
    "accuracy=cross_val_score(lrm, X_train, y_train, cv=10)\n",
    "\n",
    "print(\"R-squared of the model in the training set is: {}\".format(lrm.score(X_train, y_train)))\n",
    "print(\"-----Test set statistics-----\")\n",
    "print(\"R-squared of the model in the test set is: {}\".format(lrm.score(X_test, y_test)))\n",
    "print(\"Mean absolute error of the prediction is: {}\".format(mean_absolute_error(y_test, y_preds_test)))\n",
    "print(\"Mean squared error of the prediction is: {}\".format(mse(y_test, y_preds_test)))\n",
    "print(\"Root mean squared error of the prediction is: {}\".format(rmse(y_test, y_preds_test)))\n",
    "print(\"Mean absolute percentage error of the prediction is: {}\".format(np.mean(np.abs((y_test - y_preds_test) / y_test)) * 100))\n",
    "print(\"Accuracy: %0.3f (+/- %0.3f)\" % (accuracy.mean(), accuracy.std() * 2))"
   ]
  },
  {
   "cell_type": "code",
   "execution_count": 86,
   "metadata": {},
   "outputs": [
    {
     "data": {
      "image/png": "[encoded data removed]",
      "text/plain": [
       "<Figure size 432x288 with 1 Axes>"
      ]
     },
     "metadata": {
      "needs_background": "light"
     },
     "output_type": "display_data"
    }
   ],
   "source": [
    "plt.scatter(y_test,y_preds_test)\n",
    "plt.xlabel('Actual Data')\n",
    "plt.ylabel('Predicted Data')\n",
    "plt.show()"
   ]
  },
  {
   "cell_type": "markdown",
   "metadata": {},
   "source": [
    "### Build KNN Regression Model"
   ]
  },
  {
   "cell_type": "markdown",
   "metadata": {},
   "source": [
    "####  Let's  look at the error rate for different k values"
   ]
  },
  {
   "cell_type": "code",
   "execution_count": 87,
   "metadata": {},
   "outputs": [
    {
     "name": "stdout",
     "output_type": "stream",
     "text": [
      "K is 1 and RMSE of the prediction is: 3.687804\n",
      "Accuracy: 0.189 (+/- 0.644)\n",
      "K is 2 and RMSE of the prediction is: 3.28516\n",
      "Accuracy: 0.347 (+/- 0.530)\n",
      "K is 3 and RMSE of the prediction is: 3.115203\n",
      "Accuracy: 0.413 (+/- 0.482)\n",
      "K is 4 and RMSE of the prediction is: 3.045506\n",
      "Accuracy: 0.431 (+/- 0.471)\n",
      "K is 5 and RMSE of the prediction is: 2.926425\n",
      "Accuracy: 0.443 (+/- 0.448)\n",
      "K is 6 and RMSE of the prediction is: 2.924243\n",
      "Accuracy: 0.475 (+/- 0.411)\n",
      "K is 7 and RMSE of the prediction is: 2.880195\n",
      "Accuracy: 0.478 (+/- 0.395)\n",
      "K is 8 and RMSE of the prediction is: 2.932084\n",
      "Accuracy: 0.480 (+/- 0.375)\n",
      "K is 9 and RMSE of the prediction is: 2.910097\n",
      "Accuracy: 0.494 (+/- 0.326)\n",
      "K is 10 and RMSE of the prediction is: 2.930809\n",
      "Accuracy: 0.486 (+/- 0.307)\n",
      "K is 11 and RMSE of the prediction is: 2.958879\n",
      "Accuracy: 0.476 (+/- 0.283)\n",
      "K is 12 and RMSE of the prediction is: 2.964472\n",
      "Accuracy: 0.478 (+/- 0.282)\n",
      "K is 13 and RMSE of the prediction is: 2.979377\n",
      "Accuracy: 0.467 (+/- 0.296)\n",
      "K is 14 and RMSE of the prediction is: 3.002222\n",
      "Accuracy: 0.461 (+/- 0.286)\n",
      "K is 15 and RMSE of the prediction is: 3.014896\n",
      "Accuracy: 0.457 (+/- 0.295)\n",
      "K is 16 and RMSE of the prediction is: 3.029922\n",
      "Accuracy: 0.456 (+/- 0.285)\n",
      "K is 17 and RMSE of the prediction is: 3.043739\n",
      "Accuracy: 0.455 (+/- 0.262)\n",
      "K is 18 and RMSE of the prediction is: 3.062\n",
      "Accuracy: 0.451 (+/- 0.260)\n",
      "K is 19 and RMSE of the prediction is: 3.065015\n",
      "Accuracy: 0.454 (+/- 0.239)\n",
      "K is 20 and RMSE of the prediction is: 3.077333\n",
      "Accuracy: 0.453 (+/- 0.232)\n",
      "K is 21 and RMSE of the prediction is: 3.096963\n",
      "Accuracy: 0.447 (+/- 0.240)\n",
      "K is 22 and RMSE of the prediction is: 3.111788\n",
      "Accuracy: 0.446 (+/- 0.236)\n",
      "K is 23 and RMSE of the prediction is: 3.115724\n",
      "Accuracy: 0.446 (+/- 0.235)\n",
      "K is 24 and RMSE of the prediction is: 3.132243\n",
      "Accuracy: 0.445 (+/- 0.233)\n",
      "K is 25 and RMSE of the prediction is: 3.148861\n",
      "Accuracy: 0.441 (+/- 0.230)\n"
     ]
    }
   ],
   "source": [
    "\n",
    "for K in range(25):\n",
    "    K = K+1\n",
    "    knn_w = neighbors.KNeighborsRegressor(n_neighbors=K, weights='distance')\n",
    "    knn_w.fit(X_train,y_train)\n",
    "\n",
    "    y_preds_test = knn_w.predict(X_test)\n",
    "    accuracy=cross_val_score(knn_w, X_train, y_train, cv=10)\n",
    "\n",
    "    print(\"K is {} and RMSE of the prediction is: {}\".format(K,round(rmse(y_test, y_preds_test),6)))\n",
    "    print(\"Accuracy: %0.3f (+/- %0.3f)\" % (accuracy.mean(), accuracy.std() * 2))\n"
   ]
  },
  {
   "cell_type": "markdown",
   "metadata": {},
   "source": [
    "#### Based on numers above, at k= 9, the RMSE is approximately 2.91 and accuracy is the highest value 0.494. I can safely say that k=9 will give the best result in this case"
   ]
  },
  {
   "cell_type": "code",
   "execution_count": 88,
   "metadata": {},
   "outputs": [
    {
     "name": "stdout",
     "output_type": "stream",
     "text": [
      "R-squared of the model in the training set is: 1.0\n",
      "-----Test set statistics-----\n",
      "R-squared of the model in the test set is: 0.6321124985240255\n",
      "Mean absolute error of the prediction is: 2.3811195030647228\n",
      "Mean squared error of the prediction is: 8.468663423937608\n",
      "Root mean squared error of the prediction is: 2.910096806626475\n",
      "Mean absolute percentage error of the prediction is: 9.590900222610601\n",
      "Accuracy: 0.494 (+/- 0.326)\n"
     ]
    }
   ],
   "source": [
    "# Run the model\n",
    "\n",
    "knn_w = neighbors.KNeighborsRegressor(n_neighbors=9, weights='distance')\n",
    "knn_w.fit(X_train, y_train)\n",
    "\n",
    "# We are making predictions here\n",
    "y_preds_test = knn_w.predict(X_test)\n",
    "\n",
    "#Calculating accuracy\n",
    "accuracy=cross_val_score(knn_w, X_train, y_train, cv=10)\n",
    "\n",
    "\n",
    "print(\"R-squared of the model in the training set is: {}\".format(knn_w.score(X_train, y_train)))\n",
    "print(\"-----Test set statistics-----\")\n",
    "print(\"R-squared of the model in the test set is: {}\".format(knn_w.score(X_test, y_test)))\n",
    "print(\"Mean absolute error of the prediction is: {}\".format(mean_absolute_error(y_test, y_preds_test)))\n",
    "print(\"Mean squared error of the prediction is: {}\".format(mse(y_test, y_preds_test)))\n",
    "print(\"Root mean squared error of the prediction is: {}\".format(rmse(y_test, y_preds_test)))\n",
    "print(\"Mean absolute percentage error of the prediction is: {}\".format(np.mean(np.abs((y_test - y_preds_test) / y_test)) * 100))\n",
    "print(\"Accuracy: %0.3f (+/- %0.3f)\" % (accuracy.mean(), accuracy.std() * 2))\n"
   ]
  },
  {
   "cell_type": "code",
   "execution_count": null,
   "metadata": {},
   "outputs": [],
   "source": []
  }
 ],
 "metadata": {
  "kernelspec": {
   "display_name": "Python 3",
   "language": "python",
   "name": "python3"
  },
  "language_info": {
   "codemirror_mode": {
    "name": "ipython",
    "version": 3
   },
   "file_extension": ".py",
   "mimetype": "text/x-python",
   "name": "python",
   "nbconvert_exporter": "python",
   "pygments_lexer": "ipython3",
   "version": "3.7.0"
  }
 },
 "nbformat": 4,
 "nbformat_minor": 2
}
