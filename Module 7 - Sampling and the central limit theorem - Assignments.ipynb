{
 "cells": [
  {
   "cell_type": "markdown",
   "metadata": {},
   "source": [
    "## Assignments\n",
    "\n",
    "Now that you have some code to create your own populations, sample them, and compare the samples to the populations, it's time to experiment. Using your own Jupyter notebook, or a copy of the notebook above, reproduce the pop1 and pop2 populations and samples using numpy's binomial function. Specifically, create two binomially distributed populations with n equal to 10 and size equal to 10000. The p-value of pop1 should be 0.2 and the p-value of pop2 should be 0.5. Using a sample size of 100, calculate the means and standard deviations of your samples.\n",
    "\n",
    "For each of the following tasks, first write what you expect will happen, then code the changes and observe what does happen. Discuss the results with your mentor.\n",
    "\n",
    "1. Increase the size of your samples from 100 to 1000, then calculate the means and standard deviations for your new samples and create histograms for each.  Repeat this again, decreasing the size of your samples to 20. What values change, and what remain the same?\n",
    "2. Change the probability value (p in the NumPy documentation) for pop1 to 0.3, then take new samples and compute the t-statistic and p-value. Then change the probability value p for group 1 to 0.4, and do it again. What changes, and why?\n",
    "3. Change the distribution of your populations from binomial to a distribution of your choice. Do the sample mean values still accurately represent the population values?"
   ]
  },
  {
   "cell_type": "code",
   "execution_count": 200,
   "metadata": {},
   "outputs": [
    {
     "name": "stdout",
     "output_type": "stream",
     "text": [
      "Mean: 1.82\n",
      "Standard Deviation: 1.0805554127392076\n",
      "Mean: 4.81\n",
      "Standard Deviation: 1.6834191397272398\n"
     ]
    },
    {
     "data": {
      "image/png": "[encoded data removed]",
      "text/plain": [
       "<Figure size 432x288 with 1 Axes>"
      ]
     },
     "metadata": {
      "needs_background": "light"
     },
     "output_type": "display_data"
    }
   ],
   "source": [
    "# Reproduce pop1 and pop2  using numpy's binomial function\n",
    "# n = 10 and s= 10000\n",
    "# p-value of pop1 should be 0.2 and p-value of pop2 should be 0.5\n",
    "# Using size of 100, calculate means and sd of samples\n",
    "\n",
    "\n",
    "import numpy as np\n",
    "import pandas as pd\n",
    "import scipy \n",
    "import matplotlib.pyplot as plt\n",
    "%matplotlib inline\n",
    "\n",
    "\n",
    "pop1 = np.random.binomial(10,0.2,10000)\n",
    "pop2 = np.random.binomial(10,0.5,10000)\n",
    "\n",
    "sample_1 = np.random.choice(pop1,100,replace = True)\n",
    "sample_2 = np.random.choice(pop2,100,replace= True)\n",
    "\n",
    "\n",
    "##Create function to return mean and standard deviation of a sample given\n",
    "\n",
    "def mean_and_std(sample):\n",
    "    print('Mean: {}'.format( sample.mean()))\n",
    "    print('Standard Deviation: {}'.format(sample.std()))\n",
    "    return (sample.mean(),sample.std())\n",
    "\n",
    "\n",
    "(s1_mean,s1_std) = mean_and_std(sample_1)\n",
    "(s2_mean,s2_std) = mean_and_std(sample_2)\n",
    "\n",
    "plt.hist(sample_1,alpha=0.5, label='Sample 1')\n",
    "plt.hist(sample_2,alpha=0.5, label='Sample 2')\n",
    "plt.title('Sample size = 100')\n",
    "plt.legend(loc='upper right') \n",
    "plt.show()"
   ]
  },
  {
   "cell_type": "markdown",
   "metadata": {},
   "source": [
    "1. Increase the size of your samples from 100 to 1000, then calculate the means and standard deviations for your new samples and create histograms for each. Repeat this again, decreasing the size of your samples to 20. What values change, and what remain the same?"
   ]
  },
  {
   "cell_type": "code",
   "execution_count": 167,
   "metadata": {},
   "outputs": [
    {
     "name": "stdout",
     "output_type": "stream",
     "text": [
      "Mean: 2.07\n",
      "Standard Deviation: 1.2566224572241258\n",
      "Mean: 4.984\n",
      "Standard Deviation: 1.5626080762622467\n"
     ]
    },
    {
     "data": {
      "image/png": "[encoded data removed]",
      "text/plain": [
       "<Figure size 432x288 with 1 Axes>"
      ]
     },
     "metadata": {
      "needs_background": "light"
     },
     "output_type": "display_data"
    }
   ],
   "source": [
    "##Increasing sample size\n",
    "\n",
    "sample_1 = np.random.choice(pop1,1000,replace=True)\n",
    "sample_2 = np.random.choice(pop2,1000,replace=True)\n",
    "\n",
    "\n",
    "s1_mean,s1_std = mean_and_std(sample_1)\n",
    "s2_mean,s2_std = mean_and_std(sample_2)\n",
    "\n",
    "##Creating histograms\n",
    "\n",
    "plt.hist(sample_1,alpha=0.5, label='Sample 1')\n",
    "plt.hist(sample_2,alpha=0.5, label='Sample 2')\n",
    "plt.title('Sample size = 1000')\n",
    "plt.legend(loc='upper right') \n",
    "plt.show()"
   ]
  },
  {
   "cell_type": "code",
   "execution_count": 168,
   "metadata": {},
   "outputs": [
    {
     "name": "stdout",
     "output_type": "stream",
     "text": [
      "Mean: 1.95\n",
      "Standard Deviation: 1.532155344604456\n",
      "Mean: 4.75\n",
      "Standard Deviation: 1.7284386017443605\n"
     ]
    },
    {
     "data": {
      "image/png": "[encoded data removed]",
      "text/plain": [
       "<Figure size 432x288 with 1 Axes>"
      ]
     },
     "metadata": {
      "needs_background": "light"
     },
     "output_type": "display_data"
    }
   ],
   "source": [
    "##Decreasing sample size\n",
    "\n",
    "sample_1 = np.random.choice(pop1,20,replace=True)\n",
    "sample_2 = np.random.choice(pop2,20,replace= True)\n",
    "\n",
    "s1_mean,s1_std = mean_and_std(sample_1)\n",
    "s2_mean,s2_std = mean_and_std(sample_2)\n",
    "\n",
    "\n",
    "plt.hist(sample_1,alpha=0.5, label='Sample 1')\n",
    "plt.hist(sample_2,alpha=0.5, label='Sample 2')\n",
    "plt.title('Sample size = 20')\n",
    "plt.legend(loc='upper right') \n",
    "plt.show()\n"
   ]
  },
  {
   "cell_type": "markdown",
   "metadata": {},
   "source": [
    "#### Means and standard deviation samples changed depends of sample size. The higher is the sample size the closer to the mean and sd population"
   ]
  },
  {
   "cell_type": "markdown",
   "metadata": {},
   "source": [
    "2. Change the probability value (p in the NumPy documentation) for pop1 to 0.3, then take new samples and compute the t-statistic and p-value. Then change the probability value p for group 1 to 0.4, and do it again. What changes, and why?"
   ]
  },
  {
   "cell_type": "code",
   "execution_count": 169,
   "metadata": {},
   "outputs": [
    {
     "name": "stdout",
     "output_type": "stream",
     "text": [
      "Mean: 2.9\n",
      "Standard Deviation: 1.5716233645501712\n",
      "Mean: 5.0\n",
      "Standard Deviation: 1.61245154965971\n",
      "t_value: 9.326427425370877\n",
      "T_value using ttest_ind : 9.279678121330662\n",
      "P_value using ttest_ind : 3.0438037158936774e-17\n"
     ]
    }
   ],
   "source": [
    "## Changing probability value for pop1 to 0.3\n",
    "\n",
    "pop1 = np.random.binomial(10,0.3,10000)\n",
    "pop2 = np.random.binomial(10,0.5,10000)\n",
    "\n",
    "##Taking new samples\n",
    "\n",
    "sample_1 = np.random.choice(pop1,100,replace=True)\n",
    "sample_2 = np.random.choice(pop2,100,replace=True)\n",
    "\n",
    "\n",
    "s1_mean,s1_std = mean_and_std(sample_1)\n",
    "s2_mean,s2_std = mean_and_std(sample_2)\n",
    "\n",
    "##Difference between samples above\n",
    "\n",
    "diff = s1_mean - s2_mean\n",
    "\n",
    "##Getting standard error of the difference\n",
    "\n",
    "\n",
    "se = (((s1_std ** 2)/100) + ((s2_std ** 2)/100)) ** 0.5\n",
    "\n",
    "##Getting T-value\n",
    "\n",
    "t_value = abs(diff / se)\n",
    "print('t_value: {}'.format(t_value))\n",
    "\n",
    "## using ttest_ind to get t-value and p-value\n",
    "\n",
    "from scipy.stats import ttest_ind\n",
    "\n",
    "tt_value, p_value = ttest_ind(sample_2, sample_1, equal_var=False)\n",
    "print('T_value using ttest_ind : {}'.format(tt_value) )\n",
    "print('P_value using ttest_ind : {}'.format(p_value) )"
   ]
  },
  {
   "cell_type": "code",
   "execution_count": 179,
   "metadata": {},
   "outputs": [
    {
     "name": "stdout",
     "output_type": "stream",
     "text": [
      "Mean: 4.04\n",
      "Standard Deviation: 1.618147088493503\n",
      "Mean: 4.93\n",
      "Standard Deviation: 1.505024916737261\n",
      "T_value using ttest_ind : 4.0072091276000394\n",
      "P_value using ttest_ind : 8.708818460696122e-05\n",
      "------------\n",
      "Mean: 4.24\n",
      "Standard Deviation: 1.6131955864060625\n",
      "Mean: 5.09\n",
      "Standard Deviation: 1.5433405327405871\n",
      "T_value using ttest_ind : 3.7882133995841456\n",
      "P_value using ttest_ind : 0.0002013309489697626\n",
      "------------\n",
      "Mean: 4.6\n",
      "Standard Deviation: 1.5362291495737217\n",
      "Mean: 5.04\n",
      "Standard Deviation: 1.6243152403397563\n",
      "T_value using ttest_ind : 1.9581897360198597\n",
      "P_value using ttest_ind : 0.05161682206170605\n"
     ]
    }
   ],
   "source": [
    "## Changing probability value for pop1 to 0.4\n",
    "\n",
    "pop1 = np.random.binomial(10,0.4,10000)\n",
    "pop2 = np.random.binomial(10,0.5,10000)\n",
    "\n",
    "##Taking new samples\n",
    "\n",
    "sample_1 = np.random.choice(pop1,100,replace=True)\n",
    "sample_2 = np.random.choice(pop2,100,replace=True)\n",
    "\n",
    "\n",
    "s1_mean,s1_std = mean_and_std(sample_1)\n",
    "s2_mean,s2_std = mean_and_std(sample_2)\n",
    "\n",
    "\n",
    "## using ttest_ind to get t-value and p-value\n",
    "\n",
    "from scipy.stats import ttest_ind\n",
    "\n",
    "tt_value, p_value = ttest_ind(sample_2, sample_1, equal_var=False)\n",
    "print('T_value using ttest_ind : {}'.format(tt_value) )\n",
    "print('P_value using ttest_ind : {}'.format((p_value)))\n",
    "\n",
    "print('------------')\n",
    "\n",
    "pop1 = np.random.binomial(10,0.44,10000)\n",
    "pop2 = np.random.binomial(10,0.5,10000)\n",
    "\n",
    "##Taking new samples\n",
    "\n",
    "sample_1 = np.random.choice(pop1,100,replace=True)\n",
    "sample_2 = np.random.choice(pop2,100,replace=True)\n",
    "\n",
    "\n",
    "s1_mean,s1_std = mean_and_std(sample_1)\n",
    "s2_mean,s2_std = mean_and_std(sample_2)\n",
    "\n",
    "\n",
    "## using ttest_ind to get t-value and p-value\n",
    "\n",
    "from scipy.stats import ttest_ind\n",
    "\n",
    "tt_value, p_value = ttest_ind(sample_2, sample_1, equal_var=False)\n",
    "print('T_value using ttest_ind : {}'.format(tt_value) )\n",
    "print('P_value using ttest_ind : {}'.format((p_value)))\n",
    "\n",
    "print('------------')\n",
    "\n",
    "pop1 = np.random.binomial(10,0.48,10000)\n",
    "pop2 = np.random.binomial(10,0.5,10000)\n",
    "\n",
    "##Taking new samples\n",
    "\n",
    "sample_1 = np.random.choice(pop1,100,replace=True)\n",
    "sample_2 = np.random.choice(pop2,100,replace=True)\n",
    "\n",
    "\n",
    "s1_mean,s1_std = mean_and_std(sample_1)\n",
    "s2_mean,s2_std = mean_and_std(sample_2)\n",
    "\n",
    "\n",
    "## using ttest_ind to get t-value and p-value\n",
    "\n",
    "from scipy.stats import ttest_ind\n",
    "\n",
    "tt_value, p_value = ttest_ind(sample_2, sample_1, equal_var=False)\n",
    "print('T_value using ttest_ind : {}'.format(tt_value) )\n",
    "print('P_value using ttest_ind : {}'.format((p_value)))"
   ]
  },
  {
   "cell_type": "markdown",
   "metadata": {},
   "source": [
    "#### What changes, and why? \n",
    "\n",
    "Based on numbers above, t_value decreases as the samples are more similar\n"
   ]
  },
  {
   "cell_type": "markdown",
   "metadata": {},
   "source": [
    "#### 3. Change the distribution of your populations from binomial to a distribution of your choice. Do the sample mean values still accurately represent the population values?"
   ]
  },
  {
   "cell_type": "code",
   "execution_count": 202,
   "metadata": {},
   "outputs": [
    {
     "name": "stdout",
     "output_type": "stream",
     "text": [
      "Population Means\n",
      "3.3338\n",
      "1.9948\n",
      "Sample Means\n",
      "Mean: 3.13\n",
      "Standard Deviation: 2.2300448425984625\n",
      "Mean: 2.14\n",
      "Standard Deviation: 1.2650691680694774\n"
     ]
    }
   ],
   "source": [
    "g1 = np.random.geometric(0.3, 10000)\n",
    "g2 = np.random.geometric(0.5, 10000)\n",
    "\n",
    "print('Population Means')\n",
    "print(g1.mean())\n",
    "print(g2.mean())\n",
    "\n",
    "sample_1 = np.random.choice(g1,100,replace=True)\n",
    "sample_2 = np.random.choice(g2,100,replace=True)\n",
    "\n",
    "print('Sample Means')\n",
    "s1_mean,s1_std = mean_and_std(sample_1)\n",
    "s2_mean,s2_std = mean_and_std(sample_2)\n",
    "\n"
   ]
  },
  {
   "cell_type": "markdown",
   "metadata": {},
   "source": [
    "Do the sample mean values still accurately represent the population values?  Yes. Means and standard deviation are similar"
   ]
  }
 ],
 "metadata": {
  "kernelspec": {
   "display_name": "Python 3",
   "language": "python",
   "name": "python3"
  },
  "language_info": {
   "codemirror_mode": {
    "name": "ipython",
    "version": 3
   },
   "file_extension": ".py",
   "mimetype": "text/x-python",
   "name": "python",
   "nbconvert_exporter": "python",
   "pygments_lexer": "ipython3",
   "version": "3.7.0"
  }
 },
 "nbformat": 4,
 "nbformat_minor": 2
}
