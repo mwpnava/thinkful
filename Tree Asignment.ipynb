{
 "cells": [
  {
   "cell_type": "markdown",
   "metadata": {},
   "source": [
    "## Trees Assignment\n",
    "\n",
    "Implement a binary tree, which is filled with 15 pieces of random data. Your job is to then write a program to traverse the tree using a breadth first traversal."
   ]
  },
  {
   "cell_type": "markdown",
   "metadata": {},
   "source": [
    "### Implement a binary tree"
   ]
  },
  {
   "cell_type": "code",
   "execution_count": 1,
   "metadata": {},
   "outputs": [],
   "source": [
    "class BinaryTree(object):\n",
    "    \n",
    "    def __init__(self, key): \n",
    "        self.data = key  \n",
    "        self.leftChild = None\n",
    "        self.rightChild = None\n",
    "\n",
    "    def insertLeft(self,newNode):\n",
    "        if self.leftChild == None:\n",
    "            self.leftChild = BinaryTree(newNode)\n",
    "        else:\n",
    "            t = BinaryTree(newNode)\n",
    "            t.leftChild = self.leftChild\n",
    "            self.leftChild = t\n",
    "\n",
    "    def insertRight(self,newNode):\n",
    "        if self.rightChild == None:\n",
    "            self.rightChild = BinaryTree(newNode)\n",
    "        else:\n",
    "            t = BinaryTree(newNode)\n",
    "            t.rightChild = self.rightChild\n",
    "            self.rightChild = t\n",
    "\n",
    "    def getRightChild(self):\n",
    "        return self.rightChild\n",
    "\n",
    "    def getLeftChild(self):\n",
    "        return self.leftChild\n",
    "\n",
    "    def setRootVal(self,obj):\n",
    "        self.key = obj\n",
    "\n",
    "    def getRootVal(self):\n",
    "        return self.key"
   ]
  },
  {
   "cell_type": "markdown",
   "metadata": {},
   "source": [
    "### Filling the tree "
   ]
  },
  {
   "cell_type": "code",
   "execution_count": 2,
   "metadata": {},
   "outputs": [],
   "source": [
    "\n",
    "t4 = BinaryTree(19)\n",
    "t4.leftChild = BinaryTree(7)\n",
    "t4.rightChild = BinaryTree(10)\n",
    "\n",
    "\n",
    "t5 = BinaryTree(17)\n",
    "t5.leftChild = BinaryTree(13)\n",
    "t5.rightChild = BinaryTree(4)\n",
    "\n",
    "t6 = BinaryTree(11)\n",
    "t6.leftChild = BinaryTree(5)\n",
    "t6.rightChild = BinaryTree(9)\n",
    "\n",
    "t7 = BinaryTree(5)\n",
    "t7.leftChild = BinaryTree(7)\n",
    "t7.rightChild = BinaryTree(15)\n",
    "\n",
    "\n",
    "\n",
    "t2 = BinaryTree(14)\n",
    "t2.leftChild = t4\n",
    "t2.rightChild = t5\n",
    "\n",
    "\n",
    "\n",
    "t3 = BinaryTree(1)\n",
    "t3.leftChild = t6\n",
    "t3.rightChild = t7\n",
    "\n",
    "\n",
    "t1 = BinaryTree(9)\n",
    "t1.leftChild = t2\n",
    "t1.rightChild = t3\n",
    "\n",
    "\n"
   ]
  },
  {
   "cell_type": "markdown",
   "metadata": {},
   "source": [
    "### Program to traverse the tree using a breadth first traversal."
   ]
  },
  {
   "cell_type": "code",
   "execution_count": 3,
   "metadata": {},
   "outputs": [],
   "source": [
    "# Function to  print level order traversal of tree \n",
    "def printLevelOrder(root): \n",
    "    \n",
    "    '''\n",
    "    Function that prints level order traversal of the tree\n",
    "    Arguments: Receive a root from tree or subtree\n",
    "    Return: none    \n",
    "    '''\n",
    "    \n",
    "    #print(type(root))\n",
    "    h = height(root) \n",
    "\n",
    "    for i in range(1, h+1): \n",
    "        printGivenLevel(root, i) \n",
    "\n",
    "        \n",
    "\n",
    "\n",
    "def printGivenLevel(root,level): \n",
    "    \n",
    "    '''\n",
    "    Prints node of a given level\n",
    "    Arguments: root and level\n",
    "    Returns: Printed left and right elements from the subtree or tree\n",
    "    '''\n",
    "    \n",
    "    if root is None: \n",
    "        return\n",
    "    if level == 1: \n",
    "        print('{}'.format(root.data)) \n",
    "        \n",
    "    elif level > 1 : \n",
    "        printGivenLevel(root.leftChild , level-1) \n",
    "        printGivenLevel(root.rightChild , level-1) \n",
    "\n",
    "\n",
    "\n",
    "\n",
    "def height(node): \n",
    "    \n",
    "    '''\n",
    "    Calculate the height of a # of nodes\n",
    "    on the longest path from root to thr\n",
    "    farthest leaf\n",
    "    \n",
    "    '''\n",
    "    \n",
    "    if node is None: \n",
    "        return 0 \n",
    "    else : \n",
    "        lheight = height(node.leftChild) \n",
    "        rheight = height(node.rightChild) \n",
    "        if lheight > rheight : \n",
    "            return lheight+1\n",
    "        else: \n",
    "            return rheight+1\n",
    "        \n"
   ]
  },
  {
   "cell_type": "markdown",
   "metadata": {},
   "source": [
    "![title](tree_print.png)"
   ]
  },
  {
   "cell_type": "code",
   "execution_count": 263,
   "metadata": {},
   "outputs": [
    {
     "name": "stdout",
     "output_type": "stream",
     "text": [
      "9\n",
      "14\n",
      "1\n",
      "19\n",
      "17\n",
      "11\n",
      "5\n",
      "7\n",
      "10\n",
      "13\n",
      "4\n",
      "5\n",
      "9\n",
      "7\n",
      "15\n"
     ]
    }
   ],
   "source": [
    "printLevelOrder(t1) "
   ]
  },
  {
   "cell_type": "code",
   "execution_count": 264,
   "metadata": {},
   "outputs": [],
   "source": []
  },
  {
   "cell_type": "code",
   "execution_count": null,
   "metadata": {},
   "outputs": [],
   "source": []
  }
 ],
 "metadata": {
  "kernelspec": {
   "display_name": "Python 3",
   "language": "python",
   "name": "python3"
  },
  "language_info": {
   "codemirror_mode": {
    "name": "ipython",
    "version": 3
   },
   "file_extension": ".py",
   "mimetype": "text/x-python",
   "name": "python",
   "nbconvert_exporter": "python",
   "pygments_lexer": "ipython3",
   "version": "3.7.0"
  }
 },
 "nbformat": 4,
 "nbformat_minor": 2
}
